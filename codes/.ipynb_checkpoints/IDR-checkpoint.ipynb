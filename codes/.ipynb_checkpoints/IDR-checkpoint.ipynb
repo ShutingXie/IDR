{
 "cells": [
  {
   "cell_type": "code",
   "execution_count": 1,
   "id": "c85750e7",
   "metadata": {},
   "outputs": [],
   "source": [
    "import numpy as np\n",
    "import pandas as pd\n",
    "import os\n",
    "import glob"
   ]
  },
  {
   "cell_type": "code",
   "execution_count": 2,
   "id": "b50758c0",
   "metadata": {},
   "outputs": [],
   "source": [
    "# High_AUC_PPV_FUNCTIONS = pd.read_csv(\"High_AUC_PPV_FUNCTIONS.txt\", sep=\"\\t\")\n",
    "# High_AUC_PPV_FUNCTIONS"
   ]
  },
  {
   "cell_type": "code",
   "execution_count": 3,
   "id": "c2e0f41d",
   "metadata": {},
   "outputs": [],
   "source": [
    "# Top_148_test_union_function_groups = pd.read_csv(\"Top_148_test_union_function_groups.txt\", sep=\"\\t\")\n",
    "# Top_148_test_union_function_groups"
   ]
  },
  {
   "cell_type": "markdown",
   "id": "86e1562d",
   "metadata": {},
   "source": [
    "### If needed, remember to change the permission of files and folders"
   ]
  },
  {
   "cell_type": "markdown",
   "id": "abe952b8",
   "metadata": {},
   "source": [
    "## Protein file"
   ]
  },
  {
   "cell_type": "code",
   "execution_count": 4,
   "id": "a9852a7e",
   "metadata": {},
   "outputs": [],
   "source": [
    "def create_protein_filter_list(protein_file_name, protein_cutoff_value):\n",
    "    protein_df = pd.read_csv(protein_file_name,  names = [\"Protein_name\",\"Score\"], header=0, index_col=0)\n",
    "    protein_filter = protein_df[protein_df['Score'] > protein_cutoff_value]\n",
    "    return protein_filter"
   ]
  },
  {
   "cell_type": "markdown",
   "id": "6cdbdb7c",
   "metadata": {},
   "source": [
    "### In the protein file, max = 0.25, see the question from email"
   ]
  },
  {
   "cell_type": "markdown",
   "id": "81c95af5",
   "metadata": {},
   "source": [
    "## IDR file"
   ]
  },
  {
   "cell_type": "code",
   "execution_count": 5,
   "id": "dc4ed4f1",
   "metadata": {},
   "outputs": [],
   "source": [
    "# https://plotly.com/python/v3/html-reports/#generate-html-reports-with-d3-graphsusing-python-plotly-and-pandas\n",
    "def create_IDR_filter_list(IDR_file_name, IDR_cutoff_value, filtered_protein_name):\n",
    "    IDR_df = pd.read_csv(IDR_file_name, names = [\"Protein IDR\",\"Score\"], header=0)\n",
    "    \n",
    "    filter_IDRs = pd.DataFrame()\n",
    "    for p_name in filtered_protein_name:\n",
    "        for IDR_name in IDR_df[\"Protein IDR\"].values:\n",
    "            if p_name in IDR_name:\n",
    "                s2 = IDR_df[IDR_df[\"Protein IDR\"] == IDR_name]\n",
    "                filter_IDRs = pd.concat([filter_IDRs, s2], ignore_index=True)\n",
    "\n",
    "    filter_IDRs = filter_IDRs[filter_IDRs[\"Score\"] > IDR_cutoff_value]\n",
    "    \n",
    "    # Split GO_term string in order to let user understand the meaning of each column\n",
    "    # https://stackoverflow.com/questions/14745022/how-to-split-a-dataframe-string-column-into-two-columns\n",
    "    # n=the number of columns you expect\n",
    "    filter_IDRs[['UniProtID', 'Redundancy', 'The beginning position of IDR', 'The ending position of IDR']] = filter_IDRs['Protein IDR'].str.split('_', n=4, expand=True)\n",
    "    filter_IDRs = filter_IDRs.drop(columns=['Protein IDR', 'Redundancy'])\n",
    "    filter_IDRs = filter_IDRs[['UniProtID', 'The beginning position of IDR', 'The ending position of IDR', 'Score']]\n",
    "    \n",
    "    # hold two digits after the decimal points\n",
    "    filter_IDRs[\"Score\"] = filter_IDRs[\"Score\"].astype(float)\n",
    "    filter_IDRs[\"Score\"] = filter_IDRs[\"Score\"].round(2)\n",
    "    \n",
    "    # rename \"Score\"\n",
    "    filter_IDRs = filter_IDRs.rename(columns={\"Score\": \"The probability of the association between the IDR and the function\"})\n",
    "    \n",
    "    html_filter_IDRs = filter_IDRs.to_html(index=False).replace('<table border=\"1\" class=\"dataframe\">','<table class=\"table table-striped\">')\n",
    "    html_filter_IDRs = html_filter_IDRs.replace('<td>', '<td style=\"text-align: center;\">') # center text\n",
    "    html_filter_IDRs= html_filter_IDRs.replace('<th>', '<th style=\"text-align: center;\">') # center column names\n",
    "    return html_filter_IDRs "
   ]
  },
  {
   "cell_type": "markdown",
   "id": "3269fae0",
   "metadata": {},
   "source": [
    "## Features"
   ]
  },
  {
   "cell_type": "code",
   "execution_count": 6,
   "id": "44e6b474",
   "metadata": {},
   "outputs": [],
   "source": [
    "def create_feature_filter_list(feature_file_name):\n",
    "    feature_df = pd.read_csv(feature_file_name, names = [\"Feature name\",\"Score\"])\n",
    "    filter_features = feature_df.dropna()\n",
    "    \n",
    "    # hold two digits after the decimal points\n",
    "    filter_features[\"Score\"] = filter_features[\"Score\"].astype(float)\n",
    "    filter_features[\"Score\"] = filter_features[\"Score\"].round(2)\n",
    "    \n",
    "    # rename \"Score\"\n",
    "    filter_features = filter_features.rename(columns={\"Score\": \"The strength and direction of association with function for each molecular feature\"})    \n",
    "    \n",
    "    html_filter_features = filter_features.to_html(index=False).replace('<table border=\"1\" class=\"dataframe\">','<table class=\"table table-striped\">')\n",
    "    html_filter_features = html_filter_features.replace('<td>', '<td style=\"text-align: center;\">') # center text\n",
    "    html_filter_features = html_filter_features.replace('<th>', '<th style=\"text-align: center;\">') # center column names\n",
    "    return html_filter_features"
   ]
  },
  {
   "cell_type": "markdown",
   "id": "82010c5f",
   "metadata": {},
   "source": [
    "## HTML"
   ]
  },
  {
   "cell_type": "code",
   "execution_count": 7,
   "id": "2f2152b6",
   "metadata": {},
   "outputs": [],
   "source": [
    "# refer to https://plotly.com/python/v3/html-reports/#generate-html-reports-with-d3-graphsusing-python-plotly-and-pandas\n",
    "def convert_to_HTML_format(filter_IDRs, filter_features, function_name):\n",
    "    html_string = '''\n",
    "    <html>\n",
    "        <head>\n",
    "            <link rel=\"stylesheet\" href=\"https://maxcdn.bootstrapcdn.com/bootstrap/3.3.1/css/bootstrap.min.css\">\n",
    "            <style>body{ margin:0 100; background:whitesmoke; }</style>\n",
    "        </head>\n",
    "        <body>\n",
    "            <h1>Group/Function: ''' + function_name + '''</h1>\n",
    "\n",
    "            <!-- *** Two Lists *** --->\n",
    "            <h2>IDRs List</h2>\n",
    "            ''' + filter_IDRs + '''\n",
    "\n",
    "            <h2>Features List</h2>\n",
    "            ''' + filter_features + '''\n",
    "        </body>\n",
    "    </html>'''\n",
    "\n",
    "    open_path = f'../webpages/{function_name}.html' # put a variable within a string\n",
    "    f = open(open_path,'w')\n",
    "    f.write(html_string)\n",
    "    f.close()"
   ]
  },
  {
   "cell_type": "markdown",
   "id": "9f42a22a",
   "metadata": {},
   "source": [
    "# Functions"
   ]
  },
  {
   "cell_type": "markdown",
   "id": "59d03380",
   "metadata": {},
   "source": [
    "## Automatically read each csv file in one folder"
   ]
  },
  {
   "cell_type": "markdown",
   "id": "a8684dd1",
   "metadata": {},
   "source": [
    "### There is huge differences between using severl \"if\" and \"if, elif, else\""
   ]
  },
  {
   "cell_type": "code",
   "execution_count": 8,
   "id": "8cf93e90",
   "metadata": {},
   "outputs": [
    {
     "name": "stdout",
     "output_type": "stream",
     "text": [
      "0\n"
     ]
    }
   ],
   "source": [
    "path = os.getcwd()\n",
    "csv_files = glob.glob(os.path.join(path, \"*.csv\"))\n",
    "print(len(csv_files))\n",
    "  \n",
    "num = 0\n",
    "# loop over the list of csv files\n",
    "for f in csv_files:\n",
    "    \n",
    "    protein_filter = pd.DataFrame([])\n",
    "    filter_IDRs = pd.DataFrame([])\n",
    "    filter_features = pd.DataFrame([])\n",
    "    print(\"num:\\t\", num)\n",
    "    \n",
    "    # read the first csv file\n",
    "    if num == 0:\n",
    "        df_post_filename = f.split(\"/\")[-1]\n",
    "        num += 1\n",
    "    \n",
    "    # read the second csv file\n",
    "    elif num == 1:\n",
    "        df_pred_filename = f.split(\"/\")[-1]\n",
    "        num += 1\n",
    "        \n",
    "    # read the third csv file\n",
    "    else:\n",
    "        df_stat_filename = f.split(\"/\")[-1]\n",
    "        num = 0\n",
    "        \n",
    "        # so far, read all files of one function\n",
    "        # print(\"Group:\\t\", df_post_filename, df_pred_filename, df_stat_filename, \"\\t\")\n",
    "        \n",
    "        # step1: protein\n",
    "        protein_file_name = df_pred_filename\n",
    "        protein_cutoff_value = 0.15\n",
    "        protein_filter = create_protein_filter_list(protein_file_name, protein_cutoff_value)\n",
    "        filtered_protein_name = protein_filter.index.values\n",
    "        print (\"Protein\\n\", filtered_protein_name)\n",
    "\n",
    "        # step2: IDRs\n",
    "        IDR_file_name = df_post_filename\n",
    "        IDR_cutoff_value = 0.5\n",
    "        html_filter_IDRs = create_IDR_filter_list(IDR_file_name, IDR_cutoff_value, filtered_protein_name)\n",
    "        # print(\"IDR\\n\", filter_IDRs)\n",
    "\n",
    "        # step3: features\n",
    "        feature_file_name = df_stat_filename\n",
    "        html_filter_features = create_feature_filter_list(feature_file_name)\n",
    "        # print(\"Feature\\n\", filter_features)\n",
    "\n",
    "        # step4: HTML\n",
    "        function_name = df_pred_filename.split()[0]\n",
    "        function_name = function_name[:-1]\n",
    "        convert_to_HTML_format(html_filter_IDRs, html_filter_features, function_name)"
   ]
  },
  {
   "cell_type": "code",
   "execution_count": null,
   "id": "09ba56b8",
   "metadata": {},
   "outputs": [],
   "source": []
  }
 ],
 "metadata": {
  "kernelspec": {
   "display_name": "Python 3 (ipykernel)",
   "language": "python",
   "name": "python3"
  },
  "language_info": {
   "codemirror_mode": {
    "name": "ipython",
    "version": 3
   },
   "file_extension": ".py",
   "mimetype": "text/x-python",
   "name": "python",
   "nbconvert_exporter": "python",
   "pygments_lexer": "ipython3",
   "version": "3.10.6"
  }
 },
 "nbformat": 4,
 "nbformat_minor": 5
}
