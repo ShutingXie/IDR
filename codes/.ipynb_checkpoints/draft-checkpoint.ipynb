{
 "cells": [
  {
   "cell_type": "code",
   "execution_count": 1,
   "id": "8c69b3fb",
   "metadata": {},
   "outputs": [],
   "source": [
    "import numpy as np\n",
    "import pandas as pd\n",
    "import os\n",
    "import glob\n",
    "import requests"
   ]
  },
  {
   "cell_type": "code",
   "execution_count": 17,
   "id": "33d756e9",
   "metadata": {},
   "outputs": [
    {
     "name": "stdout",
     "output_type": "stream",
     "text": [
      "['/home/shuting/IDRs/Files/GO0003682_chromatin_binding_ PostIDR.csv', '/home/shuting/IDRs/Files/GO0003682_chromatin_binding_ Pred_df.csv', '/home/shuting/IDRs/Files/GO0003682_chromatin_binding_ Tstats_df.csv', '/home/shuting/IDRs/Files/GO0005730_nucleolus_ PostIDR.csv', '/home/shuting/IDRs/Files/GO0005730_nucleolus_ Pred_df.csv', '/home/shuting/IDRs/Files/GO0005730_nucleolus_ Tstats_df.csv', '/home/shuting/IDRs/Files/GO0030312_external_encapsulating_structure_ PostIDR.csv', '/home/shuting/IDRs/Files/GO0030312_external_encapsulating_structure_ Pred_df.csv', '/home/shuting/IDRs/Files/GO0030312_external_encapsulating_structure_ Tstats_df.csv', '/home/shuting/IDRs/Files/GO0031012_extracellular_matrix_ PostIDR.csv', '/home/shuting/IDRs/Files/GO0031012_extracellular_matrix_ Pred_df.csv', '/home/shuting/IDRs/Files/GO0031012_extracellular_matrix_ Tstats_df.csv', '/home/shuting/IDRs/Files/GO0042393_histone_binding_ PostIDR.csv', '/home/shuting/IDRs/Files/GO0042393_histone_binding_ Pred_df.csv', '/home/shuting/IDRs/Files/GO0042393_histone_binding_ Tstats_df.csv']\n"
     ]
    }
   ],
   "source": [
    "# use glob to get all the csv files \n",
    "# in the folder\n",
    "path = os.getcwd()\n",
    "csv_files = glob.glob(os.path.join(path, \"Files\", \"*.csv\"))\n",
    "num = 0\n",
    "\n",
    "print(csv_files)"
   ]
  },
  {
   "cell_type": "code",
   "execution_count": null,
   "id": "a0c8a699",
   "metadata": {},
   "outputs": [],
   "source": [
    "# loop over the list of csv files\n",
    "for f in csv_files:\n",
    "    \n",
    "    # read the csv file\n",
    "    df = pd.read_csv(f)\n",
    "      \n",
    "    # print the location and filename\n",
    "    print('Location:', f)\n",
    "    print('File Name:', f.split(\"\\\\\")[-1])\n",
    "    # print the content\n",
    "    print('Content:')\n",
    "    display(df)\n",
    "    print()\n",
    "    \n",
    "    num +=1"
   ]
  },
  {
   "cell_type": "code",
   "execution_count": 16,
   "id": "585cbefc",
   "metadata": {},
   "outputs": [
    {
     "data": {
      "text/plain": [
       "15"
      ]
     },
     "execution_count": 16,
     "metadata": {},
     "output_type": "execute_result"
    }
   ],
   "source": [
    "num"
   ]
  },
  {
   "cell_type": "code",
   "execution_count": 18,
   "id": "042b79c4",
   "metadata": {},
   "outputs": [],
   "source": [
    "name = \"GO0003682_chromatin_binding_ PostIDR.csv\""
   ]
  },
  {
   "cell_type": "code",
   "execution_count": 24,
   "id": "78d34c40",
   "metadata": {},
   "outputs": [
    {
     "data": {
      "text/plain": [
       "['GO0003682_chromatin_binding_', 'PostIDR.csv']"
      ]
     },
     "execution_count": 24,
     "metadata": {},
     "output_type": "execute_result"
    }
   ],
   "source": [
    "name_split = name.split()\n",
    "name_split"
   ]
  },
  {
   "cell_type": "code",
   "execution_count": 25,
   "id": "93c46ce5",
   "metadata": {},
   "outputs": [
    {
     "data": {
      "text/plain": [
       "'GO0003682_chromatin_binding_'"
      ]
     },
     "execution_count": 25,
     "metadata": {},
     "output_type": "execute_result"
    }
   ],
   "source": [
    "name_split[0]"
   ]
  },
  {
   "cell_type": "code",
   "execution_count": null,
   "id": "59e6df34",
   "metadata": {},
   "outputs": [],
   "source": []
  },
  {
   "cell_type": "code",
   "execution_count": null,
   "id": "ea5b4d61",
   "metadata": {},
   "outputs": [],
   "source": []
  },
  {
   "cell_type": "code",
   "execution_count": null,
   "id": "ea73fb51",
   "metadata": {},
   "outputs": [],
   "source": []
  },
  {
   "cell_type": "code",
   "execution_count": 61,
   "id": "fad99bbe",
   "metadata": {},
   "outputs": [
    {
     "name": "stdout",
     "output_type": "stream",
     "text": [
      "<class 'dict'>\n"
     ]
    }
   ],
   "source": [
    "######################## Do not delete ##################################\n",
    "######################## Example fron ebi API ####################################\n",
    "############ https://www.ebi.ac.uk/proteins/api/doc/exampleScripts.html ###########\n",
    "import requests, sys\n",
    "\n",
    "requestURL = \"https://www.ebi.ac.uk/proteins/api/proteins?offset=0&size=100&accession=P21802\"\n",
    "\n",
    "r = requests.get(requestURL, headers={ \"Accept\" : \"application/json\"})\n",
    "\n",
    "if not r.ok:\n",
    "    r.raise_for_status()\n",
    "    sys.exit()\n",
    "\n",
    "responseBody = r.json()\n",
    "print(type(responseBody[0]))"
   ]
  },
  {
   "cell_type": "code",
   "execution_count": null,
   "id": "00474952",
   "metadata": {},
   "outputs": [],
   "source": []
  },
  {
   "cell_type": "code",
   "execution_count": null,
   "id": "d23136e0",
   "metadata": {},
   "outputs": [],
   "source": []
  },
  {
   "cell_type": "code",
   "execution_count": null,
   "id": "593005ca",
   "metadata": {},
   "outputs": [],
   "source": []
  },
  {
   "cell_type": "code",
   "execution_count": null,
   "id": "3144cfe7",
   "metadata": {},
   "outputs": [],
   "source": []
  },
  {
   "cell_type": "code",
   "execution_count": null,
   "id": "ff06ca3a",
   "metadata": {},
   "outputs": [],
   "source": []
  },
  {
   "cell_type": "code",
   "execution_count": 2,
   "id": "1d7737b5",
   "metadata": {},
   "outputs": [],
   "source": [
    "protein_file_name = \"../statistics_data/GO0000280_nuclear_division_ Pred_df.csv\"\n",
    "IDR_file_name = \"../statistics_data/GO0000280_nuclear_division_ PostIDR.csv\"\n",
    "IDR_cutoff_value1 = 0.5\n",
    "IDR_cutoff_value2 = 0.6"
   ]
  },
  {
   "cell_type": "code",
   "execution_count": 3,
   "id": "1081a8d4",
   "metadata": {},
   "outputs": [],
   "source": [
    "def create_protein_filter_list(protein_file_name):\n",
    "    protein_df = pd.read_csv(protein_file_name,  names = [\"Protein_name\",\"Score\"], header=0, index_col=0)\n",
    "    # protein_filter = protein_df[protein_df['Score'] > protein_cutoff_value]\n",
    "    \n",
    "    # choose top 20 proteins in each pred file\n",
    "    protein_df[\"Rank\"] = protein_df[\"Score\"].rank(ascending=False) \n",
    "    protein_df = protein_df.sort_values(\"Rank\")\n",
    "    protein_filter = protein_df.head(20)\n",
    "    return protein_filter"
   ]
  },
  {
   "cell_type": "code",
   "execution_count": 4,
   "id": "eefb456e",
   "metadata": {},
   "outputs": [
    {
     "name": "stdout",
     "output_type": "stream",
     "text": [
      "['Q56NI9' 'Q8WYP5' 'O43663' 'P35251' 'Q69YH5' 'Q99741' 'P46013' 'P10243'\n",
      " 'P10244' 'Q8NI77' 'Q14207' 'Q96T88' 'O76021' 'Q7RTP6' 'Q14680' 'Q8WWL7'\n",
      " 'P18583' 'Q9UPQ0' 'Q5UIP0' 'Q86T82']\n"
     ]
    }
   ],
   "source": [
    "protein_filter = create_protein_filter_list(protein_file_name)\n",
    "filtered_protein_name = protein_filter.index.values\n",
    "print(filtered_protein_name)"
   ]
  },
  {
   "cell_type": "code",
   "execution_count": 5,
   "id": "f298c664",
   "metadata": {},
   "outputs": [],
   "source": [
    "def compute_IDR_num(filter_IDRs):\n",
    "    count_dict = dict()\n",
    "    for ID in filter_IDRs[\"UniProtID\"]:\n",
    "        if ID in count_dict:\n",
    "            count_dict[ID] += 1\n",
    "        else:\n",
    "            count_dict[ID] = 1\n",
    "\n",
    "    count_list = []\n",
    "    for ID in filter_IDRs[\"UniProtID\"]:\n",
    "        if ID in count_dict:\n",
    "            count_list.append(count_dict.get(ID))\n",
    "    filter_IDRs[\"The number of IDRs in each protein\"] = count_list\n",
    "    return count_list"
   ]
  },
  {
   "cell_type": "code",
   "execution_count": 6,
   "id": "5becd5d8",
   "metadata": {},
   "outputs": [],
   "source": [
    "def get_protein_name(query):\n",
    "    base_url = \"https://www.ebi.ac.uk/proteins/api/{}\"\n",
    "    url = base_url.format(query)\n",
    "#     print(\"URL:\", url)\n",
    "    \n",
    "    try:\n",
    "        response = requests.get(url, headers={ \"Accept\" : \"application/json\"})\n",
    "#         print(\"Status code:\", response.raise_for_status())  # Check for errors: None == 200\n",
    "        \n",
    "        data_list = response.json()\n",
    "#         print(type(data_list))\n",
    "        data_dict = data_list[0]\n",
    "#         print(type(data_dict))\n",
    "        \n",
    "        protein_name = data_dict.get('protein').get('recommendedName').get('fullName').get('value')\n",
    "        return protein_name\n",
    "    except requests.exceptions.RequestException as e:\n",
    "        print(\"Error:\", e)\n",
    "        return None\n",
    "\n",
    "def get_protein_name_list(uniprot_id_list):\n",
    "    protein_name_list = []\n",
    "    for uniprot_id in uniprot_id_list:\n",
    "        query = \"proteins?offset=0&accession=\" + uniprot_id\n",
    "        protein_name = get_protein_name(query)\n",
    "        protein_name_list.append(protein_name)\n",
    "    return protein_name_list"
   ]
  },
  {
   "cell_type": "code",
   "execution_count": 35,
   "id": "0b6719f8",
   "metadata": {},
   "outputs": [],
   "source": [
    "# https://plotly.com/python/v3/html-reports/#generate-html-reports-with-d3-graphsusing-python-plotly-and-pandas\n",
    "def create_IDR_filter_list(IDR_file_name, IDR_cutoff_value1, IDR_cutoff_value2, filtered_protein_name):\n",
    "    IDR_df = pd.read_csv(IDR_file_name, names = [\"Protein IDR\",\"Score\"], header=0)\n",
    "    \n",
    "    # Split GO_term string in order to let user understand the meaning of each column\n",
    "    # https://stackoverflow.com/questions/14745022/how-to-split-a-dataframe-string-column-into-two-columns\n",
    "    # n=the number of columns you expect\n",
    "    IDR_df[['UniProtID', 'Redundancy', 'Begin', 'End']] = IDR_df['Protein IDR'].str.split('_', n=4, expand=True)\n",
    "    \n",
    "    # combine the \"beginning position\" and \"end position\" columns\n",
    "    IDR_df[\"The beginning and ending positions of IDR\"] = IDR_df['Begin'].astype(str) +\"-\"+ IDR_df[\"End\"]\n",
    "    \n",
    "    \n",
    "    filter_IDRs = pd.DataFrame()\n",
    "    for p_name in filtered_protein_name:\n",
    "        for IDR_name in IDR_df[\"Protein IDR\"].values:\n",
    "            if p_name in IDR_name:\n",
    "                s2 = IDR_df[IDR_df[\"Protein IDR\"] == IDR_name]\n",
    "                filter_IDRs = pd.concat([filter_IDRs, s2], ignore_index=True)\n",
    "                \n",
    "    # compute the total numbe of IDRs in each protein            \n",
    "    count_list = compute_IDR_num(filter_IDRs)\n",
    "    filter_IDRs[\"The number of IDRs in each protein\"] = count_list\n",
    "    \n",
    "    # remove all IDRs whose score <= 0.5\n",
    "    filter_IDRs = filter_IDRs[filter_IDRs[\"Score\"] > IDR_cutoff_value1]\n",
    "    \n",
    "    # remove useless columns\n",
    "    filter_IDRs = filter_IDRs.drop(columns=['Protein IDR', 'Redundancy', 'Begin', 'End'])\n",
    "    \n",
    "    # rename columns in order to make them more understandable\n",
    "    filter_IDRs = filter_IDRs[['UniProtID', 'The beginning and ending positions of IDR', 'Score', 'The number of IDRs in each protein']]\n",
    "    \n",
    "    # if the protein has more than 2 IDRs, remove IDRs whose score <= 0.6\n",
    "    temp_df = filter_IDRs[filter_IDRs[\"The number of IDRs in each protein\"]>2]\n",
    "    filter_IDRs = filter_IDRs.drop((temp_df[\"Score\"] < 0.6).index.values)\n",
    "    \n",
    "    # hold two digits after the decimal points\n",
    "#     filter_IDRs[\"Score\"] = filter_IDRs[\"Score\"].astype(float)\n",
    "#     filter_IDRs[\"Score\"] = filter_IDRs[\"Score\"].round(2)\n",
    "    \n",
    "    # rename \"Score\"\n",
    "#     filter_IDRs = filter_IDRs.rename(columns={\"Score\": \"The probability of the association between the IDR and the function\"})\n",
    "    \n",
    "    # remove the \"Score\" column since their probabilities are amostly 1, so not very informative/interesting\n",
    "    filter_IDRs = filter_IDRs.drop(columns=['Score'])\n",
    "    \n",
    "    # add protein name column\n",
    "    uniprot_id_list = filter_IDRs[\"UniProtID\"]\n",
    "    protein_name_list = get_protein_name_list(uniprot_id_list)\n",
    "    filter_IDRs.insert(1, \"Protein name\", protein_name_list)\n",
    "\n",
    "    html_filter_IDRs = filter_IDRs.to_html(index=False).replace('<table border=\"1\" class=\"dataframe\">','<table class=\"table table-striped\">')\n",
    "    html_filter_IDRs = html_filter_IDRs.replace('<td>', '<td style=\"text-align: center;\">') # center text\n",
    "    html_filter_IDRs= html_filter_IDRs.replace('<th>', '<th style=\"text-align: center;\">') # center column names\n",
    "    return filter_IDRs"
   ]
  },
  {
   "cell_type": "code",
   "execution_count": 36,
   "id": "2b78ee78",
   "metadata": {},
   "outputs": [
    {
     "data": {
      "text/html": [
       "<div>\n",
       "<style scoped>\n",
       "    .dataframe tbody tr th:only-of-type {\n",
       "        vertical-align: middle;\n",
       "    }\n",
       "\n",
       "    .dataframe tbody tr th {\n",
       "        vertical-align: top;\n",
       "    }\n",
       "\n",
       "    .dataframe thead th {\n",
       "        text-align: right;\n",
       "    }\n",
       "</style>\n",
       "<table border=\"1\" class=\"dataframe\">\n",
       "  <thead>\n",
       "    <tr style=\"text-align: right;\">\n",
       "      <th></th>\n",
       "      <th>UniProtID</th>\n",
       "      <th>Protein name</th>\n",
       "      <th>The beginning and ending positions of IDR</th>\n",
       "      <th>The number of IDRs in each protein</th>\n",
       "    </tr>\n",
       "  </thead>\n",
       "  <tbody>\n",
       "    <tr>\n",
       "      <th>0</th>\n",
       "      <td>Q56NI9</td>\n",
       "      <td>N-acetyltransferase ESCO2</td>\n",
       "      <td>1-370</td>\n",
       "      <td>1</td>\n",
       "    </tr>\n",
       "    <tr>\n",
       "      <th>1</th>\n",
       "      <td>Q8WYP5</td>\n",
       "      <td>Protein ELYS</td>\n",
       "      <td>1008-2266</td>\n",
       "      <td>1</td>\n",
       "    </tr>\n",
       "    <tr>\n",
       "      <th>2</th>\n",
       "      <td>O43663</td>\n",
       "      <td>Protein regulator of cytokinesis 1</td>\n",
       "      <td>441-620</td>\n",
       "      <td>1</td>\n",
       "    </tr>\n",
       "    <tr>\n",
       "      <th>6</th>\n",
       "      <td>Q69YH5</td>\n",
       "      <td>Cell division cycle-associated protein 2</td>\n",
       "      <td>1-1023</td>\n",
       "      <td>1</td>\n",
       "    </tr>\n",
       "    <tr>\n",
       "      <th>7</th>\n",
       "      <td>Q99741</td>\n",
       "      <td>Cell division control protein 6 homolog</td>\n",
       "      <td>1-152</td>\n",
       "      <td>1</td>\n",
       "    </tr>\n",
       "    <tr>\n",
       "      <th>8</th>\n",
       "      <td>P46013</td>\n",
       "      <td>Proliferation marker protein Ki-67</td>\n",
       "      <td>98-3256</td>\n",
       "      <td>1</td>\n",
       "    </tr>\n",
       "    <tr>\n",
       "      <th>12</th>\n",
       "      <td>P10244</td>\n",
       "      <td>Myb-related protein B</td>\n",
       "      <td>178-658</td>\n",
       "      <td>1</td>\n",
       "    </tr>\n",
       "    <tr>\n",
       "      <th>13</th>\n",
       "      <td>Q8NI77</td>\n",
       "      <td>Kinesin-like protein KIF18A</td>\n",
       "      <td>617-898</td>\n",
       "      <td>1</td>\n",
       "    </tr>\n",
       "    <tr>\n",
       "      <th>14</th>\n",
       "      <td>Q14207</td>\n",
       "      <td>Protein NPAT</td>\n",
       "      <td>72-1411</td>\n",
       "      <td>1</td>\n",
       "    </tr>\n",
       "    <tr>\n",
       "      <th>15</th>\n",
       "      <td>Q96T88</td>\n",
       "      <td>E3 ubiquitin-protein ligase UHRF1</td>\n",
       "      <td>593-675</td>\n",
       "      <td>2</td>\n",
       "    </tr>\n",
       "    <tr>\n",
       "      <th>17</th>\n",
       "      <td>O76021</td>\n",
       "      <td>Ribosomal L1 domain-containing protein 1</td>\n",
       "      <td>275-490</td>\n",
       "      <td>1</td>\n",
       "    </tr>\n",
       "    <tr>\n",
       "      <th>19</th>\n",
       "      <td>Q7RTP6</td>\n",
       "      <td>[F-actin]-monooxygenase MICAL3</td>\n",
       "      <td>822-1894</td>\n",
       "      <td>2</td>\n",
       "    </tr>\n",
       "    <tr>\n",
       "      <th>20</th>\n",
       "      <td>Q14680</td>\n",
       "      <td>Maternal embryonic leucine zipper kinase</td>\n",
       "      <td>328-560</td>\n",
       "      <td>1</td>\n",
       "    </tr>\n",
       "    <tr>\n",
       "      <th>21</th>\n",
       "      <td>Q8WWL7</td>\n",
       "      <td>G2/mitotic-specific cyclin-B3</td>\n",
       "      <td>1-1115</td>\n",
       "      <td>1</td>\n",
       "    </tr>\n",
       "    <tr>\n",
       "      <th>22</th>\n",
       "      <td>P18583</td>\n",
       "      <td>Protein SON</td>\n",
       "      <td>21-2228</td>\n",
       "      <td>1</td>\n",
       "    </tr>\n",
       "    <tr>\n",
       "      <th>23</th>\n",
       "      <td>Q9UPQ0</td>\n",
       "      <td>LIM and calponin homology domains-containing p...</td>\n",
       "      <td>186-1009</td>\n",
       "      <td>1</td>\n",
       "    </tr>\n",
       "    <tr>\n",
       "      <th>24</th>\n",
       "      <td>Q5UIP0</td>\n",
       "      <td>Telomere-associated protein RIF1</td>\n",
       "      <td>958-2414</td>\n",
       "      <td>1</td>\n",
       "    </tr>\n",
       "    <tr>\n",
       "      <th>25</th>\n",
       "      <td>Q86T82</td>\n",
       "      <td>Ubiquitin carboxyl-terminal hydrolase 37</td>\n",
       "      <td>108-339</td>\n",
       "      <td>2</td>\n",
       "    </tr>\n",
       "  </tbody>\n",
       "</table>\n",
       "</div>"
      ],
      "text/plain": [
       "   UniProtID                                       Protein name  \\\n",
       "0     Q56NI9                          N-acetyltransferase ESCO2   \n",
       "1     Q8WYP5                                       Protein ELYS   \n",
       "2     O43663                 Protein regulator of cytokinesis 1   \n",
       "6     Q69YH5           Cell division cycle-associated protein 2   \n",
       "7     Q99741            Cell division control protein 6 homolog   \n",
       "8     P46013                 Proliferation marker protein Ki-67   \n",
       "12    P10244                              Myb-related protein B   \n",
       "13    Q8NI77                        Kinesin-like protein KIF18A   \n",
       "14    Q14207                                       Protein NPAT   \n",
       "15    Q96T88                  E3 ubiquitin-protein ligase UHRF1   \n",
       "17    O76021           Ribosomal L1 domain-containing protein 1   \n",
       "19    Q7RTP6                     [F-actin]-monooxygenase MICAL3   \n",
       "20    Q14680           Maternal embryonic leucine zipper kinase   \n",
       "21    Q8WWL7                      G2/mitotic-specific cyclin-B3   \n",
       "22    P18583                                        Protein SON   \n",
       "23    Q9UPQ0  LIM and calponin homology domains-containing p...   \n",
       "24    Q5UIP0                   Telomere-associated protein RIF1   \n",
       "25    Q86T82           Ubiquitin carboxyl-terminal hydrolase 37   \n",
       "\n",
       "   The beginning and ending positions of IDR  \\\n",
       "0                                      1-370   \n",
       "1                                  1008-2266   \n",
       "2                                    441-620   \n",
       "6                                     1-1023   \n",
       "7                                      1-152   \n",
       "8                                    98-3256   \n",
       "12                                   178-658   \n",
       "13                                   617-898   \n",
       "14                                   72-1411   \n",
       "15                                   593-675   \n",
       "17                                   275-490   \n",
       "19                                  822-1894   \n",
       "20                                   328-560   \n",
       "21                                    1-1115   \n",
       "22                                   21-2228   \n",
       "23                                  186-1009   \n",
       "24                                  958-2414   \n",
       "25                                   108-339   \n",
       "\n",
       "    The number of IDRs in each protein  \n",
       "0                                    1  \n",
       "1                                    1  \n",
       "2                                    1  \n",
       "6                                    1  \n",
       "7                                    1  \n",
       "8                                    1  \n",
       "12                                   1  \n",
       "13                                   1  \n",
       "14                                   1  \n",
       "15                                   2  \n",
       "17                                   1  \n",
       "19                                   2  \n",
       "20                                   1  \n",
       "21                                   1  \n",
       "22                                   1  \n",
       "23                                   1  \n",
       "24                                   1  \n",
       "25                                   2  "
      ]
     },
     "execution_count": 36,
     "metadata": {},
     "output_type": "execute_result"
    }
   ],
   "source": [
    "filter_IDRs = create_IDR_filter_list(IDR_file_name, IDR_cutoff_value1, IDR_cutoff_value2, filtered_protein_name)\n",
    "filter_IDRs"
   ]
  },
  {
   "cell_type": "code",
   "execution_count": null,
   "id": "bdf7f931",
   "metadata": {},
   "outputs": [],
   "source": []
  }
 ],
 "metadata": {
  "kernelspec": {
   "display_name": "Python 3 (ipykernel)",
   "language": "python",
   "name": "python3"
  },
  "language_info": {
   "codemirror_mode": {
    "name": "ipython",
    "version": 3
   },
   "file_extension": ".py",
   "mimetype": "text/x-python",
   "name": "python",
   "nbconvert_exporter": "python",
   "pygments_lexer": "ipython3",
   "version": "3.10.6"
  }
 },
 "nbformat": 4,
 "nbformat_minor": 5
}
