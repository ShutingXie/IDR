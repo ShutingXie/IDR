{
 "cells": [
  {
   "cell_type": "code",
   "execution_count": 1,
   "id": "8405adea",
   "metadata": {},
   "outputs": [],
   "source": [
    "import numpy as np\n",
    "import pandas as pd"
   ]
  },
  {
   "cell_type": "code",
   "execution_count": 2,
   "id": "42fdc917",
   "metadata": {},
   "outputs": [],
   "source": [
    "def convert_to_HTML_format(function_names, webpage_name):\n",
    "    html_string = '''\n",
    "    <html>\n",
    "        <head>\n",
    "            <link rel=\"stylesheet\" href=\"https://maxcdn.bootstrapcdn.com/bootstrap/3.3.1/css/bootstrap.min.css\">\n",
    "            <style>body{ margin:0 100; background:whitesmoke; }</style>\n",
    "        </head>\n",
    "        <body>\n",
    "            <h1>Function names</h1>\n",
    "\n",
    "            <!-- *** Function Lists *** --->\n",
    "            ''' + function_names + '''\n",
    "        </body>\n",
    "    </html>'''\n",
    "\n",
    "    open_path = f'/home/shuting/IDRs/webpages/{webpage_name}.html' # put a variable within a string\n",
    "    f = open(open_path,'w')\n",
    "    f.write(html_string)\n",
    "    f.close()"
   ]
  },
  {
   "cell_type": "code",
   "execution_count": 3,
   "id": "2992d305",
   "metadata": {},
   "outputs": [
    {
     "data": {
      "text/html": [
       "<div>\n",
       "<style scoped>\n",
       "    .dataframe tbody tr th:only-of-type {\n",
       "        vertical-align: middle;\n",
       "    }\n",
       "\n",
       "    .dataframe tbody tr th {\n",
       "        vertical-align: top;\n",
       "    }\n",
       "\n",
       "    .dataframe thead th {\n",
       "        text-align: right;\n",
       "    }\n",
       "</style>\n",
       "<table border=\"1\" class=\"dataframe\">\n",
       "  <thead>\n",
       "    <tr style=\"text-align: right;\">\n",
       "      <th></th>\n",
       "      <th>GO_LABEL</th>\n",
       "      <th>tAUC</th>\n",
       "      <th>tF1</th>\n",
       "      <th>tF1_NAIVE</th>\n",
       "      <th>tSPECIFICITY</th>\n",
       "      <th>tPRECISION(PPV)</th>\n",
       "      <th>tRECALL</th>\n",
       "      <th>tACCURACY</th>\n",
       "      <th>tOPTIMAL_THRESHOLD</th>\n",
       "      <th>tG-MEAN</th>\n",
       "      <th>tN_PROTEINS_TRAINING</th>\n",
       "    </tr>\n",
       "  </thead>\n",
       "  <tbody>\n",
       "    <tr>\n",
       "      <th>0</th>\n",
       "      <td>GO0005730_nucleolus</td>\n",
       "      <td>0.839</td>\n",
       "      <td>0.671</td>\n",
       "      <td>0.378</td>\n",
       "      <td>0.471061</td>\n",
       "      <td>1.8</td>\n",
       "      <td>0.872</td>\n",
       "      <td>0.630</td>\n",
       "      <td>0.718</td>\n",
       "      <td>0.836</td>\n",
       "      <td>0.015</td>\n",
       "    </tr>\n",
       "    <tr>\n",
       "      <th>1</th>\n",
       "      <td>GO0031012_extracellular_matrix</td>\n",
       "      <td>0.817</td>\n",
       "      <td>0.672</td>\n",
       "      <td>0.383</td>\n",
       "      <td>0.468395</td>\n",
       "      <td>1.8</td>\n",
       "      <td>0.898</td>\n",
       "      <td>0.672</td>\n",
       "      <td>0.672</td>\n",
       "      <td>0.845</td>\n",
       "      <td>0.012</td>\n",
       "    </tr>\n",
       "    <tr>\n",
       "      <th>2</th>\n",
       "      <td>GO0030312_external_encapsulating_structure</td>\n",
       "      <td>0.824</td>\n",
       "      <td>0.662</td>\n",
       "      <td>0.386</td>\n",
       "      <td>0.449511</td>\n",
       "      <td>1.7</td>\n",
       "      <td>0.894</td>\n",
       "      <td>0.662</td>\n",
       "      <td>0.662</td>\n",
       "      <td>0.838</td>\n",
       "      <td>0.012</td>\n",
       "    </tr>\n",
       "    <tr>\n",
       "      <th>3</th>\n",
       "      <td>GO0042393_histone_binding</td>\n",
       "      <td>0.829</td>\n",
       "      <td>0.636</td>\n",
       "      <td>0.381</td>\n",
       "      <td>0.411955</td>\n",
       "      <td>1.7</td>\n",
       "      <td>0.803</td>\n",
       "      <td>0.545</td>\n",
       "      <td>0.764</td>\n",
       "      <td>0.794</td>\n",
       "      <td>0.007</td>\n",
       "    </tr>\n",
       "    <tr>\n",
       "      <th>4</th>\n",
       "      <td>GO0003682_chromatin_binding</td>\n",
       "      <td>0.836</td>\n",
       "      <td>0.623</td>\n",
       "      <td>0.380</td>\n",
       "      <td>0.391935</td>\n",
       "      <td>1.6</td>\n",
       "      <td>0.757</td>\n",
       "      <td>0.506</td>\n",
       "      <td>0.810</td>\n",
       "      <td>0.770</td>\n",
       "      <td>0.011</td>\n",
       "    </tr>\n",
       "  </tbody>\n",
       "</table>\n",
       "</div>"
      ],
      "text/plain": [
       "                                     GO_LABEL   tAUC    tF1  tF1_NAIVE  \\\n",
       "0                         GO0005730_nucleolus  0.839  0.671      0.378   \n",
       "1              GO0031012_extracellular_matrix  0.817  0.672      0.383   \n",
       "2  GO0030312_external_encapsulating_structure  0.824  0.662      0.386   \n",
       "3                   GO0042393_histone_binding  0.829  0.636      0.381   \n",
       "4                 GO0003682_chromatin_binding  0.836  0.623      0.380   \n",
       "\n",
       "   tSPECIFICITY  tPRECISION(PPV)   tRECALL  tACCURACY  tOPTIMAL_THRESHOLD  \\\n",
       "0      0.471061              1.8     0.872      0.630               0.718   \n",
       "1      0.468395              1.8     0.898      0.672               0.672   \n",
       "2      0.449511              1.7     0.894      0.662               0.662   \n",
       "3      0.411955              1.7     0.803      0.545               0.764   \n",
       "4      0.391935              1.6     0.757      0.506               0.810   \n",
       "\n",
       "   tG-MEAN  tN_PROTEINS_TRAINING  \n",
       "0    0.836                 0.015  \n",
       "1    0.845                 0.012  \n",
       "2    0.838                 0.012  \n",
       "3    0.794                 0.007  \n",
       "4    0.770                 0.011  "
      ]
     },
     "execution_count": 3,
     "metadata": {},
     "output_type": "execute_result"
    }
   ],
   "source": [
    "function_name_df = pd.read_csv(\"High_AUC_PPV_FUNCTIONS.txt\", sep=\"\\t\")\n",
    "function_name_df = function_name_df.head(5)\n",
    "function_name_df"
   ]
  },
  {
   "cell_type": "code",
   "execution_count": 4,
   "id": "b6ee8c14",
   "metadata": {},
   "outputs": [
    {
     "data": {
      "text/plain": [
       "'<table class=\"table table-striped\">\\n  <thead>\\n    <tr style=\"text-align: right;\">\\n      <th>GO_LABEL</th>\\n    </tr>\\n  </thead>\\n  <tbody>\\n    <tr>\\n      <td>GO0005730_nucleolus</td>\\n    </tr>\\n    <tr>\\n      <td>GO0031012_extracellular_matrix</td>\\n    </tr>\\n    <tr>\\n      <td>GO0030312_external_encapsulating_structure</td>\\n    </tr>\\n    <tr>\\n      <td>GO0042393_histone_binding</td>\\n    </tr>\\n    <tr>\\n      <td>GO0003682_chromatin_binding</td>\\n    </tr>\\n  </tbody>\\n</table>'"
      ]
     },
     "execution_count": 4,
     "metadata": {},
     "output_type": "execute_result"
    }
   ],
   "source": [
    "function_names = function_name_df[\"GO_LABEL\"].to_frame().to_html(index=False).replace('<table border=\"1\" class=\"dataframe\">','<table class=\"table table-striped\">')\n",
    "function_names"
   ]
  },
  {
   "cell_type": "code",
   "execution_count": 8,
   "id": "adb0d40f",
   "metadata": {},
   "outputs": [
    {
     "name": "stdout",
     "output_type": "stream",
     "text": [
      "GO0005730_nucleolus\n",
      "GO0031012_extracellular_matrix\n",
      "GO0030312_external_encapsulating_structure\n",
      "GO0042393_histone_binding\n",
      "GO0003682_chromatin_binding\n"
     ]
    }
   ],
   "source": [
    "for name in function_name_df[\"GO_LABEL\"]:\n",
    "    "
   ]
  },
  {
   "cell_type": "code",
   "execution_count": 5,
   "id": "660c9b15",
   "metadata": {},
   "outputs": [],
   "source": [
    "webpage_name = \"function_names\"\n",
    "convert_to_HTML_format(function_names, webpage_name)"
   ]
  }
 ],
 "metadata": {
  "kernelspec": {
   "display_name": "Python 3 (ipykernel)",
   "language": "python",
   "name": "python3"
  },
  "language_info": {
   "codemirror_mode": {
    "name": "ipython",
    "version": 3
   },
   "file_extension": ".py",
   "mimetype": "text/x-python",
   "name": "python",
   "nbconvert_exporter": "python",
   "pygments_lexer": "ipython3",
   "version": "3.9.12"
  }
 },
 "nbformat": 4,
 "nbformat_minor": 5
}
