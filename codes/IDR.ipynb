{
 "cells": [
  {
   "cell_type": "code",
   "execution_count": 2,
   "id": "c85750e7",
   "metadata": {},
   "outputs": [],
   "source": [
    "import numpy as np\n",
    "import pandas as pd\n",
    "import os\n",
    "import glob\n",
    "import requests"
   ]
  },
  {
   "cell_type": "code",
   "execution_count": 3,
   "id": "b50758c0",
   "metadata": {},
   "outputs": [],
   "source": [
    "# High_AUC_PPV_FUNCTIONS = pd.read_csv(\"High_AUC_PPV_FUNCTIONS.txt\", sep=\"\\t\")\n",
    "# High_AUC_PPV_FUNCTIONS"
   ]
  },
  {
   "cell_type": "code",
   "execution_count": 4,
   "id": "c2e0f41d",
   "metadata": {},
   "outputs": [],
   "source": [
    "# Top_148_test_union_function_groups = pd.read_csv(\"Top_148_test_union_function_groups.txt\", sep=\"\\t\")\n",
    "# Top_148_test_union_function_groups"
   ]
  },
  {
   "cell_type": "markdown",
   "id": "86e1562d",
   "metadata": {},
   "source": [
    "### If needed, remember to change the permission of files and folders"
   ]
  },
  {
   "cell_type": "markdown",
   "id": "abe952b8",
   "metadata": {},
   "source": [
    "## Protein file"
   ]
  },
  {
   "cell_type": "code",
   "execution_count": 5,
   "id": "a9852a7e",
   "metadata": {},
   "outputs": [],
   "source": [
    "def create_protein_filter_list(protein_file_name):\n",
    "    protein_df = pd.read_csv(protein_file_name,  names = [\"Protein_name\",\"Score\"], header=0, index_col=0)\n",
    "    # protein_filter = protein_df[protein_df['Score'] > protein_cutoff_value]\n",
    "    \n",
    "    # choose top 20 proteins in each pred file\n",
    "    protein_df[\"Rank\"] = protein_df[\"Score\"].rank(ascending=False) \n",
    "    protein_df = protein_df.sort_values(\"Rank\")\n",
    "    protein_filter = protein_df.head(20)\n",
    "    return protein_filter"
   ]
  },
  {
   "cell_type": "markdown",
   "id": "6cdbdb7c",
   "metadata": {},
   "source": [
    "### In the protein file, max = 0.25, see the question from email"
   ]
  },
  {
   "cell_type": "markdown",
   "id": "81c95af5",
   "metadata": {},
   "source": [
    "## IDR file"
   ]
  },
  {
   "cell_type": "code",
   "execution_count": 6,
   "id": "15e1ad92",
   "metadata": {},
   "outputs": [],
   "source": [
    "def compute_IDR_num(filter_IDRs):\n",
    "    count_dict = dict()\n",
    "    for ID in filter_IDRs[\"UniProtID\"]:\n",
    "        if ID in count_dict:\n",
    "            count_dict[ID] += 1\n",
    "        else:\n",
    "            count_dict[ID] = 1\n",
    "\n",
    "    count_list = []\n",
    "    for ID in filter_IDRs[\"UniProtID\"]:\n",
    "        if ID in count_dict:\n",
    "            count_list.append(count_dict.get(ID))\n",
    "    filter_IDRs[\"The number of IDRs in each protein\"] = count_list\n",
    "    return count_list"
   ]
  },
  {
   "cell_type": "code",
   "execution_count": 7,
   "id": "59671f50",
   "metadata": {},
   "outputs": [],
   "source": [
    "def get_protein_name(query):\n",
    "    base_url = \"https://www.ebi.ac.uk/proteins/api/{}\"\n",
    "    url = base_url.format(query)\n",
    "#     print(\"URL:\", url)\n",
    "    \n",
    "    try:\n",
    "        response = requests.get(url, headers={ \"Accept\" : \"application/json\"})\n",
    "#         print(\"Status code:\", response.raise_for_status())  # Check for errors: None == 200\n",
    "        \n",
    "        data_list = response.json()\n",
    "#         print(type(data_list))\n",
    "        data_dict = data_list[0]\n",
    "#         print(type(data_dict))\n",
    "        \n",
    "        protein_name = data_dict.get('protein').get('recommendedName').get('fullName').get('value')\n",
    "        return protein_name\n",
    "    except requests.exceptions.RequestException as e:\n",
    "        print(\"Error:\", e)\n",
    "        return None\n",
    "\n",
    "def get_protein_name_list(uniprot_id_list):\n",
    "    protein_name_list = []\n",
    "    for uniprot_id in uniprot_id_list:\n",
    "        query = \"proteins?offset=0&accession=\" + uniprot_id\n",
    "        protein_name = get_protein_name(query)\n",
    "        protein_name_list.append(protein_name)\n",
    "    return protein_name_list"
   ]
  },
  {
   "cell_type": "code",
   "execution_count": 8,
   "id": "dc4ed4f1",
   "metadata": {},
   "outputs": [],
   "source": [
    "# https://plotly.com/python/v3/html-reports/#generate-html-reports-with-d3-graphsusing-python-plotly-and-pandas\n",
    "def create_IDR_filter_list(IDR_file_name, IDR_cutoff_value1, IDR_cutoff_value2, filtered_protein_name):\n",
    "    IDR_df = pd.read_csv(IDR_file_name, names = [\"Protein IDR\",\"Score\"], header=0)\n",
    "    \n",
    "    # Split GO_term string in order to let user understand the meaning of each column\n",
    "    # https://stackoverflow.com/questions/14745022/how-to-split-a-dataframe-string-column-into-two-columns\n",
    "    # n=the number of columns you expect\n",
    "    IDR_df[['UniProtID', 'Redundancy', 'Begin', 'End']] = IDR_df['Protein IDR'].str.split('_', n=4, expand=True)\n",
    "    \n",
    "    # combine the \"beginning position\" and \"end position\" columns\n",
    "    IDR_df[\"The beginning and ending positions of IDR\"] = IDR_df['Begin'].astype(str) +\"-\"+ IDR_df[\"End\"]\n",
    "    \n",
    "    \n",
    "    filter_IDRs = pd.DataFrame()\n",
    "    for p_name in filtered_protein_name:\n",
    "        for IDR_name in IDR_df[\"Protein IDR\"].values:\n",
    "            if p_name in IDR_name:\n",
    "                s2 = IDR_df[IDR_df[\"Protein IDR\"] == IDR_name]\n",
    "                filter_IDRs = pd.concat([filter_IDRs, s2], ignore_index=True)\n",
    "                \n",
    "    # compute the total numbe of IDRs in each protein            \n",
    "    count_list = compute_IDR_num(filter_IDRs)\n",
    "    filter_IDRs[\"The number of IDRs in each protein\"] = count_list\n",
    "    \n",
    "    # remove all IDRs whose score <= 0.5\n",
    "    filter_IDRs = filter_IDRs[filter_IDRs[\"Score\"] > IDR_cutoff_value1]\n",
    "    \n",
    "    # remove useless columns\n",
    "    filter_IDRs = filter_IDRs.drop(columns=['Protein IDR', 'Redundancy', 'Begin', 'End'])\n",
    "    \n",
    "    # rename columns in order to make them more understandable\n",
    "    filter_IDRs = filter_IDRs[['UniProtID', 'The beginning and ending positions of IDR', 'Score', 'The number of IDRs in each protein']]\n",
    "    \n",
    "    # if the protein has more than 2 IDRs, remove IDRs whose score <= 0.6\n",
    "    temp_df = filter_IDRs[filter_IDRs[\"The number of IDRs in each protein\"]>2]\n",
    "    filter_IDRs = filter_IDRs.drop((temp_df[\"Score\"] < 0.6).index.values)\n",
    "    \n",
    "    # hold two digits after the decimal points\n",
    "#     filter_IDRs[\"Score\"] = filter_IDRs[\"Score\"].astype(float)\n",
    "#     filter_IDRs[\"Score\"] = filter_IDRs[\"Score\"].round(2)\n",
    "    \n",
    "    # rename \"Score\"\n",
    "#     filter_IDRs = filter_IDRs.rename(columns={\"Score\": \"The probability of the association between the IDR and the function\"})\n",
    "    \n",
    "    # remove the \"Score\" column since their probabilities are amostly 1, so not very informative/interesting\n",
    "    filter_IDRs = filter_IDRs.drop(columns=['Score'])\n",
    "    \n",
    "    # add protein name column\n",
    "    uniprot_id_list = filter_IDRs[\"UniProtID\"]\n",
    "    protein_name_list = get_protein_name_list(uniprot_id_list)\n",
    "    filter_IDRs.insert(1, \"Protein name\", protein_name_list)\n",
    "\n",
    "    html_filter_IDRs = filter_IDRs.to_html(index=False).replace('<table border=\"1\" class=\"dataframe\">','<table class=\"table table-striped\">')\n",
    "    html_filter_IDRs = html_filter_IDRs.replace('<td>', '<td style=\"text-align: center;\">') # center text\n",
    "    html_filter_IDRs= html_filter_IDRs.replace('<th>', '<th style=\"text-align: center;\">') # center column names\n",
    "    return html_filter_IDRs "
   ]
  },
  {
   "cell_type": "markdown",
   "id": "3269fae0",
   "metadata": {},
   "source": [
    "## Features"
   ]
  },
  {
   "cell_type": "code",
   "execution_count": 9,
   "id": "44e6b474",
   "metadata": {},
   "outputs": [],
   "source": [
    "def create_feature_filter_list(feature_file_name):\n",
    "    feature_df = pd.read_csv(feature_file_name, names = [\"Feature name\",\"Score\"])\n",
    "    filter_features = feature_df.dropna()\n",
    "    \n",
    "    # hold two digits after the decimal points\n",
    "    filter_features[\"Score\"] = filter_features[\"Score\"].astype(float)\n",
    "    filter_features[\"Score\"] = filter_features[\"Score\"].round(2)\n",
    "    \n",
    "    # rename \"Score\"\n",
    "    filter_features = filter_features.rename(columns={\"Score\": \"The strength and direction of association with function for each molecular feature\"})    \n",
    "    \n",
    "    html_filter_features = filter_features.to_html(index=False).replace('<table border=\"1\" class=\"dataframe\">','<table class=\"table table-striped\">')\n",
    "    html_filter_features = html_filter_features.replace('<td>', '<td style=\"text-align: center;\">') # center text\n",
    "    html_filter_features = html_filter_features.replace('<th>', '<th style=\"text-align: center;\">') # center column names\n",
    "    return html_filter_features"
   ]
  },
  {
   "cell_type": "markdown",
   "id": "82010c5f",
   "metadata": {},
   "source": [
    "## HTML"
   ]
  },
  {
   "cell_type": "code",
   "execution_count": 10,
   "id": "2f2152b6",
   "metadata": {},
   "outputs": [],
   "source": [
    "# refer to https://plotly.com/python/v3/html-reports/#generate-html-reports-with-d3-graphsusing-python-plotly-and-pandas\n",
    "def convert_to_HTML_format(filter_IDRs, filter_features, function_name):\n",
    "    html_string = '''\n",
    "    <html>\n",
    "        <head>\n",
    "            <link rel=\"stylesheet\" href=\"https://maxcdn.bootstrapcdn.com/bootstrap/3.3.1/css/bootstrap.min.css\">\n",
    "            <style>body{ margin:0 100; background:whitesmoke; }</style>\n",
    "            \n",
    "            \n",
    "            <script> \n",
    "            // hyperlink the uniprot id to the uniprot static page for each protein\n",
    "                window.addEventListener('DOMContentLoaded', (event) => {\n",
    "                    // Get all the cells in the first column of the IDRs List table\n",
    "                    const cells = document.querySelectorAll('table.table-striped:nth-of-type(1) td:nth-child(1)');\n",
    "\n",
    "                    // Add a hyperlink to each cell\n",
    "                    cells.forEach((cell) => {\n",
    "                        const text = cell.innerText;\n",
    "                        console.log(text)\n",
    "                        const hyperlink = document.createElement('a');\n",
    "                        hyperlink.href = \"https://www.uniprot.org/uniprotkb/\" + text + \"/entry\" + text; //add URL\n",
    "                        hyperlink.textContent = text;\n",
    "                        cell.innerText = '';\n",
    "                        cell.appendChild(hyperlink);\n",
    "                    });    \n",
    "                });\n",
    "            </script>\n",
    "            \n",
    "            \n",
    "          <script>\n",
    "          // redirect to the \"Evolutionary Signatures of Intrinsically Disordered Regions\" website\n",
    "            window.addEventListener('DOMContentLoaded', (event) => {\n",
    "                // Get all the cells in the IDRs List table\n",
    "                const rows = document.querySelectorAll('table.table-striped:nth-of-type(1) tbody tr');\n",
    "\n",
    "                // Loop through each row\n",
    "                rows.forEach((row) => {\n",
    "                    const cells = row.querySelectorAll('td');\n",
    "                    if (cells.length >= 2) {\n",
    "                        const uniProtID = cells[0].innerText;\n",
    "                        const hyperlinkCell = cells[1];\n",
    "\n",
    "                        const hyperlink = document.createElement('a');\n",
    "                        hyperlink.href = \"http://142.150.219.123:5000?dataset=Human_SPOTd&uniprot_id=\" + uniProtID; // Construct the URL with UniProt ID\n",
    "                        hyperlink.textContent = hyperlinkCell.innerText;\n",
    "\n",
    "                        hyperlinkCell.innerText = '';\n",
    "                        hyperlinkCell.appendChild(hyperlink);\n",
    "                    }\n",
    "                });\n",
    "            });\n",
    "        </script>\n",
    "        \n",
    "            \n",
    "        </head>\n",
    "        <body>\n",
    "            <h1>Group/Function: ''' + function_name.split(\"/\")[-1] + '''</h1>\n",
    "\n",
    "            <!-- *** Two Lists *** --->\n",
    "            <h2>IDRs List</h2>\n",
    "            ''' + filter_IDRs + '''\n",
    "\n",
    "            <h2>Features List</h2>\n",
    "            <p><a href=\"http://142.150.219.123:5000/table/\">Molecular Features Table</a></p>\n",
    "            ''' + filter_features + '''\n",
    "        </body>\n",
    "    </html>'''\n",
    "    \n",
    "    function_name = function_name.split(\"/\")[-1]\n",
    "    open_path = f'../webpages/{function_name}.html' # put a variable within a string\n",
    "    f = open(open_path,'w')\n",
    "    f.write(html_string)\n",
    "    f.close()"
   ]
  },
  {
   "cell_type": "markdown",
   "id": "2990f445",
   "metadata": {},
   "source": [
    "* Note:\n",
    "If get rid of \"=>\" in the line \"cells.forEach((cell) => {...\", resulting in the hyperlinks do not work"
   ]
  },
  {
   "cell_type": "markdown",
   "id": "9f42a22a",
   "metadata": {},
   "source": [
    "# Functions"
   ]
  },
  {
   "cell_type": "markdown",
   "id": "59d03380",
   "metadata": {},
   "source": [
    "## Automatically read each csv file in one folder"
   ]
  },
  {
   "cell_type": "markdown",
   "id": "a8684dd1",
   "metadata": {},
   "source": [
    "### There is huge differences between using severl \"if\" and \"if, elif, else\""
   ]
  },
  {
   "cell_type": "code",
   "execution_count": 11,
   "id": "73c813ae",
   "metadata": {},
   "outputs": [],
   "source": [
    "# path = os.getcwd()\n",
    "# print(path)"
   ]
  },
  {
   "cell_type": "code",
   "execution_count": 12,
   "id": "8cf93e90",
   "metadata": {},
   "outputs": [
    {
     "name": "stdout",
     "output_type": "stream",
     "text": [
      "444\n",
      "num:\t 0\n",
      "num:\t 1\n",
      "num:\t 2\n",
      "Protein\n",
      " ['P0CG33' 'Q9NYA3' 'A6NDK9' 'Q5VT06' 'Q9C0D2' 'A6NDN3' 'Q8N3K9' 'H3BSY2'\n",
      " 'A8MQT2' 'Q8IYY4' 'A7E2F4' 'Q8WYP5' 'Q02952' 'Q8IYE1' 'H3BPF8' 'Q96SN8'\n",
      " 'P15311' 'Q9P219' 'Q6NUN7' 'O95613']\n"
     ]
    },
    {
     "name": "stderr",
     "output_type": "stream",
     "text": [
      "/tmp/ipykernel_19687/1986022666.py:6: SettingWithCopyWarning: \n",
      "A value is trying to be set on a copy of a slice from a DataFrame.\n",
      "Try using .loc[row_indexer,col_indexer] = value instead\n",
      "\n",
      "See the caveats in the documentation: https://pandas.pydata.org/pandas-docs/stable/user_guide/indexing.html#returning-a-view-versus-a-copy\n",
      "  filter_features[\"Score\"] = filter_features[\"Score\"].astype(float)\n",
      "/tmp/ipykernel_19687/1986022666.py:7: SettingWithCopyWarning: \n",
      "A value is trying to be set on a copy of a slice from a DataFrame.\n",
      "Try using .loc[row_indexer,col_indexer] = value instead\n",
      "\n",
      "See the caveats in the documentation: https://pandas.pydata.org/pandas-docs/stable/user_guide/indexing.html#returning-a-view-versus-a-copy\n",
      "  filter_features[\"Score\"] = filter_features[\"Score\"].round(2)\n"
     ]
    },
    {
     "name": "stdout",
     "output_type": "stream",
     "text": [
      "num:\t 0\n",
      "num:\t 1\n",
      "num:\t 2\n",
      "Protein\n",
      " ['Q56NI9' 'Q8WYP5' 'O43663' 'P10243' 'P35251' 'O76021' 'Q69YH5' 'Q99741'\n",
      " 'Q9UPQ0' 'Q96T88' 'P46013' 'Q14680' 'Q14207' 'Q7RTP6' 'P10244' 'Q5UIP0'\n",
      " 'Q8NI77' 'P18583' 'Q86T82' 'Q12834']\n"
     ]
    },
    {
     "name": "stderr",
     "output_type": "stream",
     "text": [
      "/tmp/ipykernel_19687/1986022666.py:6: SettingWithCopyWarning: \n",
      "A value is trying to be set on a copy of a slice from a DataFrame.\n",
      "Try using .loc[row_indexer,col_indexer] = value instead\n",
      "\n",
      "See the caveats in the documentation: https://pandas.pydata.org/pandas-docs/stable/user_guide/indexing.html#returning-a-view-versus-a-copy\n",
      "  filter_features[\"Score\"] = filter_features[\"Score\"].astype(float)\n",
      "/tmp/ipykernel_19687/1986022666.py:7: SettingWithCopyWarning: \n",
      "A value is trying to be set on a copy of a slice from a DataFrame.\n",
      "Try using .loc[row_indexer,col_indexer] = value instead\n",
      "\n",
      "See the caveats in the documentation: https://pandas.pydata.org/pandas-docs/stable/user_guide/indexing.html#returning-a-view-versus-a-copy\n",
      "  filter_features[\"Score\"] = filter_features[\"Score\"].round(2)\n"
     ]
    },
    {
     "name": "stdout",
     "output_type": "stream",
     "text": [
      "num:\t 0\n",
      "num:\t 1\n",
      "num:\t 2\n",
      "Protein\n",
      " ['Q56NI9' 'Q8WYP5' 'O43663' 'P35251' 'Q69YH5' 'Q99741' 'P46013' 'P10243'\n",
      " 'P10244' 'Q8NI77' 'Q14207' 'Q96T88' 'O76021' 'Q7RTP6' 'Q14680' 'Q8WWL7'\n",
      " 'P18583' 'Q9UPQ0' 'Q5UIP0' 'Q86T82']\n"
     ]
    },
    {
     "name": "stderr",
     "output_type": "stream",
     "text": [
      "/tmp/ipykernel_19687/1986022666.py:6: SettingWithCopyWarning: \n",
      "A value is trying to be set on a copy of a slice from a DataFrame.\n",
      "Try using .loc[row_indexer,col_indexer] = value instead\n",
      "\n",
      "See the caveats in the documentation: https://pandas.pydata.org/pandas-docs/stable/user_guide/indexing.html#returning-a-view-versus-a-copy\n",
      "  filter_features[\"Score\"] = filter_features[\"Score\"].astype(float)\n",
      "/tmp/ipykernel_19687/1986022666.py:7: SettingWithCopyWarning: \n",
      "A value is trying to be set on a copy of a slice from a DataFrame.\n",
      "Try using .loc[row_indexer,col_indexer] = value instead\n",
      "\n",
      "See the caveats in the documentation: https://pandas.pydata.org/pandas-docs/stable/user_guide/indexing.html#returning-a-view-versus-a-copy\n",
      "  filter_features[\"Score\"] = filter_features[\"Score\"].round(2)\n"
     ]
    },
    {
     "name": "stdout",
     "output_type": "stream",
     "text": [
      "num:\t 0\n",
      "num:\t 1\n",
      "num:\t 2\n",
      "Protein\n",
      " ['Q08170' 'Q14498' 'Q13523' 'Q01130' 'P08621' 'Q14152' 'Q05519' 'Q13427'\n",
      " 'Q9Y2W1' 'Q13247' 'Q15696' 'Q9NQ29' 'Q5T200' 'Q86VM9' 'Q16629' 'Q96IZ7'\n",
      " 'O95232' 'Q9BRL6' 'O75494' 'P48634']\n"
     ]
    },
    {
     "name": "stderr",
     "output_type": "stream",
     "text": [
      "/tmp/ipykernel_19687/1986022666.py:6: SettingWithCopyWarning: \n",
      "A value is trying to be set on a copy of a slice from a DataFrame.\n",
      "Try using .loc[row_indexer,col_indexer] = value instead\n",
      "\n",
      "See the caveats in the documentation: https://pandas.pydata.org/pandas-docs/stable/user_guide/indexing.html#returning-a-view-versus-a-copy\n",
      "  filter_features[\"Score\"] = filter_features[\"Score\"].astype(float)\n",
      "/tmp/ipykernel_19687/1986022666.py:7: SettingWithCopyWarning: \n",
      "A value is trying to be set on a copy of a slice from a DataFrame.\n",
      "Try using .loc[row_indexer,col_indexer] = value instead\n",
      "\n",
      "See the caveats in the documentation: https://pandas.pydata.org/pandas-docs/stable/user_guide/indexing.html#returning-a-view-versus-a-copy\n",
      "  filter_features[\"Score\"] = filter_features[\"Score\"].round(2)\n"
     ]
    },
    {
     "name": "stdout",
     "output_type": "stream",
     "text": [
      "num:\t 0\n",
      "num:\t 1\n",
      "num:\t 2\n",
      "Protein\n",
      " ['Q08170' 'Q14498' 'Q13523' 'Q01130' 'P08621' 'Q14152' 'Q05519' 'Q13427'\n",
      " 'Q9Y2W1' 'Q13247' 'Q15696' 'Q9NQ29' 'Q5T200' 'Q86VM9' 'Q16629' 'Q96IZ7'\n",
      " 'O95232' 'Q9BRL6' 'O75494' 'P48634']\n"
     ]
    },
    {
     "name": "stderr",
     "output_type": "stream",
     "text": [
      "/tmp/ipykernel_19687/1986022666.py:6: SettingWithCopyWarning: \n",
      "A value is trying to be set on a copy of a slice from a DataFrame.\n",
      "Try using .loc[row_indexer,col_indexer] = value instead\n",
      "\n",
      "See the caveats in the documentation: https://pandas.pydata.org/pandas-docs/stable/user_guide/indexing.html#returning-a-view-versus-a-copy\n",
      "  filter_features[\"Score\"] = filter_features[\"Score\"].astype(float)\n",
      "/tmp/ipykernel_19687/1986022666.py:7: SettingWithCopyWarning: \n",
      "A value is trying to be set on a copy of a slice from a DataFrame.\n",
      "Try using .loc[row_indexer,col_indexer] = value instead\n",
      "\n",
      "See the caveats in the documentation: https://pandas.pydata.org/pandas-docs/stable/user_guide/indexing.html#returning-a-view-versus-a-copy\n",
      "  filter_features[\"Score\"] = filter_features[\"Score\"].round(2)\n"
     ]
    },
    {
     "name": "stdout",
     "output_type": "stream",
     "text": [
      "num:\t 0\n",
      "num:\t 1\n",
      "num:\t 2\n",
      "Protein\n",
      " ['Q08170' 'Q14498' 'Q13523' 'Q01130' 'P08621' 'Q14152' 'Q05519' 'Q13427'\n",
      " 'Q9Y2W1' 'Q13247' 'Q15696' 'Q9NQ29' 'Q5T200' 'Q86VM9' 'Q16629' 'Q96IZ7'\n",
      " 'O95232' 'Q9BRL6' 'O75494' 'P48634']\n"
     ]
    },
    {
     "name": "stderr",
     "output_type": "stream",
     "text": [
      "/tmp/ipykernel_19687/1986022666.py:6: SettingWithCopyWarning: \n",
      "A value is trying to be set on a copy of a slice from a DataFrame.\n",
      "Try using .loc[row_indexer,col_indexer] = value instead\n",
      "\n",
      "See the caveats in the documentation: https://pandas.pydata.org/pandas-docs/stable/user_guide/indexing.html#returning-a-view-versus-a-copy\n",
      "  filter_features[\"Score\"] = filter_features[\"Score\"].astype(float)\n",
      "/tmp/ipykernel_19687/1986022666.py:7: SettingWithCopyWarning: \n",
      "A value is trying to be set on a copy of a slice from a DataFrame.\n",
      "Try using .loc[row_indexer,col_indexer] = value instead\n",
      "\n",
      "See the caveats in the documentation: https://pandas.pydata.org/pandas-docs/stable/user_guide/indexing.html#returning-a-view-versus-a-copy\n",
      "  filter_features[\"Score\"] = filter_features[\"Score\"].round(2)\n"
     ]
    },
    {
     "name": "stdout",
     "output_type": "stream",
     "text": [
      "num:\t 0\n",
      "num:\t 1\n",
      "num:\t 2\n",
      "Protein\n",
      " ['Q96T23' 'Q14978' 'Q02952' 'Q8NFC6' 'A6H8Y1' 'Q92794' 'Q13427' 'Q96ST2'\n",
      " 'Q9NQS7' 'P46013' 'Q5T200' 'Q08170' 'Q5FWF5' 'Q9NU22' 'P49711' 'Q13428'\n",
      " 'Q9BW71' 'O60524' 'P78362' 'Q9Y6X4']\n"
     ]
    },
    {
     "name": "stderr",
     "output_type": "stream",
     "text": [
      "/tmp/ipykernel_19687/1986022666.py:6: SettingWithCopyWarning: \n",
      "A value is trying to be set on a copy of a slice from a DataFrame.\n",
      "Try using .loc[row_indexer,col_indexer] = value instead\n",
      "\n",
      "See the caveats in the documentation: https://pandas.pydata.org/pandas-docs/stable/user_guide/indexing.html#returning-a-view-versus-a-copy\n",
      "  filter_features[\"Score\"] = filter_features[\"Score\"].astype(float)\n",
      "/tmp/ipykernel_19687/1986022666.py:7: SettingWithCopyWarning: \n",
      "A value is trying to be set on a copy of a slice from a DataFrame.\n",
      "Try using .loc[row_indexer,col_indexer] = value instead\n",
      "\n",
      "See the caveats in the documentation: https://pandas.pydata.org/pandas-docs/stable/user_guide/indexing.html#returning-a-view-versus-a-copy\n",
      "  filter_features[\"Score\"] = filter_features[\"Score\"].round(2)\n"
     ]
    },
    {
     "name": "stdout",
     "output_type": "stream",
     "text": [
      "num:\t 0\n",
      "num:\t 1\n",
      "num:\t 2\n",
      "Protein\n",
      " ['O60479' 'P57073' 'P17275' 'P56693' 'Q9Y5Q3' 'P37275' 'P28356' 'P54845'\n",
      " 'Q9HCS4' 'Q9UPG8' 'O60315' 'P49715' 'P31629' 'Q9H6I2' 'Q8NBF1' 'Q9BT81'\n",
      " 'P57682' 'Q5U5X8' 'P15408' 'P43354']\n"
     ]
    },
    {
     "name": "stderr",
     "output_type": "stream",
     "text": [
      "/tmp/ipykernel_19687/1986022666.py:6: SettingWithCopyWarning: \n",
      "A value is trying to be set on a copy of a slice from a DataFrame.\n",
      "Try using .loc[row_indexer,col_indexer] = value instead\n",
      "\n",
      "See the caveats in the documentation: https://pandas.pydata.org/pandas-docs/stable/user_guide/indexing.html#returning-a-view-versus-a-copy\n",
      "  filter_features[\"Score\"] = filter_features[\"Score\"].astype(float)\n",
      "/tmp/ipykernel_19687/1986022666.py:7: SettingWithCopyWarning: \n",
      "A value is trying to be set on a copy of a slice from a DataFrame.\n",
      "Try using .loc[row_indexer,col_indexer] = value instead\n",
      "\n",
      "See the caveats in the documentation: https://pandas.pydata.org/pandas-docs/stable/user_guide/indexing.html#returning-a-view-versus-a-copy\n",
      "  filter_features[\"Score\"] = filter_features[\"Score\"].round(2)\n"
     ]
    },
    {
     "name": "stdout",
     "output_type": "stream",
     "text": [
      "num:\t 0\n",
      "num:\t 1\n",
      "num:\t 2\n",
      "Protein\n",
      " ['O60479' 'P57073' 'P17275' 'P56693' 'Q9Y5Q3' 'P28356' 'P54845' 'P37275'\n",
      " 'O60315' 'Q9HCS4' 'Q9UPG8' 'P31629' 'Q9H6I2' 'Q8NBF1' 'P49715' 'Q9BT81'\n",
      " 'Q5U5X8' 'Q99814' 'P57682' 'P81133']\n"
     ]
    },
    {
     "name": "stderr",
     "output_type": "stream",
     "text": [
      "/tmp/ipykernel_19687/1986022666.py:6: SettingWithCopyWarning: \n",
      "A value is trying to be set on a copy of a slice from a DataFrame.\n",
      "Try using .loc[row_indexer,col_indexer] = value instead\n",
      "\n",
      "See the caveats in the documentation: https://pandas.pydata.org/pandas-docs/stable/user_guide/indexing.html#returning-a-view-versus-a-copy\n",
      "  filter_features[\"Score\"] = filter_features[\"Score\"].astype(float)\n",
      "/tmp/ipykernel_19687/1986022666.py:7: SettingWithCopyWarning: \n",
      "A value is trying to be set on a copy of a slice from a DataFrame.\n",
      "Try using .loc[row_indexer,col_indexer] = value instead\n",
      "\n",
      "See the caveats in the documentation: https://pandas.pydata.org/pandas-docs/stable/user_guide/indexing.html#returning-a-view-versus-a-copy\n",
      "  filter_features[\"Score\"] = filter_features[\"Score\"].round(2)\n"
     ]
    },
    {
     "name": "stdout",
     "output_type": "stream",
     "text": [
      "num:\t 0\n",
      "num:\t 1\n",
      "num:\t 2\n",
      "Protein\n",
      " ['Q9Y5Q3' 'P56693' 'P17275' 'P57073' 'O60479' 'P54845' 'Q9UPG8' 'P28356'\n",
      " 'Q5U5X8' 'P31629' 'P43354' 'Q99583' 'Q9HCS4' 'Q9BT81' 'Q12948' 'P57682'\n",
      " 'O60315' 'Q06413' 'P37275' 'Q9H0F5']\n"
     ]
    },
    {
     "name": "stderr",
     "output_type": "stream",
     "text": [
      "/tmp/ipykernel_19687/1986022666.py:6: SettingWithCopyWarning: \n",
      "A value is trying to be set on a copy of a slice from a DataFrame.\n",
      "Try using .loc[row_indexer,col_indexer] = value instead\n",
      "\n",
      "See the caveats in the documentation: https://pandas.pydata.org/pandas-docs/stable/user_guide/indexing.html#returning-a-view-versus-a-copy\n",
      "  filter_features[\"Score\"] = filter_features[\"Score\"].astype(float)\n",
      "/tmp/ipykernel_19687/1986022666.py:7: SettingWithCopyWarning: \n",
      "A value is trying to be set on a copy of a slice from a DataFrame.\n",
      "Try using .loc[row_indexer,col_indexer] = value instead\n",
      "\n",
      "See the caveats in the documentation: https://pandas.pydata.org/pandas-docs/stable/user_guide/indexing.html#returning-a-view-versus-a-copy\n",
      "  filter_features[\"Score\"] = filter_features[\"Score\"].round(2)\n"
     ]
    },
    {
     "name": "stdout",
     "output_type": "stream",
     "text": [
      "num:\t 0\n",
      "num:\t 1\n",
      "num:\t 2\n",
      "Protein\n",
      " ['O60479' 'P57073' 'P56693' 'P17275' 'Q9Y5Q3' 'Q9HCS4' 'P37275' 'P54845'\n",
      " 'Q9UPG8' 'O60315' 'P28356' 'P31629' 'P57682' 'P49715' 'Q8NBF1' 'Q99814'\n",
      " 'Q9BYH8' 'Q9UPN9' 'Q9H6I2' 'Q9BT81']\n"
     ]
    },
    {
     "name": "stderr",
     "output_type": "stream",
     "text": [
      "/tmp/ipykernel_19687/1986022666.py:6: SettingWithCopyWarning: \n",
      "A value is trying to be set on a copy of a slice from a DataFrame.\n",
      "Try using .loc[row_indexer,col_indexer] = value instead\n",
      "\n",
      "See the caveats in the documentation: https://pandas.pydata.org/pandas-docs/stable/user_guide/indexing.html#returning-a-view-versus-a-copy\n",
      "  filter_features[\"Score\"] = filter_features[\"Score\"].astype(float)\n",
      "/tmp/ipykernel_19687/1986022666.py:7: SettingWithCopyWarning: \n",
      "A value is trying to be set on a copy of a slice from a DataFrame.\n",
      "Try using .loc[row_indexer,col_indexer] = value instead\n",
      "\n",
      "See the caveats in the documentation: https://pandas.pydata.org/pandas-docs/stable/user_guide/indexing.html#returning-a-view-versus-a-copy\n",
      "  filter_features[\"Score\"] = filter_features[\"Score\"].round(2)\n"
     ]
    },
    {
     "name": "stdout",
     "output_type": "stream",
     "text": [
      "num:\t 0\n",
      "num:\t 1\n",
      "num:\t 2\n",
      "Protein\n",
      " ['Q9Y5Q3' 'P56693' 'P17275' 'P57073' 'O60479' 'P54845' 'Q9UPG8' 'P28356'\n",
      " 'Q5U5X8' 'P31629' 'P43354' 'Q9BT81' 'Q9HCS4' 'P57682' 'Q99583' 'Q12948'\n",
      " 'Q9ULL5' 'O60315' 'Q9H0F5' 'Q06413']\n"
     ]
    },
    {
     "name": "stderr",
     "output_type": "stream",
     "text": [
      "/tmp/ipykernel_19687/1986022666.py:6: SettingWithCopyWarning: \n",
      "A value is trying to be set on a copy of a slice from a DataFrame.\n",
      "Try using .loc[row_indexer,col_indexer] = value instead\n",
      "\n",
      "See the caveats in the documentation: https://pandas.pydata.org/pandas-docs/stable/user_guide/indexing.html#returning-a-view-versus-a-copy\n",
      "  filter_features[\"Score\"] = filter_features[\"Score\"].astype(float)\n",
      "/tmp/ipykernel_19687/1986022666.py:7: SettingWithCopyWarning: \n",
      "A value is trying to be set on a copy of a slice from a DataFrame.\n",
      "Try using .loc[row_indexer,col_indexer] = value instead\n",
      "\n",
      "See the caveats in the documentation: https://pandas.pydata.org/pandas-docs/stable/user_guide/indexing.html#returning-a-view-versus-a-copy\n",
      "  filter_features[\"Score\"] = filter_features[\"Score\"].round(2)\n"
     ]
    },
    {
     "name": "stdout",
     "output_type": "stream",
     "text": [
      "num:\t 0\n",
      "num:\t 1\n",
      "num:\t 2\n",
      "Protein\n",
      " ['O60479' 'P57073' 'P17275' 'P56693' 'Q9Y5Q3' 'P37275' 'P28356' 'P54845'\n",
      " 'Q9HCS4' 'Q9UPG8' 'O60315' 'P49715' 'P31629' 'Q9H6I2' 'Q8NBF1' 'Q9BT81'\n",
      " 'P57682' 'Q5U5X8' 'P15408' 'P43354']\n"
     ]
    },
    {
     "name": "stderr",
     "output_type": "stream",
     "text": [
      "/tmp/ipykernel_19687/1986022666.py:6: SettingWithCopyWarning: \n",
      "A value is trying to be set on a copy of a slice from a DataFrame.\n",
      "Try using .loc[row_indexer,col_indexer] = value instead\n",
      "\n",
      "See the caveats in the documentation: https://pandas.pydata.org/pandas-docs/stable/user_guide/indexing.html#returning-a-view-versus-a-copy\n",
      "  filter_features[\"Score\"] = filter_features[\"Score\"].astype(float)\n",
      "/tmp/ipykernel_19687/1986022666.py:7: SettingWithCopyWarning: \n",
      "A value is trying to be set on a copy of a slice from a DataFrame.\n",
      "Try using .loc[row_indexer,col_indexer] = value instead\n",
      "\n",
      "See the caveats in the documentation: https://pandas.pydata.org/pandas-docs/stable/user_guide/indexing.html#returning-a-view-versus-a-copy\n",
      "  filter_features[\"Score\"] = filter_features[\"Score\"].round(2)\n"
     ]
    },
    {
     "name": "stdout",
     "output_type": "stream",
     "text": [
      "num:\t 0\n",
      "num:\t 1\n",
      "num:\t 2\n",
      "Protein\n",
      " ['O60479' 'P57073' 'P28356' 'P56693' 'P17275' 'O15014' 'Q9HCS4' 'Q9UPG8'\n",
      " 'Q9H6I2' 'Q9Y5Q3' 'Q86UU0' 'Q9NY43' 'P49715' 'P48634' 'P54845' 'P37275'\n",
      " 'Q9BT81' 'P15408' 'P31629' 'Q12948']\n"
     ]
    },
    {
     "name": "stderr",
     "output_type": "stream",
     "text": [
      "/tmp/ipykernel_19687/1986022666.py:6: SettingWithCopyWarning: \n",
      "A value is trying to be set on a copy of a slice from a DataFrame.\n",
      "Try using .loc[row_indexer,col_indexer] = value instead\n",
      "\n",
      "See the caveats in the documentation: https://pandas.pydata.org/pandas-docs/stable/user_guide/indexing.html#returning-a-view-versus-a-copy\n",
      "  filter_features[\"Score\"] = filter_features[\"Score\"].astype(float)\n",
      "/tmp/ipykernel_19687/1986022666.py:7: SettingWithCopyWarning: \n",
      "A value is trying to be set on a copy of a slice from a DataFrame.\n",
      "Try using .loc[row_indexer,col_indexer] = value instead\n",
      "\n",
      "See the caveats in the documentation: https://pandas.pydata.org/pandas-docs/stable/user_guide/indexing.html#returning-a-view-versus-a-copy\n",
      "  filter_features[\"Score\"] = filter_features[\"Score\"].round(2)\n"
     ]
    },
    {
     "name": "stdout",
     "output_type": "stream",
     "text": [
      "num:\t 0\n",
      "num:\t 1\n",
      "num:\t 2\n",
      "Protein\n",
      " ['Q14978' 'Q13428' 'P07305' 'O00567' 'P35659' 'Q9NR30' 'Q96T23' 'Q9BW71'\n",
      " 'O75167' 'Q969V6' 'P22492' 'O00294' 'Q8NE71' 'O15446' 'Q5SSJ5' 'Q02952'\n",
      " 'Q9NTI5' 'Q8NFC6' 'P18583' 'Q13127']\n"
     ]
    },
    {
     "name": "stderr",
     "output_type": "stream",
     "text": [
      "/tmp/ipykernel_19687/1986022666.py:6: SettingWithCopyWarning: \n",
      "A value is trying to be set on a copy of a slice from a DataFrame.\n",
      "Try using .loc[row_indexer,col_indexer] = value instead\n",
      "\n",
      "See the caveats in the documentation: https://pandas.pydata.org/pandas-docs/stable/user_guide/indexing.html#returning-a-view-versus-a-copy\n",
      "  filter_features[\"Score\"] = filter_features[\"Score\"].astype(float)\n",
      "/tmp/ipykernel_19687/1986022666.py:7: SettingWithCopyWarning: \n",
      "A value is trying to be set on a copy of a slice from a DataFrame.\n",
      "Try using .loc[row_indexer,col_indexer] = value instead\n",
      "\n",
      "See the caveats in the documentation: https://pandas.pydata.org/pandas-docs/stable/user_guide/indexing.html#returning-a-view-versus-a-copy\n",
      "  filter_features[\"Score\"] = filter_features[\"Score\"].round(2)\n"
     ]
    },
    {
     "name": "stdout",
     "output_type": "stream",
     "text": [
      "num:\t 0\n",
      "num:\t 1\n",
      "num:\t 2\n",
      "Protein\n",
      " ['O60479' 'P57073' 'P56693' 'P17275' 'P28356' 'Q9HCS4' 'Q9Y5Q3' 'P37275'\n",
      " 'Q9UPG8' 'P54845' 'O60315' 'O15014' 'Q9H6I2' 'P49715' 'P31629' 'Q9BT81'\n",
      " 'P15408' 'P57682' 'P81133' 'Q9NY43']\n"
     ]
    },
    {
     "name": "stderr",
     "output_type": "stream",
     "text": [
      "/tmp/ipykernel_19687/1986022666.py:6: SettingWithCopyWarning: \n",
      "A value is trying to be set on a copy of a slice from a DataFrame.\n",
      "Try using .loc[row_indexer,col_indexer] = value instead\n",
      "\n",
      "See the caveats in the documentation: https://pandas.pydata.org/pandas-docs/stable/user_guide/indexing.html#returning-a-view-versus-a-copy\n",
      "  filter_features[\"Score\"] = filter_features[\"Score\"].astype(float)\n",
      "/tmp/ipykernel_19687/1986022666.py:7: SettingWithCopyWarning: \n",
      "A value is trying to be set on a copy of a slice from a DataFrame.\n",
      "Try using .loc[row_indexer,col_indexer] = value instead\n",
      "\n",
      "See the caveats in the documentation: https://pandas.pydata.org/pandas-docs/stable/user_guide/indexing.html#returning-a-view-versus-a-copy\n",
      "  filter_features[\"Score\"] = filter_features[\"Score\"].round(2)\n"
     ]
    },
    {
     "name": "stdout",
     "output_type": "stream",
     "text": [
      "num:\t 0\n",
      "num:\t 1\n",
      "num:\t 2\n",
      "Protein\n",
      " ['O60479' 'P57073' 'P17275' 'Q9Y5Q3' 'P56693' 'P37275' 'O60315' 'P28356'\n",
      " 'P54845' 'Q9HCS4' 'Q9UPG8' 'P31629' 'Q8NBF1' 'P49715' 'Q9BT81' 'Q5U5X8'\n",
      " 'Q9H6I2' 'Q99814' 'P57682' 'Q9UPN9']\n"
     ]
    },
    {
     "name": "stderr",
     "output_type": "stream",
     "text": [
      "/tmp/ipykernel_19687/1986022666.py:6: SettingWithCopyWarning: \n",
      "A value is trying to be set on a copy of a slice from a DataFrame.\n",
      "Try using .loc[row_indexer,col_indexer] = value instead\n",
      "\n",
      "See the caveats in the documentation: https://pandas.pydata.org/pandas-docs/stable/user_guide/indexing.html#returning-a-view-versus-a-copy\n",
      "  filter_features[\"Score\"] = filter_features[\"Score\"].astype(float)\n",
      "/tmp/ipykernel_19687/1986022666.py:7: SettingWithCopyWarning: \n",
      "A value is trying to be set on a copy of a slice from a DataFrame.\n",
      "Try using .loc[row_indexer,col_indexer] = value instead\n",
      "\n",
      "See the caveats in the documentation: https://pandas.pydata.org/pandas-docs/stable/user_guide/indexing.html#returning-a-view-versus-a-copy\n",
      "  filter_features[\"Score\"] = filter_features[\"Score\"].round(2)\n"
     ]
    },
    {
     "name": "stdout",
     "output_type": "stream",
     "text": [
      "num:\t 0\n",
      "num:\t 1\n",
      "num:\t 2\n",
      "Protein\n",
      " ['Q14152' 'Q9Y3X0' 'P08621' 'P48634' 'P23588' 'Q9UPT8' 'Q8NCA5' 'P51114'\n",
      " 'Q9Y2W1' 'Q5T200' 'Q9NQI0' 'Q9UBU9' 'Q92804' 'O00571' 'Q86VM9' 'Q96EV2'\n",
      " 'Q9BTL3' 'Q8NC51' 'Q9NQS1' 'P49750']\n"
     ]
    },
    {
     "name": "stderr",
     "output_type": "stream",
     "text": [
      "/tmp/ipykernel_19687/1986022666.py:6: SettingWithCopyWarning: \n",
      "A value is trying to be set on a copy of a slice from a DataFrame.\n",
      "Try using .loc[row_indexer,col_indexer] = value instead\n",
      "\n",
      "See the caveats in the documentation: https://pandas.pydata.org/pandas-docs/stable/user_guide/indexing.html#returning-a-view-versus-a-copy\n",
      "  filter_features[\"Score\"] = filter_features[\"Score\"].astype(float)\n",
      "/tmp/ipykernel_19687/1986022666.py:7: SettingWithCopyWarning: \n",
      "A value is trying to be set on a copy of a slice from a DataFrame.\n",
      "Try using .loc[row_indexer,col_indexer] = value instead\n",
      "\n",
      "See the caveats in the documentation: https://pandas.pydata.org/pandas-docs/stable/user_guide/indexing.html#returning-a-view-versus-a-copy\n",
      "  filter_features[\"Score\"] = filter_features[\"Score\"].round(2)\n"
     ]
    },
    {
     "name": "stdout",
     "output_type": "stream",
     "text": [
      "num:\t 0\n",
      "num:\t 1\n",
      "num:\t 2\n",
      "Protein\n",
      " ['P48634' 'P23588' 'Q9Y2W1' 'Q14152' 'P08621' 'O00571' 'Q5T200' 'Q9Y3X0'\n",
      " 'Q8NCA5' 'O15523' 'Q8TF74' 'Q8ND56' 'P51114' 'Q86VM9' 'P35637' 'Q9UBU9'\n",
      " 'Q92804' 'Q32P51' 'Q9NQI0' 'Q9BTL3']\n"
     ]
    },
    {
     "name": "stderr",
     "output_type": "stream",
     "text": [
      "/tmp/ipykernel_19687/1986022666.py:6: SettingWithCopyWarning: \n",
      "A value is trying to be set on a copy of a slice from a DataFrame.\n",
      "Try using .loc[row_indexer,col_indexer] = value instead\n",
      "\n",
      "See the caveats in the documentation: https://pandas.pydata.org/pandas-docs/stable/user_guide/indexing.html#returning-a-view-versus-a-copy\n",
      "  filter_features[\"Score\"] = filter_features[\"Score\"].astype(float)\n",
      "/tmp/ipykernel_19687/1986022666.py:7: SettingWithCopyWarning: \n",
      "A value is trying to be set on a copy of a slice from a DataFrame.\n",
      "Try using .loc[row_indexer,col_indexer] = value instead\n",
      "\n",
      "See the caveats in the documentation: https://pandas.pydata.org/pandas-docs/stable/user_guide/indexing.html#returning-a-view-versus-a-copy\n",
      "  filter_features[\"Score\"] = filter_features[\"Score\"].round(2)\n"
     ]
    },
    {
     "name": "stdout",
     "output_type": "stream",
     "text": [
      "num:\t 0\n",
      "num:\t 1\n",
      "num:\t 2\n",
      "Protein\n",
      " ['Q8N8S7' 'Q3KQU3' 'Q9BQI5' 'Q9H987' 'P29966' 'Q9NX63' 'Q14978' 'Q86VM9'\n",
      " 'Q96T17' 'O15417' 'P78559' 'O43281' 'Q5VWG9' 'Q70E73' 'Q66K74' 'Q9UQ35'\n",
      " 'Q8IWC1' 'Q5SYE7' 'Q9C0D0' 'Q9BXF6']\n"
     ]
    },
    {
     "name": "stderr",
     "output_type": "stream",
     "text": [
      "/tmp/ipykernel_19687/1986022666.py:6: SettingWithCopyWarning: \n",
      "A value is trying to be set on a copy of a slice from a DataFrame.\n",
      "Try using .loc[row_indexer,col_indexer] = value instead\n",
      "\n",
      "See the caveats in the documentation: https://pandas.pydata.org/pandas-docs/stable/user_guide/indexing.html#returning-a-view-versus-a-copy\n",
      "  filter_features[\"Score\"] = filter_features[\"Score\"].astype(float)\n",
      "/tmp/ipykernel_19687/1986022666.py:7: SettingWithCopyWarning: \n",
      "A value is trying to be set on a copy of a slice from a DataFrame.\n",
      "Try using .loc[row_indexer,col_indexer] = value instead\n",
      "\n",
      "See the caveats in the documentation: https://pandas.pydata.org/pandas-docs/stable/user_guide/indexing.html#returning-a-view-versus-a-copy\n",
      "  filter_features[\"Score\"] = filter_features[\"Score\"].round(2)\n"
     ]
    },
    {
     "name": "stdout",
     "output_type": "stream",
     "text": [
      "num:\t 0\n",
      "num:\t 1\n",
      "num:\t 2\n",
      "Protein\n",
      " ['Q14185' 'Q9P206' 'Q9H7D0' 'Q07889' 'Q6ZMT1' 'Q8TF72' 'O14974' 'Q5VWP3'\n",
      " 'Q9H992' 'Q5SYE7' 'Q8IZD9' 'Q8N1M1' 'Q68EN5' 'Q5HYW2' 'Q96L34' 'A6NIX2'\n",
      " 'Q9C0H9' 'Q8ND83' 'O43150' 'O75385']\n"
     ]
    },
    {
     "name": "stderr",
     "output_type": "stream",
     "text": [
      "/tmp/ipykernel_19687/1986022666.py:6: SettingWithCopyWarning: \n",
      "A value is trying to be set on a copy of a slice from a DataFrame.\n",
      "Try using .loc[row_indexer,col_indexer] = value instead\n",
      "\n",
      "See the caveats in the documentation: https://pandas.pydata.org/pandas-docs/stable/user_guide/indexing.html#returning-a-view-versus-a-copy\n",
      "  filter_features[\"Score\"] = filter_features[\"Score\"].astype(float)\n",
      "/tmp/ipykernel_19687/1986022666.py:7: SettingWithCopyWarning: \n",
      "A value is trying to be set on a copy of a slice from a DataFrame.\n",
      "Try using .loc[row_indexer,col_indexer] = value instead\n",
      "\n",
      "See the caveats in the documentation: https://pandas.pydata.org/pandas-docs/stable/user_guide/indexing.html#returning-a-view-versus-a-copy\n",
      "  filter_features[\"Score\"] = filter_features[\"Score\"].round(2)\n"
     ]
    },
    {
     "name": "stdout",
     "output_type": "stream",
     "text": [
      "num:\t 0\n",
      "num:\t 1\n",
      "num:\t 2\n",
      "Protein\n",
      " ['P04732' 'Q9BXJ4' 'Q96PD4' 'P08697' 'Q9BQM9' 'P27816' 'O15130' 'P78552'\n",
      " 'O00469' 'Q9Y2A9' 'O60609' 'P04156' 'Q8NBP7' 'O15232' 'P49788' 'Q6PL45'\n",
      " 'Q2L4Q9' 'Q2MV58' 'P60153' 'P32970']\n"
     ]
    },
    {
     "name": "stderr",
     "output_type": "stream",
     "text": [
      "/tmp/ipykernel_19687/1986022666.py:6: SettingWithCopyWarning: \n",
      "A value is trying to be set on a copy of a slice from a DataFrame.\n",
      "Try using .loc[row_indexer,col_indexer] = value instead\n",
      "\n",
      "See the caveats in the documentation: https://pandas.pydata.org/pandas-docs/stable/user_guide/indexing.html#returning-a-view-versus-a-copy\n",
      "  filter_features[\"Score\"] = filter_features[\"Score\"].astype(float)\n",
      "/tmp/ipykernel_19687/1986022666.py:7: SettingWithCopyWarning: \n",
      "A value is trying to be set on a copy of a slice from a DataFrame.\n",
      "Try using .loc[row_indexer,col_indexer] = value instead\n",
      "\n",
      "See the caveats in the documentation: https://pandas.pydata.org/pandas-docs/stable/user_guide/indexing.html#returning-a-view-versus-a-copy\n",
      "  filter_features[\"Score\"] = filter_features[\"Score\"].round(2)\n"
     ]
    },
    {
     "name": "stdout",
     "output_type": "stream",
     "text": [
      "num:\t 0\n",
      "num:\t 1\n",
      "num:\t 2\n",
      "Protein\n",
      " ['Q8N264' 'Q8N387' 'A6NHS7' 'Q9ULI3' 'Q01974' 'Q6UWJ8' 'P25063' 'P33032'\n",
      " 'Q04900' 'Q99527' 'Q8N1I0' 'P40225' 'Q8IXT1' 'Q8N131' 'O75077' 'P13473'\n",
      " 'P34910' 'P30518' 'P18433' 'P57740']\n"
     ]
    },
    {
     "name": "stderr",
     "output_type": "stream",
     "text": [
      "/tmp/ipykernel_19687/1986022666.py:6: SettingWithCopyWarning: \n",
      "A value is trying to be set on a copy of a slice from a DataFrame.\n",
      "Try using .loc[row_indexer,col_indexer] = value instead\n",
      "\n",
      "See the caveats in the documentation: https://pandas.pydata.org/pandas-docs/stable/user_guide/indexing.html#returning-a-view-versus-a-copy\n",
      "  filter_features[\"Score\"] = filter_features[\"Score\"].astype(float)\n",
      "/tmp/ipykernel_19687/1986022666.py:7: SettingWithCopyWarning: \n",
      "A value is trying to be set on a copy of a slice from a DataFrame.\n",
      "Try using .loc[row_indexer,col_indexer] = value instead\n",
      "\n",
      "See the caveats in the documentation: https://pandas.pydata.org/pandas-docs/stable/user_guide/indexing.html#returning-a-view-versus-a-copy\n",
      "  filter_features[\"Score\"] = filter_features[\"Score\"].round(2)\n"
     ]
    },
    {
     "name": "stdout",
     "output_type": "stream",
     "text": [
      "num:\t 0\n",
      "num:\t 1\n",
      "num:\t 2\n",
      "Protein\n",
      " ['Q8N1I0' 'Q01974' 'P33032' 'Q8N264' 'Q9C0K0' 'P10071' 'Q99527' 'A6NHS7'\n",
      " 'Q8N387' 'Q9ULI3' 'P08575' 'Q6AZY7' 'Q9UBP4' 'P41968' 'Q6UWJ8' 'P46095'\n",
      " 'P40225' 'P28222' 'P25063' 'Q04900']\n"
     ]
    },
    {
     "name": "stderr",
     "output_type": "stream",
     "text": [
      "/tmp/ipykernel_19687/1986022666.py:6: SettingWithCopyWarning: \n",
      "A value is trying to be set on a copy of a slice from a DataFrame.\n",
      "Try using .loc[row_indexer,col_indexer] = value instead\n",
      "\n",
      "See the caveats in the documentation: https://pandas.pydata.org/pandas-docs/stable/user_guide/indexing.html#returning-a-view-versus-a-copy\n",
      "  filter_features[\"Score\"] = filter_features[\"Score\"].astype(float)\n",
      "/tmp/ipykernel_19687/1986022666.py:7: SettingWithCopyWarning: \n",
      "A value is trying to be set on a copy of a slice from a DataFrame.\n",
      "Try using .loc[row_indexer,col_indexer] = value instead\n",
      "\n",
      "See the caveats in the documentation: https://pandas.pydata.org/pandas-docs/stable/user_guide/indexing.html#returning-a-view-versus-a-copy\n",
      "  filter_features[\"Score\"] = filter_features[\"Score\"].round(2)\n"
     ]
    },
    {
     "name": "stdout",
     "output_type": "stream",
     "text": [
      "num:\t 0\n",
      "num:\t 1\n",
      "num:\t 2\n",
      "Protein\n",
      " ['Q14185' 'Q9H992' 'Q9UQC2' 'O75385' 'Q96L34' 'Q8TDW5' 'Q5VZ89' 'Q13370'\n",
      " 'Q9P2F8' 'Q5SYE7' 'Q8TF72' 'Q8ND83' 'O14974' 'O14827' 'P78524' 'Q13387'\n",
      " 'Q8IYT8' 'Q9BXF6' 'A6NIX2' 'Q7Z401']\n"
     ]
    },
    {
     "name": "stderr",
     "output_type": "stream",
     "text": [
      "/tmp/ipykernel_19687/1986022666.py:6: SettingWithCopyWarning: \n",
      "A value is trying to be set on a copy of a slice from a DataFrame.\n",
      "Try using .loc[row_indexer,col_indexer] = value instead\n",
      "\n",
      "See the caveats in the documentation: https://pandas.pydata.org/pandas-docs/stable/user_guide/indexing.html#returning-a-view-versus-a-copy\n",
      "  filter_features[\"Score\"] = filter_features[\"Score\"].astype(float)\n",
      "/tmp/ipykernel_19687/1986022666.py:7: SettingWithCopyWarning: \n",
      "A value is trying to be set on a copy of a slice from a DataFrame.\n",
      "Try using .loc[row_indexer,col_indexer] = value instead\n",
      "\n",
      "See the caveats in the documentation: https://pandas.pydata.org/pandas-docs/stable/user_guide/indexing.html#returning-a-view-versus-a-copy\n",
      "  filter_features[\"Score\"] = filter_features[\"Score\"].round(2)\n"
     ]
    },
    {
     "name": "stdout",
     "output_type": "stream",
     "text": [
      "num:\t 0\n",
      "num:\t 1\n",
      "num:\t 2\n",
      "Protein\n",
      " ['P37198' 'Q96HA1' 'A8CG34' 'P35658' 'P49790' 'Q7Z3B4' 'Q96KW2' 'Q9BVL2'\n",
      " 'P19012' 'P35908' 'P12035' 'Q8N1N4' 'P13647' 'Q99456' 'A6NHQ2' 'P35527'\n",
      " 'P52948' 'O15504' 'P15502' 'P22087']\n"
     ]
    },
    {
     "name": "stderr",
     "output_type": "stream",
     "text": [
      "/tmp/ipykernel_19687/1986022666.py:6: SettingWithCopyWarning: \n",
      "A value is trying to be set on a copy of a slice from a DataFrame.\n",
      "Try using .loc[row_indexer,col_indexer] = value instead\n",
      "\n",
      "See the caveats in the documentation: https://pandas.pydata.org/pandas-docs/stable/user_guide/indexing.html#returning-a-view-versus-a-copy\n",
      "  filter_features[\"Score\"] = filter_features[\"Score\"].astype(float)\n",
      "/tmp/ipykernel_19687/1986022666.py:7: SettingWithCopyWarning: \n",
      "A value is trying to be set on a copy of a slice from a DataFrame.\n",
      "Try using .loc[row_indexer,col_indexer] = value instead\n",
      "\n",
      "See the caveats in the documentation: https://pandas.pydata.org/pandas-docs/stable/user_guide/indexing.html#returning-a-view-versus-a-copy\n",
      "  filter_features[\"Score\"] = filter_features[\"Score\"].round(2)\n"
     ]
    },
    {
     "name": "stdout",
     "output_type": "stream",
     "text": [
      "num:\t 0\n",
      "num:\t 1\n",
      "num:\t 2\n",
      "Protein\n",
      " ['Q9P2F5' 'Q8N264' 'P11161' 'Q96MT3' 'P50548' 'Q9C0K0' 'Q96J84' 'O76039'\n",
      " 'P10071' 'Q9UQF2' 'Q15678' 'Q01668' 'Q9H8M9' 'Q8N350' 'Q9C0B5' 'Q5JU85'\n",
      " 'Q96EX2' 'Q9C0H9' 'Q12968' 'Q5TGY3']\n"
     ]
    },
    {
     "name": "stderr",
     "output_type": "stream",
     "text": [
      "/tmp/ipykernel_19687/1986022666.py:6: SettingWithCopyWarning: \n",
      "A value is trying to be set on a copy of a slice from a DataFrame.\n",
      "Try using .loc[row_indexer,col_indexer] = value instead\n",
      "\n",
      "See the caveats in the documentation: https://pandas.pydata.org/pandas-docs/stable/user_guide/indexing.html#returning-a-view-versus-a-copy\n",
      "  filter_features[\"Score\"] = filter_features[\"Score\"].astype(float)\n",
      "/tmp/ipykernel_19687/1986022666.py:7: SettingWithCopyWarning: \n",
      "A value is trying to be set on a copy of a slice from a DataFrame.\n",
      "Try using .loc[row_indexer,col_indexer] = value instead\n",
      "\n",
      "See the caveats in the documentation: https://pandas.pydata.org/pandas-docs/stable/user_guide/indexing.html#returning-a-view-versus-a-copy\n",
      "  filter_features[\"Score\"] = filter_features[\"Score\"].round(2)\n"
     ]
    },
    {
     "name": "stdout",
     "output_type": "stream",
     "text": [
      "num:\t 0\n",
      "num:\t 1\n",
      "num:\t 2\n",
      "Protein\n",
      " ['Q13905' 'Q9P206' 'Q9H7D0' 'Q5HYW2' 'Q14185' 'Q5SYE7' 'Q8TF72' 'Q07889'\n",
      " 'P78524' 'Q68EN5' 'Q9Y4H2' 'Q6ZMT1' 'Q96L34' 'Q9C0D6' 'O60307' 'Q6DN90'\n",
      " 'O95696' 'Q8N1M1' 'Q8IZD9' 'Q9UQ35']\n"
     ]
    },
    {
     "name": "stderr",
     "output_type": "stream",
     "text": [
      "/tmp/ipykernel_19687/1986022666.py:6: SettingWithCopyWarning: \n",
      "A value is trying to be set on a copy of a slice from a DataFrame.\n",
      "Try using .loc[row_indexer,col_indexer] = value instead\n",
      "\n",
      "See the caveats in the documentation: https://pandas.pydata.org/pandas-docs/stable/user_guide/indexing.html#returning-a-view-versus-a-copy\n",
      "  filter_features[\"Score\"] = filter_features[\"Score\"].astype(float)\n",
      "/tmp/ipykernel_19687/1986022666.py:7: SettingWithCopyWarning: \n",
      "A value is trying to be set on a copy of a slice from a DataFrame.\n",
      "Try using .loc[row_indexer,col_indexer] = value instead\n",
      "\n",
      "See the caveats in the documentation: https://pandas.pydata.org/pandas-docs/stable/user_guide/indexing.html#returning-a-view-versus-a-copy\n",
      "  filter_features[\"Score\"] = filter_features[\"Score\"].round(2)\n"
     ]
    },
    {
     "name": "stdout",
     "output_type": "stream",
     "text": [
      "num:\t 0\n",
      "num:\t 1\n",
      "num:\t 2\n",
      "Protein\n",
      " ['Q96PD4' 'P08697' 'P11047' 'O75355' 'Q9H4A9' 'Q6PL45' 'P32970' 'P41439'\n",
      " 'Q9ULL4' 'Q9H1C3' 'P15586' 'Q9Y251' 'Q8IZI9' 'Q9H4B8' 'P04066' 'P49788'\n",
      " 'Q99988' 'P05187' 'Q96AQ8' 'Q9H497']\n"
     ]
    },
    {
     "name": "stderr",
     "output_type": "stream",
     "text": [
      "/tmp/ipykernel_19687/1986022666.py:6: SettingWithCopyWarning: \n",
      "A value is trying to be set on a copy of a slice from a DataFrame.\n",
      "Try using .loc[row_indexer,col_indexer] = value instead\n",
      "\n",
      "See the caveats in the documentation: https://pandas.pydata.org/pandas-docs/stable/user_guide/indexing.html#returning-a-view-versus-a-copy\n",
      "  filter_features[\"Score\"] = filter_features[\"Score\"].astype(float)\n",
      "/tmp/ipykernel_19687/1986022666.py:7: SettingWithCopyWarning: \n",
      "A value is trying to be set on a copy of a slice from a DataFrame.\n",
      "Try using .loc[row_indexer,col_indexer] = value instead\n",
      "\n",
      "See the caveats in the documentation: https://pandas.pydata.org/pandas-docs/stable/user_guide/indexing.html#returning-a-view-versus-a-copy\n",
      "  filter_features[\"Score\"] = filter_features[\"Score\"].round(2)\n"
     ]
    },
    {
     "name": "stdout",
     "output_type": "stream",
     "text": [
      "num:\t 0\n",
      "num:\t 1\n",
      "num:\t 2\n",
      "Protein\n",
      " ['Q9Y2W1' 'Q9UPA5' 'P48634' 'Q15648' 'Q13523' 'Q5T200' 'Q8IYB3' 'Q14686'\n",
      " 'O00294' 'P46013' 'Q5VT06' 'Q9UQ88' 'Q8NDV7' 'Q8TAD8' 'Q9P1Y6' 'Q8WXA9'\n",
      " 'O15417' 'Q86VM9' 'Q13427' 'Q9NVW2']\n"
     ]
    },
    {
     "name": "stderr",
     "output_type": "stream",
     "text": [
      "/tmp/ipykernel_19687/1986022666.py:6: SettingWithCopyWarning: \n",
      "A value is trying to be set on a copy of a slice from a DataFrame.\n",
      "Try using .loc[row_indexer,col_indexer] = value instead\n",
      "\n",
      "See the caveats in the documentation: https://pandas.pydata.org/pandas-docs/stable/user_guide/indexing.html#returning-a-view-versus-a-copy\n",
      "  filter_features[\"Score\"] = filter_features[\"Score\"].astype(float)\n",
      "/tmp/ipykernel_19687/1986022666.py:7: SettingWithCopyWarning: \n",
      "A value is trying to be set on a copy of a slice from a DataFrame.\n",
      "Try using .loc[row_indexer,col_indexer] = value instead\n",
      "\n",
      "See the caveats in the documentation: https://pandas.pydata.org/pandas-docs/stable/user_guide/indexing.html#returning-a-view-versus-a-copy\n",
      "  filter_features[\"Score\"] = filter_features[\"Score\"].round(2)\n"
     ]
    },
    {
     "name": "stdout",
     "output_type": "stream",
     "text": [
      "num:\t 0\n",
      "num:\t 1\n",
      "num:\t 2\n",
      "Protein\n",
      " ['P08621' 'P23588' 'Q05519' 'O95232' 'Q5T200' 'Q13427' 'Q96IZ7' 'Q14498'\n",
      " 'Q9NQ29' 'Q86VM9' 'Q13523' 'Q15424' 'Q9Y2W1' 'Q08170' 'Q9BUQ8' 'Q8TAD8'\n",
      " 'Q9BTC0' 'Q9Y383' 'Q9NWH9' 'O95104']\n"
     ]
    },
    {
     "name": "stderr",
     "output_type": "stream",
     "text": [
      "/tmp/ipykernel_19687/1986022666.py:6: SettingWithCopyWarning: \n",
      "A value is trying to be set on a copy of a slice from a DataFrame.\n",
      "Try using .loc[row_indexer,col_indexer] = value instead\n",
      "\n",
      "See the caveats in the documentation: https://pandas.pydata.org/pandas-docs/stable/user_guide/indexing.html#returning-a-view-versus-a-copy\n",
      "  filter_features[\"Score\"] = filter_features[\"Score\"].astype(float)\n",
      "/tmp/ipykernel_19687/1986022666.py:7: SettingWithCopyWarning: \n",
      "A value is trying to be set on a copy of a slice from a DataFrame.\n",
      "Try using .loc[row_indexer,col_indexer] = value instead\n",
      "\n",
      "See the caveats in the documentation: https://pandas.pydata.org/pandas-docs/stable/user_guide/indexing.html#returning-a-view-versus-a-copy\n",
      "  filter_features[\"Score\"] = filter_features[\"Score\"].round(2)\n"
     ]
    },
    {
     "name": "stdout",
     "output_type": "stream",
     "text": [
      "num:\t 0\n",
      "num:\t 1\n",
      "num:\t 2\n",
      "Protein\n",
      " ['Q14978' 'P46013' 'Q02952' 'A6H8Y1' 'Q96T23' 'Q8WYP5' 'Q13428' 'P18583'\n",
      " 'Q9NQS7' 'Q9NTI5' 'Q6PD62' 'P35269' 'O76021' 'O00567' 'P07305'\n",
      " 'A0A1B0GTU1' 'O75167' 'O15446' 'Q8NFC6' 'P20042']\n"
     ]
    },
    {
     "name": "stderr",
     "output_type": "stream",
     "text": [
      "/tmp/ipykernel_19687/1986022666.py:6: SettingWithCopyWarning: \n",
      "A value is trying to be set on a copy of a slice from a DataFrame.\n",
      "Try using .loc[row_indexer,col_indexer] = value instead\n",
      "\n",
      "See the caveats in the documentation: https://pandas.pydata.org/pandas-docs/stable/user_guide/indexing.html#returning-a-view-versus-a-copy\n",
      "  filter_features[\"Score\"] = filter_features[\"Score\"].astype(float)\n",
      "/tmp/ipykernel_19687/1986022666.py:7: SettingWithCopyWarning: \n",
      "A value is trying to be set on a copy of a slice from a DataFrame.\n",
      "Try using .loc[row_indexer,col_indexer] = value instead\n",
      "\n",
      "See the caveats in the documentation: https://pandas.pydata.org/pandas-docs/stable/user_guide/indexing.html#returning-a-view-versus-a-copy\n",
      "  filter_features[\"Score\"] = filter_features[\"Score\"].round(2)\n"
     ]
    },
    {
     "name": "stdout",
     "output_type": "stream",
     "text": [
      "num:\t 0\n",
      "num:\t 1\n",
      "num:\t 2\n",
      "Protein\n",
      " ['O15446' 'O00567' 'O75683' 'O14617' 'Q3B726' 'Q1ED39' 'Q9Y2X3' 'Q8NE71'\n",
      " 'O00541' 'Q15397' 'P27816' 'P50579' 'O76021' 'P20042' 'Q6PII3' 'Q96BK5'\n",
      " 'Q9P031' 'Q9NVP1' 'Q9H1E3' 'P82970']\n"
     ]
    },
    {
     "name": "stderr",
     "output_type": "stream",
     "text": [
      "/tmp/ipykernel_19687/1986022666.py:6: SettingWithCopyWarning: \n",
      "A value is trying to be set on a copy of a slice from a DataFrame.\n",
      "Try using .loc[row_indexer,col_indexer] = value instead\n",
      "\n",
      "See the caveats in the documentation: https://pandas.pydata.org/pandas-docs/stable/user_guide/indexing.html#returning-a-view-versus-a-copy\n",
      "  filter_features[\"Score\"] = filter_features[\"Score\"].astype(float)\n",
      "/tmp/ipykernel_19687/1986022666.py:7: SettingWithCopyWarning: \n",
      "A value is trying to be set on a copy of a slice from a DataFrame.\n",
      "Try using .loc[row_indexer,col_indexer] = value instead\n",
      "\n",
      "See the caveats in the documentation: https://pandas.pydata.org/pandas-docs/stable/user_guide/indexing.html#returning-a-view-versus-a-copy\n",
      "  filter_features[\"Score\"] = filter_features[\"Score\"].round(2)\n"
     ]
    },
    {
     "name": "stdout",
     "output_type": "stream",
     "text": [
      "num:\t 0\n",
      "num:\t 1\n",
      "num:\t 2\n",
      "Protein\n",
      " ['Q8IYU8' 'Q9H0B3' 'P36551' 'Q9BUB7' 'P10109' 'P0DPI2' 'Q9NRK6'\n",
      " 'A0A096LP49' 'P06576' 'Q8N159' 'Q96AQ8' 'Q9H7Z7' 'Q9UJA2' 'Q9P0J6'\n",
      " 'Q96D53' 'Q07021' 'Q9NZE8' 'A0A0B4J2D5' 'O14561' 'Q96EH3']\n"
     ]
    },
    {
     "name": "stderr",
     "output_type": "stream",
     "text": [
      "/tmp/ipykernel_19687/1986022666.py:6: SettingWithCopyWarning: \n",
      "A value is trying to be set on a copy of a slice from a DataFrame.\n",
      "Try using .loc[row_indexer,col_indexer] = value instead\n",
      "\n",
      "See the caveats in the documentation: https://pandas.pydata.org/pandas-docs/stable/user_guide/indexing.html#returning-a-view-versus-a-copy\n",
      "  filter_features[\"Score\"] = filter_features[\"Score\"].astype(float)\n",
      "/tmp/ipykernel_19687/1986022666.py:7: SettingWithCopyWarning: \n",
      "A value is trying to be set on a copy of a slice from a DataFrame.\n",
      "Try using .loc[row_indexer,col_indexer] = value instead\n",
      "\n",
      "See the caveats in the documentation: https://pandas.pydata.org/pandas-docs/stable/user_guide/indexing.html#returning-a-view-versus-a-copy\n",
      "  filter_features[\"Score\"] = filter_features[\"Score\"].round(2)\n"
     ]
    },
    {
     "name": "stdout",
     "output_type": "stream",
     "text": [
      "num:\t 0\n",
      "num:\t 1\n",
      "num:\t 2\n",
      "Protein\n",
      " ['Q9BXF6' 'Q9Y6I3' 'Q9NQC3' 'Q9Y6A5' 'Q9H201' 'O95359' 'P52594' 'O95208'\n",
      " 'Q8IWE5' 'Q13492' 'P98082' 'O15127' 'Q9UNF0' 'Q75VX8' 'O15126' 'Q15788'\n",
      " 'Q9BWG4' 'Q5BKZ1' 'O14828' 'Q8TEH3']\n"
     ]
    },
    {
     "name": "stderr",
     "output_type": "stream",
     "text": [
      "/tmp/ipykernel_19687/1986022666.py:6: SettingWithCopyWarning: \n",
      "A value is trying to be set on a copy of a slice from a DataFrame.\n",
      "Try using .loc[row_indexer,col_indexer] = value instead\n",
      "\n",
      "See the caveats in the documentation: https://pandas.pydata.org/pandas-docs/stable/user_guide/indexing.html#returning-a-view-versus-a-copy\n",
      "  filter_features[\"Score\"] = filter_features[\"Score\"].astype(float)\n",
      "/tmp/ipykernel_19687/1986022666.py:7: SettingWithCopyWarning: \n",
      "A value is trying to be set on a copy of a slice from a DataFrame.\n",
      "Try using .loc[row_indexer,col_indexer] = value instead\n",
      "\n",
      "See the caveats in the documentation: https://pandas.pydata.org/pandas-docs/stable/user_guide/indexing.html#returning-a-view-versus-a-copy\n",
      "  filter_features[\"Score\"] = filter_features[\"Score\"].round(2)\n"
     ]
    },
    {
     "name": "stdout",
     "output_type": "stream",
     "text": [
      "num:\t 0\n",
      "num:\t 1\n",
      "num:\t 2\n",
      "Protein\n",
      " ['Q9C0D2' 'Q96SN8' 'Q9P219' 'Q8TCU4' 'Q99996' 'O95613' 'Q8IYE1' 'Q8NCU4'\n",
      " 'Q674X7' 'Q5VT06' 'Q8IYX8' 'Q2TAC2' 'Q86XR8' 'Q6ZRK6' 'Q01850' 'Q86Z20'\n",
      " 'Q9BV73' 'Q8TD16' 'Q9Y4B5' 'Q8IYY4']\n"
     ]
    },
    {
     "name": "stderr",
     "output_type": "stream",
     "text": [
      "/tmp/ipykernel_19687/1986022666.py:6: SettingWithCopyWarning: \n",
      "A value is trying to be set on a copy of a slice from a DataFrame.\n",
      "Try using .loc[row_indexer,col_indexer] = value instead\n",
      "\n",
      "See the caveats in the documentation: https://pandas.pydata.org/pandas-docs/stable/user_guide/indexing.html#returning-a-view-versus-a-copy\n",
      "  filter_features[\"Score\"] = filter_features[\"Score\"].astype(float)\n",
      "/tmp/ipykernel_19687/1986022666.py:7: SettingWithCopyWarning: \n",
      "A value is trying to be set on a copy of a slice from a DataFrame.\n",
      "Try using .loc[row_indexer,col_indexer] = value instead\n",
      "\n",
      "See the caveats in the documentation: https://pandas.pydata.org/pandas-docs/stable/user_guide/indexing.html#returning-a-view-versus-a-copy\n",
      "  filter_features[\"Score\"] = filter_features[\"Score\"].round(2)\n"
     ]
    },
    {
     "name": "stdout",
     "output_type": "stream",
     "text": [
      "num:\t 0\n",
      "num:\t 1\n",
      "num:\t 2\n",
      "Protein\n",
      " ['Q9C0D2' 'Q96SN8' 'Q9P219' 'Q99996' 'Q8TCU4' 'Q674X7' 'O95613' 'Q8NCU4'\n",
      " 'Q5VT06' 'Q6ZRK6' 'Q8TD16' 'Q01850' 'Q2TAC2' 'Q86XR8' 'Q8IYX8' 'H7BZ55'\n",
      " 'Q8IYE1' 'Q96EA4' 'Q14980' 'Q3V6T2']\n"
     ]
    },
    {
     "name": "stderr",
     "output_type": "stream",
     "text": [
      "/tmp/ipykernel_19687/1986022666.py:6: SettingWithCopyWarning: \n",
      "A value is trying to be set on a copy of a slice from a DataFrame.\n",
      "Try using .loc[row_indexer,col_indexer] = value instead\n",
      "\n",
      "See the caveats in the documentation: https://pandas.pydata.org/pandas-docs/stable/user_guide/indexing.html#returning-a-view-versus-a-copy\n",
      "  filter_features[\"Score\"] = filter_features[\"Score\"].astype(float)\n",
      "/tmp/ipykernel_19687/1986022666.py:7: SettingWithCopyWarning: \n",
      "A value is trying to be set on a copy of a slice from a DataFrame.\n",
      "Try using .loc[row_indexer,col_indexer] = value instead\n",
      "\n",
      "See the caveats in the documentation: https://pandas.pydata.org/pandas-docs/stable/user_guide/indexing.html#returning-a-view-versus-a-copy\n",
      "  filter_features[\"Score\"] = filter_features[\"Score\"].round(2)\n"
     ]
    },
    {
     "name": "stdout",
     "output_type": "stream",
     "text": [
      "num:\t 0\n",
      "num:\t 1\n",
      "num:\t 2\n",
      "Protein\n",
      " ['Q9C0D2' 'Q96SN8' 'Q9P219' 'Q5VT06' 'Q8IYE1' 'Q8NCU4' 'O95613' 'Q8IYX8'\n",
      " 'Q99996' 'P0CG33' 'Q8IYY4' 'Q8TCU4' 'Q2TAC2' 'Q9NYA3' 'Q6ZRK6' 'A2RUB6'\n",
      " 'A6NDK9' 'Q2M1P5' 'Q8TD16' 'Q674X7']\n"
     ]
    },
    {
     "name": "stderr",
     "output_type": "stream",
     "text": [
      "/tmp/ipykernel_19687/1986022666.py:6: SettingWithCopyWarning: \n",
      "A value is trying to be set on a copy of a slice from a DataFrame.\n",
      "Try using .loc[row_indexer,col_indexer] = value instead\n",
      "\n",
      "See the caveats in the documentation: https://pandas.pydata.org/pandas-docs/stable/user_guide/indexing.html#returning-a-view-versus-a-copy\n",
      "  filter_features[\"Score\"] = filter_features[\"Score\"].astype(float)\n",
      "/tmp/ipykernel_19687/1986022666.py:7: SettingWithCopyWarning: \n",
      "A value is trying to be set on a copy of a slice from a DataFrame.\n",
      "Try using .loc[row_indexer,col_indexer] = value instead\n",
      "\n",
      "See the caveats in the documentation: https://pandas.pydata.org/pandas-docs/stable/user_guide/indexing.html#returning-a-view-versus-a-copy\n",
      "  filter_features[\"Score\"] = filter_features[\"Score\"].round(2)\n"
     ]
    },
    {
     "name": "stdout",
     "output_type": "stream",
     "text": [
      "num:\t 0\n",
      "num:\t 1\n",
      "num:\t 2\n",
      "Protein\n",
      " ['Q9Y2H5' 'A6NIX2' 'Q9HAU0' 'Q92738' 'Q6IQ23' 'Q9Y4G8' 'Q99569' 'Q8N412'\n",
      " 'P50402' 'O60716' 'Q99959' 'O00192' 'Q9HBD1' 'Q96J84' 'Q658L1' 'O75604'\n",
      " 'P17661' 'Q9H992' 'Q71H61' 'O94929']\n"
     ]
    },
    {
     "name": "stderr",
     "output_type": "stream",
     "text": [
      "/tmp/ipykernel_19687/1986022666.py:6: SettingWithCopyWarning: \n",
      "A value is trying to be set on a copy of a slice from a DataFrame.\n",
      "Try using .loc[row_indexer,col_indexer] = value instead\n",
      "\n",
      "See the caveats in the documentation: https://pandas.pydata.org/pandas-docs/stable/user_guide/indexing.html#returning-a-view-versus-a-copy\n",
      "  filter_features[\"Score\"] = filter_features[\"Score\"].astype(float)\n",
      "/tmp/ipykernel_19687/1986022666.py:7: SettingWithCopyWarning: \n",
      "A value is trying to be set on a copy of a slice from a DataFrame.\n",
      "Try using .loc[row_indexer,col_indexer] = value instead\n",
      "\n",
      "See the caveats in the documentation: https://pandas.pydata.org/pandas-docs/stable/user_guide/indexing.html#returning-a-view-versus-a-copy\n",
      "  filter_features[\"Score\"] = filter_features[\"Score\"].round(2)\n"
     ]
    },
    {
     "name": "stdout",
     "output_type": "stream",
     "text": [
      "num:\t 0\n",
      "num:\t 1\n",
      "num:\t 2\n",
      "Protein\n",
      " ['P46013' 'Q13428' 'O76021' 'P07305' 'Q8WYP5' 'Q96T88' 'Q14978' 'Q02952'\n",
      " 'P22492' 'Q13416' 'Q56NI9' 'Q9NTI5' 'Q02880' 'Q1ED39' 'Q96T23' 'Q4VC05'\n",
      " 'P06748' 'P35659' 'Q9BX26' 'P35269']\n"
     ]
    },
    {
     "name": "stderr",
     "output_type": "stream",
     "text": [
      "/tmp/ipykernel_19687/1986022666.py:6: SettingWithCopyWarning: \n",
      "A value is trying to be set on a copy of a slice from a DataFrame.\n",
      "Try using .loc[row_indexer,col_indexer] = value instead\n",
      "\n",
      "See the caveats in the documentation: https://pandas.pydata.org/pandas-docs/stable/user_guide/indexing.html#returning-a-view-versus-a-copy\n",
      "  filter_features[\"Score\"] = filter_features[\"Score\"].astype(float)\n",
      "/tmp/ipykernel_19687/1986022666.py:7: SettingWithCopyWarning: \n",
      "A value is trying to be set on a copy of a slice from a DataFrame.\n",
      "Try using .loc[row_indexer,col_indexer] = value instead\n",
      "\n",
      "See the caveats in the documentation: https://pandas.pydata.org/pandas-docs/stable/user_guide/indexing.html#returning-a-view-versus-a-copy\n",
      "  filter_features[\"Score\"] = filter_features[\"Score\"].round(2)\n"
     ]
    },
    {
     "name": "stdout",
     "output_type": "stream",
     "text": [
      "num:\t 0\n",
      "num:\t 1\n",
      "num:\t 2\n",
      "Protein\n",
      " ['Q96T23' 'Q9H1E3' 'Q6PD62' 'Q9NTI5' 'A6H8Y1' 'Q4VC05' 'P18858' 'Q9Y6X4'\n",
      " 'Q5FWF4' 'Q02952' 'Q13427' 'P20585' 'Q14978' 'Q99590' 'Q99549' 'Q562F6'\n",
      " 'Q9NWS1' 'Q13428' 'Q5QJE6' 'Q9H040']\n"
     ]
    },
    {
     "name": "stderr",
     "output_type": "stream",
     "text": [
      "/tmp/ipykernel_19687/1986022666.py:6: SettingWithCopyWarning: \n",
      "A value is trying to be set on a copy of a slice from a DataFrame.\n",
      "Try using .loc[row_indexer,col_indexer] = value instead\n",
      "\n",
      "See the caveats in the documentation: https://pandas.pydata.org/pandas-docs/stable/user_guide/indexing.html#returning-a-view-versus-a-copy\n",
      "  filter_features[\"Score\"] = filter_features[\"Score\"].astype(float)\n",
      "/tmp/ipykernel_19687/1986022666.py:7: SettingWithCopyWarning: \n",
      "A value is trying to be set on a copy of a slice from a DataFrame.\n",
      "Try using .loc[row_indexer,col_indexer] = value instead\n",
      "\n",
      "See the caveats in the documentation: https://pandas.pydata.org/pandas-docs/stable/user_guide/indexing.html#returning-a-view-versus-a-copy\n",
      "  filter_features[\"Score\"] = filter_features[\"Score\"].round(2)\n"
     ]
    },
    {
     "name": "stdout",
     "output_type": "stream",
     "text": [
      "num:\t 0\n",
      "num:\t 1\n",
      "num:\t 2\n",
      "Protein\n",
      " ['Q14978' 'P07305' 'P22492' 'P16402' 'Q13428' 'Q14093' 'Q02539' 'P29966'\n",
      " 'P35659' 'O76021' 'P17677' 'P10412' 'Q92522' 'P11388' 'O00567' 'P20810'\n",
      " 'O00294' 'Q5SSJ5' 'Q5VWG9' 'P19338']\n"
     ]
    },
    {
     "name": "stderr",
     "output_type": "stream",
     "text": [
      "/tmp/ipykernel_19687/1986022666.py:6: SettingWithCopyWarning: \n",
      "A value is trying to be set on a copy of a slice from a DataFrame.\n",
      "Try using .loc[row_indexer,col_indexer] = value instead\n",
      "\n",
      "See the caveats in the documentation: https://pandas.pydata.org/pandas-docs/stable/user_guide/indexing.html#returning-a-view-versus-a-copy\n",
      "  filter_features[\"Score\"] = filter_features[\"Score\"].astype(float)\n",
      "/tmp/ipykernel_19687/1986022666.py:7: SettingWithCopyWarning: \n",
      "A value is trying to be set on a copy of a slice from a DataFrame.\n",
      "Try using .loc[row_indexer,col_indexer] = value instead\n",
      "\n",
      "See the caveats in the documentation: https://pandas.pydata.org/pandas-docs/stable/user_guide/indexing.html#returning-a-view-versus-a-copy\n",
      "  filter_features[\"Score\"] = filter_features[\"Score\"].round(2)\n"
     ]
    },
    {
     "name": "stdout",
     "output_type": "stream",
     "text": [
      "num:\t 0\n",
      "num:\t 1\n",
      "num:\t 2\n",
      "Protein\n",
      " ['P57073' 'Q9Y5Q3' 'P56693' 'P28356' 'P48634' 'P17275' 'Q86UU0' 'P54845'\n",
      " 'Q9UPG8' 'Q92786' 'Q12948' 'Q99583' 'O60479' 'P31629' 'Q9NY43' 'Q8WU58'\n",
      " 'Q9H0F5' 'Q9ULL5' 'Q9H6I2' 'P49715']\n"
     ]
    },
    {
     "name": "stderr",
     "output_type": "stream",
     "text": [
      "/tmp/ipykernel_19687/1986022666.py:6: SettingWithCopyWarning: \n",
      "A value is trying to be set on a copy of a slice from a DataFrame.\n",
      "Try using .loc[row_indexer,col_indexer] = value instead\n",
      "\n",
      "See the caveats in the documentation: https://pandas.pydata.org/pandas-docs/stable/user_guide/indexing.html#returning-a-view-versus-a-copy\n",
      "  filter_features[\"Score\"] = filter_features[\"Score\"].astype(float)\n",
      "/tmp/ipykernel_19687/1986022666.py:7: SettingWithCopyWarning: \n",
      "A value is trying to be set on a copy of a slice from a DataFrame.\n",
      "Try using .loc[row_indexer,col_indexer] = value instead\n",
      "\n",
      "See the caveats in the documentation: https://pandas.pydata.org/pandas-docs/stable/user_guide/indexing.html#returning-a-view-versus-a-copy\n",
      "  filter_features[\"Score\"] = filter_features[\"Score\"].round(2)\n"
     ]
    },
    {
     "name": "stdout",
     "output_type": "stream",
     "text": [
      "num:\t 0\n",
      "num:\t 1\n",
      "num:\t 2\n",
      "Protein\n",
      " ['P57073' 'Q9Y5Q3' 'P28356' 'P56693' 'P48634' 'P17275' 'Q86UU0' 'P54845'\n",
      " 'Q9UPG8' 'Q92786' 'P31629' 'Q12948' 'O60479' 'Q99583' 'Q8WU58' 'Q9H0F5'\n",
      " 'Q9NY43' 'Q9ULL5' 'Q9H7S9' 'Q5U5X8']\n"
     ]
    },
    {
     "name": "stderr",
     "output_type": "stream",
     "text": [
      "/tmp/ipykernel_19687/1986022666.py:6: SettingWithCopyWarning: \n",
      "A value is trying to be set on a copy of a slice from a DataFrame.\n",
      "Try using .loc[row_indexer,col_indexer] = value instead\n",
      "\n",
      "See the caveats in the documentation: https://pandas.pydata.org/pandas-docs/stable/user_guide/indexing.html#returning-a-view-versus-a-copy\n",
      "  filter_features[\"Score\"] = filter_features[\"Score\"].astype(float)\n",
      "/tmp/ipykernel_19687/1986022666.py:7: SettingWithCopyWarning: \n",
      "A value is trying to be set on a copy of a slice from a DataFrame.\n",
      "Try using .loc[row_indexer,col_indexer] = value instead\n",
      "\n",
      "See the caveats in the documentation: https://pandas.pydata.org/pandas-docs/stable/user_guide/indexing.html#returning-a-view-versus-a-copy\n",
      "  filter_features[\"Score\"] = filter_features[\"Score\"].round(2)\n"
     ]
    },
    {
     "name": "stdout",
     "output_type": "stream",
     "text": [
      "num:\t 0\n",
      "num:\t 1\n",
      "num:\t 2\n",
      "Protein\n",
      " ['P57073' 'Q9Y5Q3' 'P56693' 'P28356' 'P17275' 'Q86UU0' 'P48634' 'O60479'\n",
      " 'P54845' 'Q9UPG8' 'Q12948' 'Q99583' 'Q92786' 'Q8WU58' 'P31629' 'Q9H0F5'\n",
      " 'Q9NY43' 'Q9ULL5' 'Q5U5X8' 'Q8NBF1']\n"
     ]
    },
    {
     "name": "stderr",
     "output_type": "stream",
     "text": [
      "/tmp/ipykernel_19687/1986022666.py:6: SettingWithCopyWarning: \n",
      "A value is trying to be set on a copy of a slice from a DataFrame.\n",
      "Try using .loc[row_indexer,col_indexer] = value instead\n",
      "\n",
      "See the caveats in the documentation: https://pandas.pydata.org/pandas-docs/stable/user_guide/indexing.html#returning-a-view-versus-a-copy\n",
      "  filter_features[\"Score\"] = filter_features[\"Score\"].astype(float)\n",
      "/tmp/ipykernel_19687/1986022666.py:7: SettingWithCopyWarning: \n",
      "A value is trying to be set on a copy of a slice from a DataFrame.\n",
      "Try using .loc[row_indexer,col_indexer] = value instead\n",
      "\n",
      "See the caveats in the documentation: https://pandas.pydata.org/pandas-docs/stable/user_guide/indexing.html#returning-a-view-versus-a-copy\n",
      "  filter_features[\"Score\"] = filter_features[\"Score\"].round(2)\n"
     ]
    },
    {
     "name": "stdout",
     "output_type": "stream",
     "text": [
      "num:\t 0\n",
      "num:\t 1\n",
      "num:\t 2\n",
      "Protein\n",
      " ['P57073' 'Q9Y5Q3' 'P56693' 'P28356' 'P17275' 'Q86UU0' 'P48634' 'O60479'\n",
      " 'Q9UPG8' 'P54845' 'Q12948' 'Q99583' 'Q92786' 'Q8WU58' 'Q9NY43' 'Q9ULL5'\n",
      " 'P31629' 'Q9H0F5' 'P49715' 'Q5U5X8']\n"
     ]
    },
    {
     "name": "stderr",
     "output_type": "stream",
     "text": [
      "/tmp/ipykernel_19687/1986022666.py:6: SettingWithCopyWarning: \n",
      "A value is trying to be set on a copy of a slice from a DataFrame.\n",
      "Try using .loc[row_indexer,col_indexer] = value instead\n",
      "\n",
      "See the caveats in the documentation: https://pandas.pydata.org/pandas-docs/stable/user_guide/indexing.html#returning-a-view-versus-a-copy\n",
      "  filter_features[\"Score\"] = filter_features[\"Score\"].astype(float)\n",
      "/tmp/ipykernel_19687/1986022666.py:7: SettingWithCopyWarning: \n",
      "A value is trying to be set on a copy of a slice from a DataFrame.\n",
      "Try using .loc[row_indexer,col_indexer] = value instead\n",
      "\n",
      "See the caveats in the documentation: https://pandas.pydata.org/pandas-docs/stable/user_guide/indexing.html#returning-a-view-versus-a-copy\n",
      "  filter_features[\"Score\"] = filter_features[\"Score\"].round(2)\n"
     ]
    },
    {
     "name": "stdout",
     "output_type": "stream",
     "text": [
      "num:\t 0\n",
      "num:\t 1\n",
      "num:\t 2\n",
      "Protein\n",
      " ['Q14152' 'P08621' 'Q5T200' 'Q9Y2W1' 'Q13523' 'Q9Y3X0' 'P23588' 'Q13427'\n",
      " 'Q8TAD8' 'Q6PD62' 'Q86VM9' 'Q9UPT8' 'Q05519' 'Q9UKJ3' 'Q14498' 'Q96IZ7'\n",
      " 'Q96T23' 'Q9NTI5' 'Q8IVM0' 'Q15696']\n"
     ]
    },
    {
     "name": "stderr",
     "output_type": "stream",
     "text": [
      "/tmp/ipykernel_19687/1986022666.py:6: SettingWithCopyWarning: \n",
      "A value is trying to be set on a copy of a slice from a DataFrame.\n",
      "Try using .loc[row_indexer,col_indexer] = value instead\n",
      "\n",
      "See the caveats in the documentation: https://pandas.pydata.org/pandas-docs/stable/user_guide/indexing.html#returning-a-view-versus-a-copy\n",
      "  filter_features[\"Score\"] = filter_features[\"Score\"].astype(float)\n",
      "/tmp/ipykernel_19687/1986022666.py:7: SettingWithCopyWarning: \n",
      "A value is trying to be set on a copy of a slice from a DataFrame.\n",
      "Try using .loc[row_indexer,col_indexer] = value instead\n",
      "\n",
      "See the caveats in the documentation: https://pandas.pydata.org/pandas-docs/stable/user_guide/indexing.html#returning-a-view-versus-a-copy\n",
      "  filter_features[\"Score\"] = filter_features[\"Score\"].round(2)\n"
     ]
    },
    {
     "name": "stdout",
     "output_type": "stream",
     "text": [
      "num:\t 0\n",
      "num:\t 1\n",
      "num:\t 2\n",
      "Protein\n",
      " ['Q13523' 'P08621' 'Q14498' 'Q08170' 'Q05519' 'Q9Y2W1' 'Q01130' 'Q86VM9'\n",
      " 'Q13427' 'Q14152' 'Q13247' 'Q9NQ29' 'Q96IZ7' 'P48634' 'Q9Y3X0' 'O95232'\n",
      " 'P49750' 'Q5T200' 'Q8WXA9' 'P23588']\n"
     ]
    },
    {
     "name": "stderr",
     "output_type": "stream",
     "text": [
      "/tmp/ipykernel_19687/1986022666.py:6: SettingWithCopyWarning: \n",
      "A value is trying to be set on a copy of a slice from a DataFrame.\n",
      "Try using .loc[row_indexer,col_indexer] = value instead\n",
      "\n",
      "See the caveats in the documentation: https://pandas.pydata.org/pandas-docs/stable/user_guide/indexing.html#returning-a-view-versus-a-copy\n",
      "  filter_features[\"Score\"] = filter_features[\"Score\"].astype(float)\n",
      "/tmp/ipykernel_19687/1986022666.py:7: SettingWithCopyWarning: \n",
      "A value is trying to be set on a copy of a slice from a DataFrame.\n",
      "Try using .loc[row_indexer,col_indexer] = value instead\n",
      "\n",
      "See the caveats in the documentation: https://pandas.pydata.org/pandas-docs/stable/user_guide/indexing.html#returning-a-view-versus-a-copy\n",
      "  filter_features[\"Score\"] = filter_features[\"Score\"].round(2)\n"
     ]
    },
    {
     "name": "stdout",
     "output_type": "stream",
     "text": [
      "num:\t 0\n",
      "num:\t 1\n",
      "num:\t 2\n",
      "Protein\n",
      " ['Q13255' 'Q6ZU52' 'P10912' 'O15427' 'Q9BYF1' 'Q9H799' 'Q9NWQ8' 'Q1EHB4'\n",
      " 'Q9UBP4' 'Q9Y666' 'Q8N0Z2' 'Q8WUX1' 'O60669' 'Q14CM0' 'Q6ZVD7' 'P27816'\n",
      " 'P24864' 'Q8TCN5' 'P43007' 'Q8TEP8']\n"
     ]
    },
    {
     "name": "stderr",
     "output_type": "stream",
     "text": [
      "/tmp/ipykernel_19687/1986022666.py:6: SettingWithCopyWarning: \n",
      "A value is trying to be set on a copy of a slice from a DataFrame.\n",
      "Try using .loc[row_indexer,col_indexer] = value instead\n",
      "\n",
      "See the caveats in the documentation: https://pandas.pydata.org/pandas-docs/stable/user_guide/indexing.html#returning-a-view-versus-a-copy\n",
      "  filter_features[\"Score\"] = filter_features[\"Score\"].astype(float)\n",
      "/tmp/ipykernel_19687/1986022666.py:7: SettingWithCopyWarning: \n",
      "A value is trying to be set on a copy of a slice from a DataFrame.\n",
      "Try using .loc[row_indexer,col_indexer] = value instead\n",
      "\n",
      "See the caveats in the documentation: https://pandas.pydata.org/pandas-docs/stable/user_guide/indexing.html#returning-a-view-versus-a-copy\n",
      "  filter_features[\"Score\"] = filter_features[\"Score\"].round(2)\n"
     ]
    },
    {
     "name": "stdout",
     "output_type": "stream",
     "text": [
      "num:\t 0\n",
      "num:\t 1\n",
      "num:\t 2\n",
      "Protein\n",
      " ['P98082' 'Q9Y6I3' 'Q13492' 'O95208' 'Q6P3W7' 'P52594' 'Q9H201' 'Q9BXF6'\n",
      " 'O95081' 'Q14677' 'O60641' 'Q96HA1' 'A8CG34' 'Q9Y5X1' 'P37198' 'Q5H9R7'\n",
      " 'P35658' 'P49790' 'Q92585' 'Q15788']\n"
     ]
    },
    {
     "name": "stderr",
     "output_type": "stream",
     "text": [
      "/tmp/ipykernel_19687/1986022666.py:6: SettingWithCopyWarning: \n",
      "A value is trying to be set on a copy of a slice from a DataFrame.\n",
      "Try using .loc[row_indexer,col_indexer] = value instead\n",
      "\n",
      "See the caveats in the documentation: https://pandas.pydata.org/pandas-docs/stable/user_guide/indexing.html#returning-a-view-versus-a-copy\n",
      "  filter_features[\"Score\"] = filter_features[\"Score\"].astype(float)\n",
      "/tmp/ipykernel_19687/1986022666.py:7: SettingWithCopyWarning: \n",
      "A value is trying to be set on a copy of a slice from a DataFrame.\n",
      "Try using .loc[row_indexer,col_indexer] = value instead\n",
      "\n",
      "See the caveats in the documentation: https://pandas.pydata.org/pandas-docs/stable/user_guide/indexing.html#returning-a-view-versus-a-copy\n",
      "  filter_features[\"Score\"] = filter_features[\"Score\"].round(2)\n"
     ]
    },
    {
     "name": "stdout",
     "output_type": "stream",
     "text": [
      "num:\t 0\n",
      "num:\t 1\n",
      "num:\t 2\n",
      "Protein\n",
      " ['P53701' 'P07947' 'O96008' 'Q9ULE6' 'Q8NEQ5' 'Q9BY21' 'P82909' 'P51451'\n",
      " 'Q9H6Q3' 'Q9H5K3' 'P09769' 'Q969W9' 'P12931' 'Q9H251' 'A6NHR9' 'Q99618'\n",
      " 'Q9BSF0' 'Q5K4L6' 'Q9H0B3' 'P07948']\n"
     ]
    },
    {
     "name": "stderr",
     "output_type": "stream",
     "text": [
      "/tmp/ipykernel_19687/1986022666.py:6: SettingWithCopyWarning: \n",
      "A value is trying to be set on a copy of a slice from a DataFrame.\n",
      "Try using .loc[row_indexer,col_indexer] = value instead\n",
      "\n",
      "See the caveats in the documentation: https://pandas.pydata.org/pandas-docs/stable/user_guide/indexing.html#returning-a-view-versus-a-copy\n",
      "  filter_features[\"Score\"] = filter_features[\"Score\"].astype(float)\n",
      "/tmp/ipykernel_19687/1986022666.py:7: SettingWithCopyWarning: \n",
      "A value is trying to be set on a copy of a slice from a DataFrame.\n",
      "Try using .loc[row_indexer,col_indexer] = value instead\n",
      "\n",
      "See the caveats in the documentation: https://pandas.pydata.org/pandas-docs/stable/user_guide/indexing.html#returning-a-view-versus-a-copy\n",
      "  filter_features[\"Score\"] = filter_features[\"Score\"].round(2)\n"
     ]
    },
    {
     "name": "stdout",
     "output_type": "stream",
     "text": [
      "num:\t 0\n",
      "num:\t 1\n",
      "num:\t 2\n",
      "Protein\n",
      " ['Q96T23' 'Q6PD62' 'A6H8Y1' 'Q4VC05' 'Q9NTI5' 'Q9H1E3' 'Q562F6' 'P46013'\n",
      " 'Q9Y6X4' 'Q6ZSZ6' 'Q86X95' 'P18858' 'Q8WYP5' 'O00567' 'Q8N9V7' 'Q14978'\n",
      " 'Q69YH5' 'Q5FWF5' 'Q13523' 'Q9BX26']\n"
     ]
    },
    {
     "name": "stderr",
     "output_type": "stream",
     "text": [
      "/tmp/ipykernel_19687/1986022666.py:6: SettingWithCopyWarning: \n",
      "A value is trying to be set on a copy of a slice from a DataFrame.\n",
      "Try using .loc[row_indexer,col_indexer] = value instead\n",
      "\n",
      "See the caveats in the documentation: https://pandas.pydata.org/pandas-docs/stable/user_guide/indexing.html#returning-a-view-versus-a-copy\n",
      "  filter_features[\"Score\"] = filter_features[\"Score\"].astype(float)\n",
      "/tmp/ipykernel_19687/1986022666.py:7: SettingWithCopyWarning: \n",
      "A value is trying to be set on a copy of a slice from a DataFrame.\n",
      "Try using .loc[row_indexer,col_indexer] = value instead\n",
      "\n",
      "See the caveats in the documentation: https://pandas.pydata.org/pandas-docs/stable/user_guide/indexing.html#returning-a-view-versus-a-copy\n",
      "  filter_features[\"Score\"] = filter_features[\"Score\"].round(2)\n"
     ]
    },
    {
     "name": "stdout",
     "output_type": "stream",
     "text": [
      "num:\t 0\n",
      "num:\t 1\n",
      "num:\t 2\n",
      "Protein\n",
      " ['P0CG33' 'Q9NYA3' 'A6NDK9' 'Q5VT06' 'Q9C0D2' 'H3BSY2' 'A6NDN3' 'Q8IYY4'\n",
      " 'A8MQT2' 'Q8WYP5' 'A7E2F4' 'Q96SN8' 'H3BPF8' 'Q9P219' 'O95613' 'Q8N3K9'\n",
      " 'Q99996' 'Q8IYE1' 'H3BQL2' 'Q8IYX8']\n"
     ]
    },
    {
     "name": "stderr",
     "output_type": "stream",
     "text": [
      "/tmp/ipykernel_19687/1986022666.py:6: SettingWithCopyWarning: \n",
      "A value is trying to be set on a copy of a slice from a DataFrame.\n",
      "Try using .loc[row_indexer,col_indexer] = value instead\n",
      "\n",
      "See the caveats in the documentation: https://pandas.pydata.org/pandas-docs/stable/user_guide/indexing.html#returning-a-view-versus-a-copy\n",
      "  filter_features[\"Score\"] = filter_features[\"Score\"].astype(float)\n",
      "/tmp/ipykernel_19687/1986022666.py:7: SettingWithCopyWarning: \n",
      "A value is trying to be set on a copy of a slice from a DataFrame.\n",
      "Try using .loc[row_indexer,col_indexer] = value instead\n",
      "\n",
      "See the caveats in the documentation: https://pandas.pydata.org/pandas-docs/stable/user_guide/indexing.html#returning-a-view-versus-a-copy\n",
      "  filter_features[\"Score\"] = filter_features[\"Score\"].round(2)\n"
     ]
    },
    {
     "name": "stdout",
     "output_type": "stream",
     "text": [
      "num:\t 0\n",
      "num:\t 1\n",
      "num:\t 2\n",
      "Protein\n",
      " ['Q9C0D2' 'Q5VT06' 'Q96SN8' 'P0CG33' 'Q9NYA3' 'Q86V48' 'A6NDK9' 'Q2M1P5'\n",
      " 'Q99996' 'Q9Y4B5' 'Q01850' 'Q86VQ0' 'O75665' 'Q6IQ23' 'O75335' 'Q8N3K9'\n",
      " 'O00461' 'Q8IYY4' 'Q32MZ4' 'Q8WYP5']\n"
     ]
    },
    {
     "name": "stderr",
     "output_type": "stream",
     "text": [
      "/tmp/ipykernel_19687/1986022666.py:6: SettingWithCopyWarning: \n",
      "A value is trying to be set on a copy of a slice from a DataFrame.\n",
      "Try using .loc[row_indexer,col_indexer] = value instead\n",
      "\n",
      "See the caveats in the documentation: https://pandas.pydata.org/pandas-docs/stable/user_guide/indexing.html#returning-a-view-versus-a-copy\n",
      "  filter_features[\"Score\"] = filter_features[\"Score\"].astype(float)\n",
      "/tmp/ipykernel_19687/1986022666.py:7: SettingWithCopyWarning: \n",
      "A value is trying to be set on a copy of a slice from a DataFrame.\n",
      "Try using .loc[row_indexer,col_indexer] = value instead\n",
      "\n",
      "See the caveats in the documentation: https://pandas.pydata.org/pandas-docs/stable/user_guide/indexing.html#returning-a-view-versus-a-copy\n",
      "  filter_features[\"Score\"] = filter_features[\"Score\"].round(2)\n"
     ]
    },
    {
     "name": "stdout",
     "output_type": "stream",
     "text": [
      "num:\t 0\n",
      "num:\t 1\n",
      "num:\t 2\n",
      "Protein\n",
      " ['Q56NI9' 'Q8WYP5' 'Q14207' 'Q9UPQ0' 'Q8NI77' 'Q562F6' 'Q69YH5' 'Q5UIP0'\n",
      " 'Q5VT06' 'Q8WWL7' 'Q96QE4' 'Q9BX26' 'Q6ZRK6' 'A6H8Y1' 'Q6UB99' 'O43663'\n",
      " 'Q5FWF5' 'Q8NG31' 'Q9HC77' 'Q8N9V7']\n"
     ]
    },
    {
     "name": "stderr",
     "output_type": "stream",
     "text": [
      "/tmp/ipykernel_19687/1986022666.py:6: SettingWithCopyWarning: \n",
      "A value is trying to be set on a copy of a slice from a DataFrame.\n",
      "Try using .loc[row_indexer,col_indexer] = value instead\n",
      "\n",
      "See the caveats in the documentation: https://pandas.pydata.org/pandas-docs/stable/user_guide/indexing.html#returning-a-view-versus-a-copy\n",
      "  filter_features[\"Score\"] = filter_features[\"Score\"].astype(float)\n",
      "/tmp/ipykernel_19687/1986022666.py:7: SettingWithCopyWarning: \n",
      "A value is trying to be set on a copy of a slice from a DataFrame.\n",
      "Try using .loc[row_indexer,col_indexer] = value instead\n",
      "\n",
      "See the caveats in the documentation: https://pandas.pydata.org/pandas-docs/stable/user_guide/indexing.html#returning-a-view-versus-a-copy\n",
      "  filter_features[\"Score\"] = filter_features[\"Score\"].round(2)\n"
     ]
    },
    {
     "name": "stdout",
     "output_type": "stream",
     "text": [
      "num:\t 0\n",
      "num:\t 1\n",
      "num:\t 2\n",
      "Protein\n",
      " ['Q5T6F2' 'Q8IYX7' 'Q8IYT8' 'Q658L1' 'P23471' 'O95171' 'Q93052' 'P18433'\n",
      " 'Q9UPA5' 'Q5SYE7' 'Q5VWP3' 'Q96D42' 'P01100' 'P14923' 'P56177' 'P16070'\n",
      " 'P57073' 'Q9H6X2' 'Q96AP7' 'Q7Z6I8']\n"
     ]
    },
    {
     "name": "stderr",
     "output_type": "stream",
     "text": [
      "/tmp/ipykernel_19687/1986022666.py:6: SettingWithCopyWarning: \n",
      "A value is trying to be set on a copy of a slice from a DataFrame.\n",
      "Try using .loc[row_indexer,col_indexer] = value instead\n",
      "\n",
      "See the caveats in the documentation: https://pandas.pydata.org/pandas-docs/stable/user_guide/indexing.html#returning-a-view-versus-a-copy\n",
      "  filter_features[\"Score\"] = filter_features[\"Score\"].astype(float)\n",
      "/tmp/ipykernel_19687/1986022666.py:7: SettingWithCopyWarning: \n",
      "A value is trying to be set on a copy of a slice from a DataFrame.\n",
      "Try using .loc[row_indexer,col_indexer] = value instead\n",
      "\n",
      "See the caveats in the documentation: https://pandas.pydata.org/pandas-docs/stable/user_guide/indexing.html#returning-a-view-versus-a-copy\n",
      "  filter_features[\"Score\"] = filter_features[\"Score\"].round(2)\n"
     ]
    },
    {
     "name": "stdout",
     "output_type": "stream",
     "text": [
      "num:\t 0\n",
      "num:\t 1\n",
      "num:\t 2\n",
      "Protein\n",
      " ['P49023' 'O95415' 'O60291' 'Q8IZD4' 'Q96G27' 'Q99704' 'O43281' 'Q16621'\n",
      " 'O95628' 'Q8IZD9' 'Q8N8S7' 'Q16633' 'Q9NQ75' 'Q5TC82' 'Q92738' 'O60496'\n",
      " 'Q8IUM7' 'Q8NA69' 'Q14511' 'Q8WV28']\n"
     ]
    },
    {
     "name": "stderr",
     "output_type": "stream",
     "text": [
      "/tmp/ipykernel_19687/1986022666.py:6: SettingWithCopyWarning: \n",
      "A value is trying to be set on a copy of a slice from a DataFrame.\n",
      "Try using .loc[row_indexer,col_indexer] = value instead\n",
      "\n",
      "See the caveats in the documentation: https://pandas.pydata.org/pandas-docs/stable/user_guide/indexing.html#returning-a-view-versus-a-copy\n",
      "  filter_features[\"Score\"] = filter_features[\"Score\"].astype(float)\n",
      "/tmp/ipykernel_19687/1986022666.py:7: SettingWithCopyWarning: \n",
      "A value is trying to be set on a copy of a slice from a DataFrame.\n",
      "Try using .loc[row_indexer,col_indexer] = value instead\n",
      "\n",
      "See the caveats in the documentation: https://pandas.pydata.org/pandas-docs/stable/user_guide/indexing.html#returning-a-view-versus-a-copy\n",
      "  filter_features[\"Score\"] = filter_features[\"Score\"].round(2)\n"
     ]
    },
    {
     "name": "stdout",
     "output_type": "stream",
     "text": [
      "num:\t 0\n",
      "num:\t 1\n",
      "num:\t 2\n",
      "Protein\n",
      " ['Q13905' 'Q9Y4H2' 'Q9H992' 'Q9H7D0' 'Q7Z401' 'Q8TDW5' 'Q9UQC2' 'Q96L34'\n",
      " 'Q5SYE7' 'Q8IYT8' 'Q8TF72' 'P10071' 'Q14185' 'Q9Y2H5' 'Q13370' 'Q9P206'\n",
      " 'Q92502' 'Q8N264' 'O75385' 'P78524']\n"
     ]
    },
    {
     "name": "stderr",
     "output_type": "stream",
     "text": [
      "/tmp/ipykernel_19687/1986022666.py:6: SettingWithCopyWarning: \n",
      "A value is trying to be set on a copy of a slice from a DataFrame.\n",
      "Try using .loc[row_indexer,col_indexer] = value instead\n",
      "\n",
      "See the caveats in the documentation: https://pandas.pydata.org/pandas-docs/stable/user_guide/indexing.html#returning-a-view-versus-a-copy\n",
      "  filter_features[\"Score\"] = filter_features[\"Score\"].astype(float)\n",
      "/tmp/ipykernel_19687/1986022666.py:7: SettingWithCopyWarning: \n",
      "A value is trying to be set on a copy of a slice from a DataFrame.\n",
      "Try using .loc[row_indexer,col_indexer] = value instead\n",
      "\n",
      "See the caveats in the documentation: https://pandas.pydata.org/pandas-docs/stable/user_guide/indexing.html#returning-a-view-versus-a-copy\n",
      "  filter_features[\"Score\"] = filter_features[\"Score\"].round(2)\n"
     ]
    },
    {
     "name": "stdout",
     "output_type": "stream",
     "text": [
      "num:\t 0\n",
      "num:\t 1\n",
      "num:\t 2\n",
      "Protein\n",
      " ['Q86VQ0' 'O95447' 'Q5VT06' 'Q96SN8' 'Q14244' 'P46013' 'Q5UIP0' 'Q8IWC1'\n",
      " 'Q3KQU3' 'A6H8Y1' 'Q8IYX8' 'Q7Z4S6' 'Q5FWF5' 'Q8IYY4' 'Q8IX21' 'Q14980'\n",
      " 'Q8WYP5' 'P20810' 'Q8N3X6' 'Q86V48']\n"
     ]
    },
    {
     "name": "stderr",
     "output_type": "stream",
     "text": [
      "/tmp/ipykernel_19687/1986022666.py:6: SettingWithCopyWarning: \n",
      "A value is trying to be set on a copy of a slice from a DataFrame.\n",
      "Try using .loc[row_indexer,col_indexer] = value instead\n",
      "\n",
      "See the caveats in the documentation: https://pandas.pydata.org/pandas-docs/stable/user_guide/indexing.html#returning-a-view-versus-a-copy\n",
      "  filter_features[\"Score\"] = filter_features[\"Score\"].astype(float)\n",
      "/tmp/ipykernel_19687/1986022666.py:7: SettingWithCopyWarning: \n",
      "A value is trying to be set on a copy of a slice from a DataFrame.\n",
      "Try using .loc[row_indexer,col_indexer] = value instead\n",
      "\n",
      "See the caveats in the documentation: https://pandas.pydata.org/pandas-docs/stable/user_guide/indexing.html#returning-a-view-versus-a-copy\n",
      "  filter_features[\"Score\"] = filter_features[\"Score\"].round(2)\n"
     ]
    },
    {
     "name": "stdout",
     "output_type": "stream",
     "text": [
      "num:\t 0\n",
      "num:\t 1\n",
      "num:\t 2\n",
      "Protein\n",
      " ['Q00613' 'P28907' 'P45985' 'Q6UUV9' 'Q96LR4' 'P0CG20' 'Q5JXC2' 'O15496'\n",
      " 'Q06643' 'Q8N3Y3' 'O95159' 'Q5TZJ5' 'A1E959' 'Q5VU36' 'Q5VVP1' 'Q68DH5'\n",
      " 'Q96DF8' 'Q8IWB4' 'P31629' 'P17535']\n"
     ]
    },
    {
     "name": "stderr",
     "output_type": "stream",
     "text": [
      "/tmp/ipykernel_19687/1986022666.py:6: SettingWithCopyWarning: \n",
      "A value is trying to be set on a copy of a slice from a DataFrame.\n",
      "Try using .loc[row_indexer,col_indexer] = value instead\n",
      "\n",
      "See the caveats in the documentation: https://pandas.pydata.org/pandas-docs/stable/user_guide/indexing.html#returning-a-view-versus-a-copy\n",
      "  filter_features[\"Score\"] = filter_features[\"Score\"].astype(float)\n",
      "/tmp/ipykernel_19687/1986022666.py:7: SettingWithCopyWarning: \n",
      "A value is trying to be set on a copy of a slice from a DataFrame.\n",
      "Try using .loc[row_indexer,col_indexer] = value instead\n",
      "\n",
      "See the caveats in the documentation: https://pandas.pydata.org/pandas-docs/stable/user_guide/indexing.html#returning-a-view-versus-a-copy\n",
      "  filter_features[\"Score\"] = filter_features[\"Score\"].round(2)\n"
     ]
    },
    {
     "name": "stdout",
     "output_type": "stream",
     "text": [
      "num:\t 0\n",
      "num:\t 1\n",
      "num:\t 2\n",
      "Protein\n",
      " ['Q9Y2W1' 'Q13523' 'Q08170' 'Q05519' 'Q14498' 'Q13427' 'P08621' 'Q01130'\n",
      " 'Q13247' 'Q5D862' 'Q14152' 'Q96IZ7' 'Q15696' 'Q9NQ29' 'Q8WXA9' 'Q16629'\n",
      " 'Q5T200' 'P23588' 'O95232' 'Q86VM9']\n"
     ]
    },
    {
     "name": "stderr",
     "output_type": "stream",
     "text": [
      "/tmp/ipykernel_19687/1986022666.py:6: SettingWithCopyWarning: \n",
      "A value is trying to be set on a copy of a slice from a DataFrame.\n",
      "Try using .loc[row_indexer,col_indexer] = value instead\n",
      "\n",
      "See the caveats in the documentation: https://pandas.pydata.org/pandas-docs/stable/user_guide/indexing.html#returning-a-view-versus-a-copy\n",
      "  filter_features[\"Score\"] = filter_features[\"Score\"].astype(float)\n",
      "/tmp/ipykernel_19687/1986022666.py:7: SettingWithCopyWarning: \n",
      "A value is trying to be set on a copy of a slice from a DataFrame.\n",
      "Try using .loc[row_indexer,col_indexer] = value instead\n",
      "\n",
      "See the caveats in the documentation: https://pandas.pydata.org/pandas-docs/stable/user_guide/indexing.html#returning-a-view-versus-a-copy\n",
      "  filter_features[\"Score\"] = filter_features[\"Score\"].round(2)\n"
     ]
    },
    {
     "name": "stdout",
     "output_type": "stream",
     "text": [
      "num:\t 0\n",
      "num:\t 1\n",
      "num:\t 2\n",
      "Protein\n",
      " ['Q13255' 'Q7Z340' 'Q9C0H2' 'Q9NVA4' 'A1L170' 'Q13137' 'P17535' 'Q6ZVD7'\n",
      " 'Q9NPB6' 'Q9Y548' 'Q8IYW5' 'Q05084' 'Q14CM0' 'P05408' 'Q92844' 'O60315'\n",
      " 'Q9H9A7' 'Q8IYD9' 'Q8NG31' 'Q9BWQ6']\n"
     ]
    },
    {
     "name": "stderr",
     "output_type": "stream",
     "text": [
      "/tmp/ipykernel_19687/1986022666.py:6: SettingWithCopyWarning: \n",
      "A value is trying to be set on a copy of a slice from a DataFrame.\n",
      "Try using .loc[row_indexer,col_indexer] = value instead\n",
      "\n",
      "See the caveats in the documentation: https://pandas.pydata.org/pandas-docs/stable/user_guide/indexing.html#returning-a-view-versus-a-copy\n",
      "  filter_features[\"Score\"] = filter_features[\"Score\"].astype(float)\n",
      "/tmp/ipykernel_19687/1986022666.py:7: SettingWithCopyWarning: \n",
      "A value is trying to be set on a copy of a slice from a DataFrame.\n",
      "Try using .loc[row_indexer,col_indexer] = value instead\n",
      "\n",
      "See the caveats in the documentation: https://pandas.pydata.org/pandas-docs/stable/user_guide/indexing.html#returning-a-view-versus-a-copy\n",
      "  filter_features[\"Score\"] = filter_features[\"Score\"].round(2)\n"
     ]
    },
    {
     "name": "stdout",
     "output_type": "stream",
     "text": [
      "num:\t 0\n",
      "num:\t 1\n",
      "num:\t 2\n",
      "Protein\n",
      " ['P57073' 'P48634' 'P56693' 'Q9Y5Q3' 'P28356' 'Q86UU0' 'P17275' 'P54845'\n",
      " 'Q9ULL5' 'Q9UPG8' 'P31629' 'Q8WU58' 'Q9H0F5' 'O60479' 'Q12948' 'Q92786'\n",
      " 'Q9NY43' 'Q9H7S9' 'Q53ET0' 'Q5U5X8']\n"
     ]
    },
    {
     "name": "stderr",
     "output_type": "stream",
     "text": [
      "/tmp/ipykernel_19687/1986022666.py:6: SettingWithCopyWarning: \n",
      "A value is trying to be set on a copy of a slice from a DataFrame.\n",
      "Try using .loc[row_indexer,col_indexer] = value instead\n",
      "\n",
      "See the caveats in the documentation: https://pandas.pydata.org/pandas-docs/stable/user_guide/indexing.html#returning-a-view-versus-a-copy\n",
      "  filter_features[\"Score\"] = filter_features[\"Score\"].astype(float)\n",
      "/tmp/ipykernel_19687/1986022666.py:7: SettingWithCopyWarning: \n",
      "A value is trying to be set on a copy of a slice from a DataFrame.\n",
      "Try using .loc[row_indexer,col_indexer] = value instead\n",
      "\n",
      "See the caveats in the documentation: https://pandas.pydata.org/pandas-docs/stable/user_guide/indexing.html#returning-a-view-versus-a-copy\n",
      "  filter_features[\"Score\"] = filter_features[\"Score\"].round(2)\n"
     ]
    },
    {
     "name": "stdout",
     "output_type": "stream",
     "text": [
      "num:\t 0\n",
      "num:\t 1\n",
      "num:\t 2\n",
      "Protein\n",
      " ['Q15596' 'Q09472' 'Q15648' 'Q86UU0' 'Q92793' 'Q14686' 'Q15788' 'Q92585'\n",
      " 'Q13495' 'Q96RN5' 'Q96EV2' 'Q9ULL5' 'Q9Y6Q9' 'Q06413' 'Q2KHR2' 'O14686'\n",
      " 'O15405' 'O14964' 'O14497' 'P19532']\n"
     ]
    },
    {
     "name": "stderr",
     "output_type": "stream",
     "text": [
      "/tmp/ipykernel_19687/1986022666.py:6: SettingWithCopyWarning: \n",
      "A value is trying to be set on a copy of a slice from a DataFrame.\n",
      "Try using .loc[row_indexer,col_indexer] = value instead\n",
      "\n",
      "See the caveats in the documentation: https://pandas.pydata.org/pandas-docs/stable/user_guide/indexing.html#returning-a-view-versus-a-copy\n",
      "  filter_features[\"Score\"] = filter_features[\"Score\"].astype(float)\n",
      "/tmp/ipykernel_19687/1986022666.py:7: SettingWithCopyWarning: \n",
      "A value is trying to be set on a copy of a slice from a DataFrame.\n",
      "Try using .loc[row_indexer,col_indexer] = value instead\n",
      "\n",
      "See the caveats in the documentation: https://pandas.pydata.org/pandas-docs/stable/user_guide/indexing.html#returning-a-view-versus-a-copy\n",
      "  filter_features[\"Score\"] = filter_features[\"Score\"].round(2)\n"
     ]
    },
    {
     "name": "stdout",
     "output_type": "stream",
     "text": [
      "num:\t 0\n",
      "num:\t 1\n",
      "num:\t 2\n",
      "Protein\n",
      " ['Q96PD4' 'P51689' 'P18433' 'P41439' 'Q9P0V8' 'E7ERA6' 'P05187' 'Q8WTT0'\n",
      " 'Q96H15' 'O75355' 'Q9NR71' 'Q9UMR7' 'Q9H3S3' 'A6NJW4' 'P39656' 'Q11201'\n",
      " 'Q8TC36' 'Q14CN2' 'O75881' 'Q9Y2A9']\n"
     ]
    },
    {
     "name": "stderr",
     "output_type": "stream",
     "text": [
      "/tmp/ipykernel_19687/1986022666.py:6: SettingWithCopyWarning: \n",
      "A value is trying to be set on a copy of a slice from a DataFrame.\n",
      "Try using .loc[row_indexer,col_indexer] = value instead\n",
      "\n",
      "See the caveats in the documentation: https://pandas.pydata.org/pandas-docs/stable/user_guide/indexing.html#returning-a-view-versus-a-copy\n",
      "  filter_features[\"Score\"] = filter_features[\"Score\"].astype(float)\n",
      "/tmp/ipykernel_19687/1986022666.py:7: SettingWithCopyWarning: \n",
      "A value is trying to be set on a copy of a slice from a DataFrame.\n",
      "Try using .loc[row_indexer,col_indexer] = value instead\n",
      "\n",
      "See the caveats in the documentation: https://pandas.pydata.org/pandas-docs/stable/user_guide/indexing.html#returning-a-view-versus-a-copy\n",
      "  filter_features[\"Score\"] = filter_features[\"Score\"].round(2)\n"
     ]
    },
    {
     "name": "stdout",
     "output_type": "stream",
     "text": [
      "num:\t 0\n",
      "num:\t 1\n",
      "num:\t 2\n",
      "Protein\n",
      " ['P98082' 'Q13492' 'Q9Y6I3' 'Q6P3W7' 'P52594' 'O95208' 'Q9H201' 'O95081'\n",
      " 'Q5H9R7' 'Q9BXF6' 'Q14677' 'P49790' 'O60641' 'Q9Y5X1' 'Q96HA1' 'A8CG34'\n",
      " 'Q8N6T3' 'Q7Z3B4' 'P37198' 'P35658']\n"
     ]
    },
    {
     "name": "stderr",
     "output_type": "stream",
     "text": [
      "/tmp/ipykernel_19687/1986022666.py:6: SettingWithCopyWarning: \n",
      "A value is trying to be set on a copy of a slice from a DataFrame.\n",
      "Try using .loc[row_indexer,col_indexer] = value instead\n",
      "\n",
      "See the caveats in the documentation: https://pandas.pydata.org/pandas-docs/stable/user_guide/indexing.html#returning-a-view-versus-a-copy\n",
      "  filter_features[\"Score\"] = filter_features[\"Score\"].astype(float)\n",
      "/tmp/ipykernel_19687/1986022666.py:7: SettingWithCopyWarning: \n",
      "A value is trying to be set on a copy of a slice from a DataFrame.\n",
      "Try using .loc[row_indexer,col_indexer] = value instead\n",
      "\n",
      "See the caveats in the documentation: https://pandas.pydata.org/pandas-docs/stable/user_guide/indexing.html#returning-a-view-versus-a-copy\n",
      "  filter_features[\"Score\"] = filter_features[\"Score\"].round(2)\n"
     ]
    },
    {
     "name": "stdout",
     "output_type": "stream",
     "text": [
      "num:\t 0\n",
      "num:\t 1\n",
      "num:\t 2\n",
      "Protein\n",
      " ['P57073' 'P48634' 'Q9Y5Q3' 'P56693' 'P28356' 'Q86UU0' 'Q9ULL5' 'Q8WU58'\n",
      " 'P17275' 'Q9H0F5' 'P54845' 'Q92786' 'P31629' 'Q5U5X8' 'P0CJ78' 'Q12948'\n",
      " 'Q9H7S9' 'Q8TEK3' 'Q9UPG8' 'Q99583']\n"
     ]
    },
    {
     "name": "stderr",
     "output_type": "stream",
     "text": [
      "/tmp/ipykernel_19687/1986022666.py:6: SettingWithCopyWarning: \n",
      "A value is trying to be set on a copy of a slice from a DataFrame.\n",
      "Try using .loc[row_indexer,col_indexer] = value instead\n",
      "\n",
      "See the caveats in the documentation: https://pandas.pydata.org/pandas-docs/stable/user_guide/indexing.html#returning-a-view-versus-a-copy\n",
      "  filter_features[\"Score\"] = filter_features[\"Score\"].astype(float)\n",
      "/tmp/ipykernel_19687/1986022666.py:7: SettingWithCopyWarning: \n",
      "A value is trying to be set on a copy of a slice from a DataFrame.\n",
      "Try using .loc[row_indexer,col_indexer] = value instead\n",
      "\n",
      "See the caveats in the documentation: https://pandas.pydata.org/pandas-docs/stable/user_guide/indexing.html#returning-a-view-versus-a-copy\n",
      "  filter_features[\"Score\"] = filter_features[\"Score\"].round(2)\n"
     ]
    },
    {
     "name": "stdout",
     "output_type": "stream",
     "text": [
      "num:\t 0\n",
      "num:\t 1\n",
      "num:\t 2\n",
      "Protein\n",
      " ['P57073' 'P48634' 'P56693' 'Q9Y5Q3' 'P28356' 'Q86UU0' 'P17275' 'P54845'\n",
      " 'Q9ULL5' 'Q9UPG8' 'P31629' 'Q8WU58' 'Q9H0F5' 'O60479' 'Q12948' 'Q92786'\n",
      " 'Q9NY43' 'Q53ET0' 'Q9H7S9' 'Q5U5X8']\n"
     ]
    },
    {
     "name": "stderr",
     "output_type": "stream",
     "text": [
      "/tmp/ipykernel_19687/1986022666.py:6: SettingWithCopyWarning: \n",
      "A value is trying to be set on a copy of a slice from a DataFrame.\n",
      "Try using .loc[row_indexer,col_indexer] = value instead\n",
      "\n",
      "See the caveats in the documentation: https://pandas.pydata.org/pandas-docs/stable/user_guide/indexing.html#returning-a-view-versus-a-copy\n",
      "  filter_features[\"Score\"] = filter_features[\"Score\"].astype(float)\n",
      "/tmp/ipykernel_19687/1986022666.py:7: SettingWithCopyWarning: \n",
      "A value is trying to be set on a copy of a slice from a DataFrame.\n",
      "Try using .loc[row_indexer,col_indexer] = value instead\n",
      "\n",
      "See the caveats in the documentation: https://pandas.pydata.org/pandas-docs/stable/user_guide/indexing.html#returning-a-view-versus-a-copy\n",
      "  filter_features[\"Score\"] = filter_features[\"Score\"].round(2)\n"
     ]
    },
    {
     "name": "stdout",
     "output_type": "stream",
     "text": [
      "num:\t 0\n",
      "num:\t 1\n",
      "num:\t 2\n",
      "Protein\n",
      " ['Q09472' 'Q15596' 'Q15648' 'Q92793' 'Q86UU0' 'Q15788' 'Q14686' 'Q92585'\n",
      " 'Q13495' 'Q96EV2' 'Q9ULL5' 'O15405' 'O14686' 'Q96RN5' 'Q9Y6Q9' 'Q06413'\n",
      " 'O14964' 'Q2KHR2' 'O14497' 'P19532']\n"
     ]
    },
    {
     "name": "stderr",
     "output_type": "stream",
     "text": [
      "/tmp/ipykernel_19687/1986022666.py:6: SettingWithCopyWarning: \n",
      "A value is trying to be set on a copy of a slice from a DataFrame.\n",
      "Try using .loc[row_indexer,col_indexer] = value instead\n",
      "\n",
      "See the caveats in the documentation: https://pandas.pydata.org/pandas-docs/stable/user_guide/indexing.html#returning-a-view-versus-a-copy\n",
      "  filter_features[\"Score\"] = filter_features[\"Score\"].astype(float)\n",
      "/tmp/ipykernel_19687/1986022666.py:7: SettingWithCopyWarning: \n",
      "A value is trying to be set on a copy of a slice from a DataFrame.\n",
      "Try using .loc[row_indexer,col_indexer] = value instead\n",
      "\n",
      "See the caveats in the documentation: https://pandas.pydata.org/pandas-docs/stable/user_guide/indexing.html#returning-a-view-versus-a-copy\n",
      "  filter_features[\"Score\"] = filter_features[\"Score\"].round(2)\n"
     ]
    },
    {
     "name": "stdout",
     "output_type": "stream",
     "text": [
      "num:\t 0\n",
      "num:\t 1\n",
      "num:\t 2\n",
      "Protein\n",
      " ['Q9NYJ8' 'Q13387' 'Q5VWP3' 'Q9NXG6' 'Q96TC7' 'Q6GYQ0' 'Q6ZNL6' 'Q9HCP0'\n",
      " 'O43559' 'Q63ZY3' 'P04626' 'O43281' 'Q9BRN9' 'Q9NVW2' 'Q9BQ89' 'Q8IY67'\n",
      " 'P10600' 'Q5T749' 'O15079' 'Q8IUM7']\n"
     ]
    },
    {
     "name": "stderr",
     "output_type": "stream",
     "text": [
      "/tmp/ipykernel_19687/1986022666.py:6: SettingWithCopyWarning: \n",
      "A value is trying to be set on a copy of a slice from a DataFrame.\n",
      "Try using .loc[row_indexer,col_indexer] = value instead\n",
      "\n",
      "See the caveats in the documentation: https://pandas.pydata.org/pandas-docs/stable/user_guide/indexing.html#returning-a-view-versus-a-copy\n",
      "  filter_features[\"Score\"] = filter_features[\"Score\"].astype(float)\n",
      "/tmp/ipykernel_19687/1986022666.py:7: SettingWithCopyWarning: \n",
      "A value is trying to be set on a copy of a slice from a DataFrame.\n",
      "Try using .loc[row_indexer,col_indexer] = value instead\n",
      "\n",
      "See the caveats in the documentation: https://pandas.pydata.org/pandas-docs/stable/user_guide/indexing.html#returning-a-view-versus-a-copy\n",
      "  filter_features[\"Score\"] = filter_features[\"Score\"].round(2)\n"
     ]
    },
    {
     "name": "stdout",
     "output_type": "stream",
     "text": [
      "num:\t 0\n",
      "num:\t 1\n",
      "num:\t 2\n",
      "Protein\n",
      " ['Q5VT06' 'Q9C0D2' 'P0CG33' 'Q9NYA3' 'Q96SN8' 'Q6IQ23' 'A6NDK9' 'Q86V48'\n",
      " 'Q8IYE1' 'Q86VQ0' 'Q9Y4B5' 'Q32MZ4' 'A6NDN3' 'Q99996' 'Q8IYY4' 'Q5TB80'\n",
      " 'Q9BV73' 'H3BSY2' 'O75335' 'Q6NUN7']\n"
     ]
    },
    {
     "name": "stderr",
     "output_type": "stream",
     "text": [
      "/tmp/ipykernel_19687/1986022666.py:6: SettingWithCopyWarning: \n",
      "A value is trying to be set on a copy of a slice from a DataFrame.\n",
      "Try using .loc[row_indexer,col_indexer] = value instead\n",
      "\n",
      "See the caveats in the documentation: https://pandas.pydata.org/pandas-docs/stable/user_guide/indexing.html#returning-a-view-versus-a-copy\n",
      "  filter_features[\"Score\"] = filter_features[\"Score\"].astype(float)\n",
      "/tmp/ipykernel_19687/1986022666.py:7: SettingWithCopyWarning: \n",
      "A value is trying to be set on a copy of a slice from a DataFrame.\n",
      "Try using .loc[row_indexer,col_indexer] = value instead\n",
      "\n",
      "See the caveats in the documentation: https://pandas.pydata.org/pandas-docs/stable/user_guide/indexing.html#returning-a-view-versus-a-copy\n",
      "  filter_features[\"Score\"] = filter_features[\"Score\"].round(2)\n"
     ]
    },
    {
     "name": "stdout",
     "output_type": "stream",
     "text": [
      "num:\t 0\n",
      "num:\t 1\n",
      "num:\t 2\n",
      "Protein\n",
      " ['Q5VZK9' 'Q9P1A6' 'Q96IF1' 'Q8N264' 'Q9BX66' 'Q7Z403' 'Q13523' 'Q9Y2H9'\n",
      " 'Q5JR98' 'Q9BYG4' 'Q6XPR3' 'A6NIX2' 'P13569' 'Q9C0H9' 'Q5D862' 'Q9P246'\n",
      " 'Q96L34' 'P55042' 'Q92608' 'Q7Z3C6']\n"
     ]
    },
    {
     "name": "stderr",
     "output_type": "stream",
     "text": [
      "/tmp/ipykernel_19687/1986022666.py:6: SettingWithCopyWarning: \n",
      "A value is trying to be set on a copy of a slice from a DataFrame.\n",
      "Try using .loc[row_indexer,col_indexer] = value instead\n",
      "\n",
      "See the caveats in the documentation: https://pandas.pydata.org/pandas-docs/stable/user_guide/indexing.html#returning-a-view-versus-a-copy\n",
      "  filter_features[\"Score\"] = filter_features[\"Score\"].astype(float)\n",
      "/tmp/ipykernel_19687/1986022666.py:7: SettingWithCopyWarning: \n",
      "A value is trying to be set on a copy of a slice from a DataFrame.\n",
      "Try using .loc[row_indexer,col_indexer] = value instead\n",
      "\n",
      "See the caveats in the documentation: https://pandas.pydata.org/pandas-docs/stable/user_guide/indexing.html#returning-a-view-versus-a-copy\n",
      "  filter_features[\"Score\"] = filter_features[\"Score\"].round(2)\n"
     ]
    },
    {
     "name": "stdout",
     "output_type": "stream",
     "text": [
      "num:\t 0\n",
      "num:\t 1\n",
      "num:\t 2\n",
      "Protein\n",
      " ['Q13255' 'Q6ZU52' 'Q8NG31' 'Q14CM0' 'Q9UBP4' 'P27816' 'Q9Y666' 'O15427'\n",
      " 'Q9NWQ8' 'Q1EHB4' 'Q9BYF1' 'Q8N264' 'P10912' 'Q9C0G0' 'Q8IXT1' 'Q9BQI3'\n",
      " 'Q8TB52' 'Q8TCN5' 'Q2NL98' 'Q9H799']\n"
     ]
    },
    {
     "name": "stderr",
     "output_type": "stream",
     "text": [
      "/tmp/ipykernel_19687/1986022666.py:6: SettingWithCopyWarning: \n",
      "A value is trying to be set on a copy of a slice from a DataFrame.\n",
      "Try using .loc[row_indexer,col_indexer] = value instead\n",
      "\n",
      "See the caveats in the documentation: https://pandas.pydata.org/pandas-docs/stable/user_guide/indexing.html#returning-a-view-versus-a-copy\n",
      "  filter_features[\"Score\"] = filter_features[\"Score\"].astype(float)\n",
      "/tmp/ipykernel_19687/1986022666.py:7: SettingWithCopyWarning: \n",
      "A value is trying to be set on a copy of a slice from a DataFrame.\n",
      "Try using .loc[row_indexer,col_indexer] = value instead\n",
      "\n",
      "See the caveats in the documentation: https://pandas.pydata.org/pandas-docs/stable/user_guide/indexing.html#returning-a-view-versus-a-copy\n",
      "  filter_features[\"Score\"] = filter_features[\"Score\"].round(2)\n"
     ]
    },
    {
     "name": "stdout",
     "output_type": "stream",
     "text": [
      "num:\t 0\n",
      "num:\t 1\n",
      "num:\t 2\n",
      "Protein\n",
      " ['Q14244' 'Q9C0D2' 'Q9NQS7' 'P18583' 'Q8IWC1' 'Q8WYP5' 'Q3B820' 'Q8IYY4'\n",
      " 'Q8IYX8' 'Q86XR8' 'Q8WWL7' 'Q96T17' 'Q3KQU3' 'Q5VT06' 'Q86V48' 'Q2M1P5'\n",
      " 'Q6IQ23' 'Q9ULW0' 'Q8NCU4' 'Q96T58']\n"
     ]
    },
    {
     "name": "stderr",
     "output_type": "stream",
     "text": [
      "/tmp/ipykernel_19687/1986022666.py:6: SettingWithCopyWarning: \n",
      "A value is trying to be set on a copy of a slice from a DataFrame.\n",
      "Try using .loc[row_indexer,col_indexer] = value instead\n",
      "\n",
      "See the caveats in the documentation: https://pandas.pydata.org/pandas-docs/stable/user_guide/indexing.html#returning-a-view-versus-a-copy\n",
      "  filter_features[\"Score\"] = filter_features[\"Score\"].astype(float)\n",
      "/tmp/ipykernel_19687/1986022666.py:7: SettingWithCopyWarning: \n",
      "A value is trying to be set on a copy of a slice from a DataFrame.\n",
      "Try using .loc[row_indexer,col_indexer] = value instead\n",
      "\n",
      "See the caveats in the documentation: https://pandas.pydata.org/pandas-docs/stable/user_guide/indexing.html#returning-a-view-versus-a-copy\n",
      "  filter_features[\"Score\"] = filter_features[\"Score\"].round(2)\n"
     ]
    },
    {
     "name": "stdout",
     "output_type": "stream",
     "text": [
      "num:\t 0\n",
      "num:\t 1\n",
      "num:\t 2\n",
      "Protein\n",
      " ['P28356' 'P48634' 'P56693' 'Q9Y5Q3' 'P17275' 'P78312' 'Q92786' 'P57073'\n",
      " 'Q99583' 'Q86UU0' 'Q9ULL5' 'O60479' 'Q9H6I2' 'Q9H0F5' 'P49715' 'P0CJ78'\n",
      " 'Q8TEK3' 'Q9BT81' 'Q9P2Y4' 'Q9NY43']\n"
     ]
    },
    {
     "name": "stderr",
     "output_type": "stream",
     "text": [
      "/tmp/ipykernel_19687/1986022666.py:6: SettingWithCopyWarning: \n",
      "A value is trying to be set on a copy of a slice from a DataFrame.\n",
      "Try using .loc[row_indexer,col_indexer] = value instead\n",
      "\n",
      "See the caveats in the documentation: https://pandas.pydata.org/pandas-docs/stable/user_guide/indexing.html#returning-a-view-versus-a-copy\n",
      "  filter_features[\"Score\"] = filter_features[\"Score\"].astype(float)\n",
      "/tmp/ipykernel_19687/1986022666.py:7: SettingWithCopyWarning: \n",
      "A value is trying to be set on a copy of a slice from a DataFrame.\n",
      "Try using .loc[row_indexer,col_indexer] = value instead\n",
      "\n",
      "See the caveats in the documentation: https://pandas.pydata.org/pandas-docs/stable/user_guide/indexing.html#returning-a-view-versus-a-copy\n",
      "  filter_features[\"Score\"] = filter_features[\"Score\"].round(2)\n"
     ]
    },
    {
     "name": "stdout",
     "output_type": "stream",
     "text": [
      "num:\t 0\n",
      "num:\t 1\n",
      "num:\t 2\n",
      "Protein\n",
      " ['Q9Y2W1' 'Q13523' 'P08621' 'Q5T200' 'P23588' 'Q86VM9' 'P48634' 'Q14152'\n",
      " 'Q14498' 'Q13427' 'Q05519' 'Q01130' 'Q08170' 'Q9Y3X0' 'Q15648' 'Q9UPQ9'\n",
      " 'Q15696' 'P35637' 'Q96IZ7' 'Q15424']\n"
     ]
    },
    {
     "name": "stderr",
     "output_type": "stream",
     "text": [
      "/tmp/ipykernel_19687/1986022666.py:6: SettingWithCopyWarning: \n",
      "A value is trying to be set on a copy of a slice from a DataFrame.\n",
      "Try using .loc[row_indexer,col_indexer] = value instead\n",
      "\n",
      "See the caveats in the documentation: https://pandas.pydata.org/pandas-docs/stable/user_guide/indexing.html#returning-a-view-versus-a-copy\n",
      "  filter_features[\"Score\"] = filter_features[\"Score\"].astype(float)\n",
      "/tmp/ipykernel_19687/1986022666.py:7: SettingWithCopyWarning: \n",
      "A value is trying to be set on a copy of a slice from a DataFrame.\n",
      "Try using .loc[row_indexer,col_indexer] = value instead\n",
      "\n",
      "See the caveats in the documentation: https://pandas.pydata.org/pandas-docs/stable/user_guide/indexing.html#returning-a-view-versus-a-copy\n",
      "  filter_features[\"Score\"] = filter_features[\"Score\"].round(2)\n"
     ]
    },
    {
     "name": "stdout",
     "output_type": "stream",
     "text": [
      "num:\t 0\n",
      "num:\t 1\n",
      "num:\t 2\n",
      "Protein\n",
      " ['P56693' 'P57073' 'Q9Y5Q3' 'P28356' 'P48634' 'P17275' 'Q86UU0' 'Q12948'\n",
      " 'Q92786' 'O60479' 'Q99583' 'Q9NY43' 'P54845' 'Q9ULL5' 'Q9UPG8' 'P49715'\n",
      " 'P31629' 'Q9H6I2' 'Q9H0F5' 'Q8WU58']\n"
     ]
    },
    {
     "name": "stderr",
     "output_type": "stream",
     "text": [
      "/tmp/ipykernel_19687/1986022666.py:6: SettingWithCopyWarning: \n",
      "A value is trying to be set on a copy of a slice from a DataFrame.\n",
      "Try using .loc[row_indexer,col_indexer] = value instead\n",
      "\n",
      "See the caveats in the documentation: https://pandas.pydata.org/pandas-docs/stable/user_guide/indexing.html#returning-a-view-versus-a-copy\n",
      "  filter_features[\"Score\"] = filter_features[\"Score\"].astype(float)\n",
      "/tmp/ipykernel_19687/1986022666.py:7: SettingWithCopyWarning: \n",
      "A value is trying to be set on a copy of a slice from a DataFrame.\n",
      "Try using .loc[row_indexer,col_indexer] = value instead\n",
      "\n",
      "See the caveats in the documentation: https://pandas.pydata.org/pandas-docs/stable/user_guide/indexing.html#returning-a-view-versus-a-copy\n",
      "  filter_features[\"Score\"] = filter_features[\"Score\"].round(2)\n"
     ]
    },
    {
     "name": "stdout",
     "output_type": "stream",
     "text": [
      "num:\t 0\n",
      "num:\t 1\n",
      "num:\t 2\n",
      "Protein\n",
      " ['P57073' 'P48634' 'Q9Y5Q3' 'P28356' 'P56693' 'P17275' 'Q86UU0' 'Q8WU58'\n",
      " 'Q92786' 'P54845' 'Q9H0F5' 'P31629' 'Q9ULL5' 'Q9H7S9' 'Q12948' 'Q5U5X8'\n",
      " 'Q9UPG8' 'O60479' 'P0CJ78' 'Q99583']\n"
     ]
    },
    {
     "name": "stderr",
     "output_type": "stream",
     "text": [
      "/tmp/ipykernel_19687/1986022666.py:6: SettingWithCopyWarning: \n",
      "A value is trying to be set on a copy of a slice from a DataFrame.\n",
      "Try using .loc[row_indexer,col_indexer] = value instead\n",
      "\n",
      "See the caveats in the documentation: https://pandas.pydata.org/pandas-docs/stable/user_guide/indexing.html#returning-a-view-versus-a-copy\n",
      "  filter_features[\"Score\"] = filter_features[\"Score\"].astype(float)\n",
      "/tmp/ipykernel_19687/1986022666.py:7: SettingWithCopyWarning: \n",
      "A value is trying to be set on a copy of a slice from a DataFrame.\n",
      "Try using .loc[row_indexer,col_indexer] = value instead\n",
      "\n",
      "See the caveats in the documentation: https://pandas.pydata.org/pandas-docs/stable/user_guide/indexing.html#returning-a-view-versus-a-copy\n",
      "  filter_features[\"Score\"] = filter_features[\"Score\"].round(2)\n"
     ]
    },
    {
     "name": "stdout",
     "output_type": "stream",
     "text": [
      "num:\t 0\n",
      "num:\t 1\n",
      "num:\t 2\n",
      "Protein\n",
      " ['Q8N264' 'Q8N1I0' 'P51114' 'P10071' 'P57740' 'P40225' 'O43318' 'A6NHS7'\n",
      " 'Q9C0K0' 'P41968' 'P25063' 'Q5T0W9' 'Q99527' 'O75077' 'Q7Z7M9' 'Q8IYT8'\n",
      " 'A6NJT0' 'Q9NVW2' 'P30518' 'P33032']\n"
     ]
    },
    {
     "name": "stderr",
     "output_type": "stream",
     "text": [
      "/tmp/ipykernel_19687/1986022666.py:6: SettingWithCopyWarning: \n",
      "A value is trying to be set on a copy of a slice from a DataFrame.\n",
      "Try using .loc[row_indexer,col_indexer] = value instead\n",
      "\n",
      "See the caveats in the documentation: https://pandas.pydata.org/pandas-docs/stable/user_guide/indexing.html#returning-a-view-versus-a-copy\n",
      "  filter_features[\"Score\"] = filter_features[\"Score\"].astype(float)\n",
      "/tmp/ipykernel_19687/1986022666.py:7: SettingWithCopyWarning: \n",
      "A value is trying to be set on a copy of a slice from a DataFrame.\n",
      "Try using .loc[row_indexer,col_indexer] = value instead\n",
      "\n",
      "See the caveats in the documentation: https://pandas.pydata.org/pandas-docs/stable/user_guide/indexing.html#returning-a-view-versus-a-copy\n",
      "  filter_features[\"Score\"] = filter_features[\"Score\"].round(2)\n"
     ]
    },
    {
     "name": "stdout",
     "output_type": "stream",
     "text": [
      "num:\t 0\n",
      "num:\t 1\n",
      "num:\t 2\n",
      "Protein\n",
      " ['Q14152' 'P20042' 'Q8NE71' 'Q9H1E3' 'O00541' 'Q9Y3X0' 'Q8IY81' 'P50579'\n",
      " 'Q9UPT8' 'Q9P031' 'Q8N9T8' 'O15446' 'P78316' 'Q15397' 'O00567' 'Q4G0J3'\n",
      " 'P29966' 'P82970' 'Q9H501' 'Q6UX04']\n"
     ]
    },
    {
     "name": "stderr",
     "output_type": "stream",
     "text": [
      "/tmp/ipykernel_19687/1986022666.py:6: SettingWithCopyWarning: \n",
      "A value is trying to be set on a copy of a slice from a DataFrame.\n",
      "Try using .loc[row_indexer,col_indexer] = value instead\n",
      "\n",
      "See the caveats in the documentation: https://pandas.pydata.org/pandas-docs/stable/user_guide/indexing.html#returning-a-view-versus-a-copy\n",
      "  filter_features[\"Score\"] = filter_features[\"Score\"].astype(float)\n",
      "/tmp/ipykernel_19687/1986022666.py:7: SettingWithCopyWarning: \n",
      "A value is trying to be set on a copy of a slice from a DataFrame.\n",
      "Try using .loc[row_indexer,col_indexer] = value instead\n",
      "\n",
      "See the caveats in the documentation: https://pandas.pydata.org/pandas-docs/stable/user_guide/indexing.html#returning-a-view-versus-a-copy\n",
      "  filter_features[\"Score\"] = filter_features[\"Score\"].round(2)\n"
     ]
    },
    {
     "name": "stdout",
     "output_type": "stream",
     "text": [
      "num:\t 0\n",
      "num:\t 1\n",
      "num:\t 2\n",
      "Protein\n",
      " ['Q14CM0' 'Q13255' 'Q8NG31' 'Q9C0G0' 'P10912' 'Q6ZVD7' 'Q5H9R7' 'A1L170'\n",
      " 'Q8IYW5' 'Q6ZU52' 'Q9NWQ8' 'Q16236' 'Q2NKX8' 'P27816' 'Q9UBP4' 'Q9BYF1'\n",
      " 'Q1EHB4' 'Q05084' 'O15427' 'P17535']\n"
     ]
    },
    {
     "name": "stderr",
     "output_type": "stream",
     "text": [
      "/tmp/ipykernel_19687/1986022666.py:6: SettingWithCopyWarning: \n",
      "A value is trying to be set on a copy of a slice from a DataFrame.\n",
      "Try using .loc[row_indexer,col_indexer] = value instead\n",
      "\n",
      "See the caveats in the documentation: https://pandas.pydata.org/pandas-docs/stable/user_guide/indexing.html#returning-a-view-versus-a-copy\n",
      "  filter_features[\"Score\"] = filter_features[\"Score\"].astype(float)\n",
      "/tmp/ipykernel_19687/1986022666.py:7: SettingWithCopyWarning: \n",
      "A value is trying to be set on a copy of a slice from a DataFrame.\n",
      "Try using .loc[row_indexer,col_indexer] = value instead\n",
      "\n",
      "See the caveats in the documentation: https://pandas.pydata.org/pandas-docs/stable/user_guide/indexing.html#returning-a-view-versus-a-copy\n",
      "  filter_features[\"Score\"] = filter_features[\"Score\"].round(2)\n"
     ]
    },
    {
     "name": "stdout",
     "output_type": "stream",
     "text": [
      "num:\t 0\n",
      "num:\t 1\n",
      "num:\t 2\n",
      "Protein\n",
      " ['Q9P2F5' 'Q8N264' 'P11161' 'Q96MT3' 'P50548' 'Q9C0K0' 'Q96J84' 'O76039'\n",
      " 'P10071' 'Q9UQF2' 'Q15678' 'Q01668' 'Q9H8M9' 'Q8N350' 'Q9C0B5' 'Q5JU85'\n",
      " 'Q96EX2' 'Q9C0H9' 'Q12968' 'Q5TGY3']\n"
     ]
    },
    {
     "name": "stderr",
     "output_type": "stream",
     "text": [
      "/tmp/ipykernel_19687/1986022666.py:6: SettingWithCopyWarning: \n",
      "A value is trying to be set on a copy of a slice from a DataFrame.\n",
      "Try using .loc[row_indexer,col_indexer] = value instead\n",
      "\n",
      "See the caveats in the documentation: https://pandas.pydata.org/pandas-docs/stable/user_guide/indexing.html#returning-a-view-versus-a-copy\n",
      "  filter_features[\"Score\"] = filter_features[\"Score\"].astype(float)\n",
      "/tmp/ipykernel_19687/1986022666.py:7: SettingWithCopyWarning: \n",
      "A value is trying to be set on a copy of a slice from a DataFrame.\n",
      "Try using .loc[row_indexer,col_indexer] = value instead\n",
      "\n",
      "See the caveats in the documentation: https://pandas.pydata.org/pandas-docs/stable/user_guide/indexing.html#returning-a-view-versus-a-copy\n",
      "  filter_features[\"Score\"] = filter_features[\"Score\"].round(2)\n"
     ]
    },
    {
     "name": "stdout",
     "output_type": "stream",
     "text": [
      "num:\t 0\n",
      "num:\t 1\n",
      "num:\t 2\n",
      "Protein\n",
      " ['Q9P2F5' 'Q8N264' 'P11161' 'P50548' 'Q96MT3' 'P10071' 'Q9C0K0' 'Q15678'\n",
      " 'Q96J84' 'Q01668' 'Q9UQF2' 'O76039' 'Q9H8M9' 'Q5JU85' 'Q96EX2' 'Q9HBD1'\n",
      " 'Q8N350' 'Q9C0B5' 'O43896' 'Q96IF1']\n"
     ]
    },
    {
     "name": "stderr",
     "output_type": "stream",
     "text": [
      "/tmp/ipykernel_19687/1986022666.py:6: SettingWithCopyWarning: \n",
      "A value is trying to be set on a copy of a slice from a DataFrame.\n",
      "Try using .loc[row_indexer,col_indexer] = value instead\n",
      "\n",
      "See the caveats in the documentation: https://pandas.pydata.org/pandas-docs/stable/user_guide/indexing.html#returning-a-view-versus-a-copy\n",
      "  filter_features[\"Score\"] = filter_features[\"Score\"].astype(float)\n",
      "/tmp/ipykernel_19687/1986022666.py:7: SettingWithCopyWarning: \n",
      "A value is trying to be set on a copy of a slice from a DataFrame.\n",
      "Try using .loc[row_indexer,col_indexer] = value instead\n",
      "\n",
      "See the caveats in the documentation: https://pandas.pydata.org/pandas-docs/stable/user_guide/indexing.html#returning-a-view-versus-a-copy\n",
      "  filter_features[\"Score\"] = filter_features[\"Score\"].round(2)\n"
     ]
    },
    {
     "name": "stdout",
     "output_type": "stream",
     "text": [
      "num:\t 0\n",
      "num:\t 1\n",
      "num:\t 2\n",
      "Protein\n",
      " ['Q8NG31' 'P27816' 'Q14CM0' 'Q8IXT1' 'Q13255' 'Q5H9R7' 'Q9NWQ8' 'Q6ZU52'\n",
      " 'Q1EHB4' 'Q5THK1' 'Q9UHC1' 'Q9C0G0' 'Q9HCH5' 'Q16236' 'Q05084' 'O43683'\n",
      " 'P13591' 'Q8TB52' 'Q9UBP4' 'Q5SW96']\n"
     ]
    },
    {
     "name": "stderr",
     "output_type": "stream",
     "text": [
      "/tmp/ipykernel_19687/1986022666.py:6: SettingWithCopyWarning: \n",
      "A value is trying to be set on a copy of a slice from a DataFrame.\n",
      "Try using .loc[row_indexer,col_indexer] = value instead\n",
      "\n",
      "See the caveats in the documentation: https://pandas.pydata.org/pandas-docs/stable/user_guide/indexing.html#returning-a-view-versus-a-copy\n",
      "  filter_features[\"Score\"] = filter_features[\"Score\"].astype(float)\n",
      "/tmp/ipykernel_19687/1986022666.py:7: SettingWithCopyWarning: \n",
      "A value is trying to be set on a copy of a slice from a DataFrame.\n",
      "Try using .loc[row_indexer,col_indexer] = value instead\n",
      "\n",
      "See the caveats in the documentation: https://pandas.pydata.org/pandas-docs/stable/user_guide/indexing.html#returning-a-view-versus-a-copy\n",
      "  filter_features[\"Score\"] = filter_features[\"Score\"].round(2)\n"
     ]
    },
    {
     "name": "stdout",
     "output_type": "stream",
     "text": [
      "num:\t 0\n",
      "num:\t 1\n",
      "num:\t 2\n",
      "Protein\n",
      " ['P02462' 'Q01955' 'P08572' 'P08123' 'P53420' 'P05997' 'P29400' 'Q14031'\n",
      " 'Q03692' 'P39059' 'P02458' 'P12107' 'P20849' 'Q14993' 'P25067' 'Q6UWP8'\n",
      " 'Q14055' 'Q02388' 'P27658' 'P39060']\n"
     ]
    },
    {
     "name": "stderr",
     "output_type": "stream",
     "text": [
      "/tmp/ipykernel_19687/1986022666.py:6: SettingWithCopyWarning: \n",
      "A value is trying to be set on a copy of a slice from a DataFrame.\n",
      "Try using .loc[row_indexer,col_indexer] = value instead\n",
      "\n",
      "See the caveats in the documentation: https://pandas.pydata.org/pandas-docs/stable/user_guide/indexing.html#returning-a-view-versus-a-copy\n",
      "  filter_features[\"Score\"] = filter_features[\"Score\"].astype(float)\n",
      "/tmp/ipykernel_19687/1986022666.py:7: SettingWithCopyWarning: \n",
      "A value is trying to be set on a copy of a slice from a DataFrame.\n",
      "Try using .loc[row_indexer,col_indexer] = value instead\n",
      "\n",
      "See the caveats in the documentation: https://pandas.pydata.org/pandas-docs/stable/user_guide/indexing.html#returning-a-view-versus-a-copy\n",
      "  filter_features[\"Score\"] = filter_features[\"Score\"].round(2)\n"
     ]
    },
    {
     "name": "stdout",
     "output_type": "stream",
     "text": [
      "num:\t 0\n",
      "num:\t 1\n",
      "num:\t 2\n",
      "Protein\n",
      " ['Q9UPX8' 'Q5VWP3' 'Q96PD4' 'Q99988' 'P16860' 'P49771' 'Q9H1C3' 'Q9ULL4'\n",
      " 'Q9UBV7' 'Q8N145' 'Q9H4A9' 'O75881' 'P60153' 'Q8N3Y3' 'Q9NQX3' 'Q9Y644'\n",
      " 'O60568' 'P0CG20' 'Q9H4F1' 'Q9H497']\n"
     ]
    },
    {
     "name": "stderr",
     "output_type": "stream",
     "text": [
      "/tmp/ipykernel_19687/1986022666.py:6: SettingWithCopyWarning: \n",
      "A value is trying to be set on a copy of a slice from a DataFrame.\n",
      "Try using .loc[row_indexer,col_indexer] = value instead\n",
      "\n",
      "See the caveats in the documentation: https://pandas.pydata.org/pandas-docs/stable/user_guide/indexing.html#returning-a-view-versus-a-copy\n",
      "  filter_features[\"Score\"] = filter_features[\"Score\"].astype(float)\n",
      "/tmp/ipykernel_19687/1986022666.py:7: SettingWithCopyWarning: \n",
      "A value is trying to be set on a copy of a slice from a DataFrame.\n",
      "Try using .loc[row_indexer,col_indexer] = value instead\n",
      "\n",
      "See the caveats in the documentation: https://pandas.pydata.org/pandas-docs/stable/user_guide/indexing.html#returning-a-view-versus-a-copy\n",
      "  filter_features[\"Score\"] = filter_features[\"Score\"].round(2)\n"
     ]
    },
    {
     "name": "stdout",
     "output_type": "stream",
     "text": [
      "num:\t 0\n",
      "num:\t 1\n",
      "num:\t 2\n",
      "Protein\n",
      " ['Q9UPX8' 'Q5VWP3' 'Q96PD4' 'Q99988' 'Q9H1C3' 'P16860' 'P49771' 'Q9NQX3'\n",
      " 'Q9ULL4' 'P0CG20' 'Q8N145' 'Q9H4A9' 'P08697' 'Q96AQ8' 'Q9UBV7' 'Q9Y644'\n",
      " 'P60153' 'Q8TDX6' 'Q9H4F1' 'O60568']\n"
     ]
    },
    {
     "name": "stderr",
     "output_type": "stream",
     "text": [
      "/tmp/ipykernel_19687/1986022666.py:6: SettingWithCopyWarning: \n",
      "A value is trying to be set on a copy of a slice from a DataFrame.\n",
      "Try using .loc[row_indexer,col_indexer] = value instead\n",
      "\n",
      "See the caveats in the documentation: https://pandas.pydata.org/pandas-docs/stable/user_guide/indexing.html#returning-a-view-versus-a-copy\n",
      "  filter_features[\"Score\"] = filter_features[\"Score\"].astype(float)\n",
      "/tmp/ipykernel_19687/1986022666.py:7: SettingWithCopyWarning: \n",
      "A value is trying to be set on a copy of a slice from a DataFrame.\n",
      "Try using .loc[row_indexer,col_indexer] = value instead\n",
      "\n",
      "See the caveats in the documentation: https://pandas.pydata.org/pandas-docs/stable/user_guide/indexing.html#returning-a-view-versus-a-copy\n",
      "  filter_features[\"Score\"] = filter_features[\"Score\"].round(2)\n"
     ]
    },
    {
     "name": "stdout",
     "output_type": "stream",
     "text": [
      "num:\t 0\n",
      "num:\t 1\n",
      "num:\t 2\n",
      "Protein\n",
      " ['Q9BXF6' 'O95208' 'Q9Y6I3' 'Q13492' 'P52594' 'Q9NQC3' 'P98082' 'P50995'\n",
      " 'P35658' 'Q9NRR5' 'O95359' 'Q6P3W7' 'Q9H201' 'Q9Y6A5' 'O60641' 'O95081'\n",
      " 'Q9UMZ2' 'Q8NDV7' 'Q14677' 'P52948']\n"
     ]
    },
    {
     "name": "stderr",
     "output_type": "stream",
     "text": [
      "/tmp/ipykernel_19687/1986022666.py:6: SettingWithCopyWarning: \n",
      "A value is trying to be set on a copy of a slice from a DataFrame.\n",
      "Try using .loc[row_indexer,col_indexer] = value instead\n",
      "\n",
      "See the caveats in the documentation: https://pandas.pydata.org/pandas-docs/stable/user_guide/indexing.html#returning-a-view-versus-a-copy\n",
      "  filter_features[\"Score\"] = filter_features[\"Score\"].astype(float)\n",
      "/tmp/ipykernel_19687/1986022666.py:7: SettingWithCopyWarning: \n",
      "A value is trying to be set on a copy of a slice from a DataFrame.\n",
      "Try using .loc[row_indexer,col_indexer] = value instead\n",
      "\n",
      "See the caveats in the documentation: https://pandas.pydata.org/pandas-docs/stable/user_guide/indexing.html#returning-a-view-versus-a-copy\n",
      "  filter_features[\"Score\"] = filter_features[\"Score\"].round(2)\n"
     ]
    },
    {
     "name": "stdout",
     "output_type": "stream",
     "text": [
      "num:\t 0\n",
      "num:\t 1\n",
      "num:\t 2\n",
      "Protein\n",
      " ['Q14185' 'Q9H7D0' 'Q8TF72' 'Q9P206' 'Q5SYE7' 'Q96L34' 'O75385' 'Q07889'\n",
      " 'Q9H992' 'Q5HYW2' 'Q13370' 'Q9UQC2' 'Q8IZD9' 'A6NIX2' 'Q8IYT8' 'P78524'\n",
      " 'O14974' 'Q7Z401' 'Q13905' 'Q8TDW5']\n"
     ]
    },
    {
     "name": "stderr",
     "output_type": "stream",
     "text": [
      "/tmp/ipykernel_19687/1986022666.py:6: SettingWithCopyWarning: \n",
      "A value is trying to be set on a copy of a slice from a DataFrame.\n",
      "Try using .loc[row_indexer,col_indexer] = value instead\n",
      "\n",
      "See the caveats in the documentation: https://pandas.pydata.org/pandas-docs/stable/user_guide/indexing.html#returning-a-view-versus-a-copy\n",
      "  filter_features[\"Score\"] = filter_features[\"Score\"].astype(float)\n",
      "/tmp/ipykernel_19687/1986022666.py:7: SettingWithCopyWarning: \n",
      "A value is trying to be set on a copy of a slice from a DataFrame.\n",
      "Try using .loc[row_indexer,col_indexer] = value instead\n",
      "\n",
      "See the caveats in the documentation: https://pandas.pydata.org/pandas-docs/stable/user_guide/indexing.html#returning-a-view-versus-a-copy\n",
      "  filter_features[\"Score\"] = filter_features[\"Score\"].round(2)\n"
     ]
    },
    {
     "name": "stdout",
     "output_type": "stream",
     "text": [
      "num:\t 0\n",
      "num:\t 1\n",
      "num:\t 2\n",
      "Protein\n",
      " ['Q8N3K9' 'Q9NU22' 'Q9C0D2' 'Q6PII3' 'Q02952' 'Q9P1V8' 'P0CG33' 'Q13427'\n",
      " 'Q86V48' 'Q9NYA3' 'Q8TDR0' 'P11137' 'O14617' 'A6NDK9' 'Q8WVS4' 'Q14978'\n",
      " 'P18583' 'A6H8Y1' 'Q14515' 'P20810']\n"
     ]
    },
    {
     "name": "stderr",
     "output_type": "stream",
     "text": [
      "/tmp/ipykernel_19687/1986022666.py:6: SettingWithCopyWarning: \n",
      "A value is trying to be set on a copy of a slice from a DataFrame.\n",
      "Try using .loc[row_indexer,col_indexer] = value instead\n",
      "\n",
      "See the caveats in the documentation: https://pandas.pydata.org/pandas-docs/stable/user_guide/indexing.html#returning-a-view-versus-a-copy\n",
      "  filter_features[\"Score\"] = filter_features[\"Score\"].astype(float)\n",
      "/tmp/ipykernel_19687/1986022666.py:7: SettingWithCopyWarning: \n",
      "A value is trying to be set on a copy of a slice from a DataFrame.\n",
      "Try using .loc[row_indexer,col_indexer] = value instead\n",
      "\n",
      "See the caveats in the documentation: https://pandas.pydata.org/pandas-docs/stable/user_guide/indexing.html#returning-a-view-versus-a-copy\n",
      "  filter_features[\"Score\"] = filter_features[\"Score\"].round(2)\n"
     ]
    },
    {
     "name": "stdout",
     "output_type": "stream",
     "text": [
      "num:\t 0\n",
      "num:\t 1\n",
      "num:\t 2\n",
      "Protein\n",
      " ['P02462' 'Q01955' 'P08572' 'P08123' 'P53420' 'P05997' 'P29400' 'Q14031'\n",
      " 'Q03692' 'P39059' 'P02458' 'P12107' 'P20849' 'Q14993' 'P25067' 'Q6UWP8'\n",
      " 'Q14055' 'Q02388' 'P27658' 'P39060']\n"
     ]
    },
    {
     "name": "stderr",
     "output_type": "stream",
     "text": [
      "/tmp/ipykernel_19687/1986022666.py:6: SettingWithCopyWarning: \n",
      "A value is trying to be set on a copy of a slice from a DataFrame.\n",
      "Try using .loc[row_indexer,col_indexer] = value instead\n",
      "\n",
      "See the caveats in the documentation: https://pandas.pydata.org/pandas-docs/stable/user_guide/indexing.html#returning-a-view-versus-a-copy\n",
      "  filter_features[\"Score\"] = filter_features[\"Score\"].astype(float)\n",
      "/tmp/ipykernel_19687/1986022666.py:7: SettingWithCopyWarning: \n",
      "A value is trying to be set on a copy of a slice from a DataFrame.\n",
      "Try using .loc[row_indexer,col_indexer] = value instead\n",
      "\n",
      "See the caveats in the documentation: https://pandas.pydata.org/pandas-docs/stable/user_guide/indexing.html#returning-a-view-versus-a-copy\n",
      "  filter_features[\"Score\"] = filter_features[\"Score\"].round(2)\n"
     ]
    },
    {
     "name": "stdout",
     "output_type": "stream",
     "text": [
      "num:\t 0\n",
      "num:\t 1\n",
      "num:\t 2\n",
      "Protein\n",
      " ['P57073' 'P48634' 'P56693' 'Q9Y5Q3' 'P28356' 'Q86UU0' 'P17275' 'P54845'\n",
      " 'Q9ULL5' 'Q9UPG8' 'P31629' 'Q8WU58' 'Q9H0F5' 'O60479' 'Q12948' 'Q92786'\n",
      " 'Q9NY43' 'Q9H7S9' 'Q53ET0' 'Q5U5X8']\n"
     ]
    },
    {
     "name": "stderr",
     "output_type": "stream",
     "text": [
      "/tmp/ipykernel_19687/1986022666.py:6: SettingWithCopyWarning: \n",
      "A value is trying to be set on a copy of a slice from a DataFrame.\n",
      "Try using .loc[row_indexer,col_indexer] = value instead\n",
      "\n",
      "See the caveats in the documentation: https://pandas.pydata.org/pandas-docs/stable/user_guide/indexing.html#returning-a-view-versus-a-copy\n",
      "  filter_features[\"Score\"] = filter_features[\"Score\"].astype(float)\n",
      "/tmp/ipykernel_19687/1986022666.py:7: SettingWithCopyWarning: \n",
      "A value is trying to be set on a copy of a slice from a DataFrame.\n",
      "Try using .loc[row_indexer,col_indexer] = value instead\n",
      "\n",
      "See the caveats in the documentation: https://pandas.pydata.org/pandas-docs/stable/user_guide/indexing.html#returning-a-view-versus-a-copy\n",
      "  filter_features[\"Score\"] = filter_features[\"Score\"].round(2)\n"
     ]
    },
    {
     "name": "stdout",
     "output_type": "stream",
     "text": [
      "num:\t 0\n",
      "num:\t 1\n",
      "num:\t 2\n",
      "Protein\n",
      " ['Q15596' 'Q09472' 'Q15648' 'Q86UU0' 'Q92793' 'Q14686' 'Q15788' 'Q92585'\n",
      " 'Q13495' 'Q96RN5' 'Q96EV2' 'Q9ULL5' 'Q9Y6Q9' 'Q06413' 'Q2KHR2' 'O14686'\n",
      " 'O15405' 'O14964' 'O14497' 'P19532']\n"
     ]
    },
    {
     "name": "stderr",
     "output_type": "stream",
     "text": [
      "/tmp/ipykernel_19687/1986022666.py:6: SettingWithCopyWarning: \n",
      "A value is trying to be set on a copy of a slice from a DataFrame.\n",
      "Try using .loc[row_indexer,col_indexer] = value instead\n",
      "\n",
      "See the caveats in the documentation: https://pandas.pydata.org/pandas-docs/stable/user_guide/indexing.html#returning-a-view-versus-a-copy\n",
      "  filter_features[\"Score\"] = filter_features[\"Score\"].astype(float)\n",
      "/tmp/ipykernel_19687/1986022666.py:7: SettingWithCopyWarning: \n",
      "A value is trying to be set on a copy of a slice from a DataFrame.\n",
      "Try using .loc[row_indexer,col_indexer] = value instead\n",
      "\n",
      "See the caveats in the documentation: https://pandas.pydata.org/pandas-docs/stable/user_guide/indexing.html#returning-a-view-versus-a-copy\n",
      "  filter_features[\"Score\"] = filter_features[\"Score\"].round(2)\n"
     ]
    },
    {
     "name": "stdout",
     "output_type": "stream",
     "text": [
      "num:\t 0\n",
      "num:\t 1\n",
      "num:\t 2\n",
      "Protein\n",
      " ['Q14978' 'Q6PD62' 'Q13427' 'Q9Y2W1' 'Q5T200' 'Q13523' 'O00294' 'P46013'\n",
      " 'O00567' 'Q8NE71' 'Q8N9Q2' 'Q9NQS7' 'Q02952' 'Q9UKJ3' 'Q8N9E0' 'Q14093'\n",
      " 'Q9H1E3' 'P35663' 'P35269' 'Q5BKY9']\n"
     ]
    },
    {
     "name": "stderr",
     "output_type": "stream",
     "text": [
      "/tmp/ipykernel_19687/1986022666.py:6: SettingWithCopyWarning: \n",
      "A value is trying to be set on a copy of a slice from a DataFrame.\n",
      "Try using .loc[row_indexer,col_indexer] = value instead\n",
      "\n",
      "See the caveats in the documentation: https://pandas.pydata.org/pandas-docs/stable/user_guide/indexing.html#returning-a-view-versus-a-copy\n",
      "  filter_features[\"Score\"] = filter_features[\"Score\"].astype(float)\n",
      "/tmp/ipykernel_19687/1986022666.py:7: SettingWithCopyWarning: \n",
      "A value is trying to be set on a copy of a slice from a DataFrame.\n",
      "Try using .loc[row_indexer,col_indexer] = value instead\n",
      "\n",
      "See the caveats in the documentation: https://pandas.pydata.org/pandas-docs/stable/user_guide/indexing.html#returning-a-view-versus-a-copy\n",
      "  filter_features[\"Score\"] = filter_features[\"Score\"].round(2)\n"
     ]
    },
    {
     "name": "stdout",
     "output_type": "stream",
     "text": [
      "num:\t 0\n",
      "num:\t 1\n",
      "num:\t 2\n",
      "Protein\n",
      " ['Q13905' 'Q14185' 'Q5SYE7' 'Q9P206' 'Q6ZMT1' 'Q9H7D0' 'Q5HYW2' 'Q07889'\n",
      " 'Q6IQ23' 'P78524' 'Q8N1M1' 'Q8TF72' 'Q6DN90' 'Q9C0D6' 'Q8IZD9' 'Q9H8V3'\n",
      " 'Q9H992' 'O15034' 'Q9Y2H5' 'O60343']\n"
     ]
    },
    {
     "name": "stderr",
     "output_type": "stream",
     "text": [
      "/tmp/ipykernel_19687/1986022666.py:6: SettingWithCopyWarning: \n",
      "A value is trying to be set on a copy of a slice from a DataFrame.\n",
      "Try using .loc[row_indexer,col_indexer] = value instead\n",
      "\n",
      "See the caveats in the documentation: https://pandas.pydata.org/pandas-docs/stable/user_guide/indexing.html#returning-a-view-versus-a-copy\n",
      "  filter_features[\"Score\"] = filter_features[\"Score\"].astype(float)\n",
      "/tmp/ipykernel_19687/1986022666.py:7: SettingWithCopyWarning: \n",
      "A value is trying to be set on a copy of a slice from a DataFrame.\n",
      "Try using .loc[row_indexer,col_indexer] = value instead\n",
      "\n",
      "See the caveats in the documentation: https://pandas.pydata.org/pandas-docs/stable/user_guide/indexing.html#returning-a-view-versus-a-copy\n",
      "  filter_features[\"Score\"] = filter_features[\"Score\"].round(2)\n"
     ]
    },
    {
     "name": "stdout",
     "output_type": "stream",
     "text": [
      "num:\t 0\n",
      "num:\t 1\n",
      "num:\t 2\n",
      "Protein\n",
      " ['P57073' 'Q9Y5Q3' 'P56693' 'P28356' 'P48634' 'P17275' 'Q86UU0' 'P54845'\n",
      " 'Q9UPG8' 'Q92786' 'Q12948' 'Q99583' 'O60479' 'P31629' 'Q9NY43' 'Q9ULL5'\n",
      " 'Q8WU58' 'Q9H0F5' 'P49715' 'Q9H6I2']\n"
     ]
    },
    {
     "name": "stderr",
     "output_type": "stream",
     "text": [
      "/tmp/ipykernel_19687/1986022666.py:6: SettingWithCopyWarning: \n",
      "A value is trying to be set on a copy of a slice from a DataFrame.\n",
      "Try using .loc[row_indexer,col_indexer] = value instead\n",
      "\n",
      "See the caveats in the documentation: https://pandas.pydata.org/pandas-docs/stable/user_guide/indexing.html#returning-a-view-versus-a-copy\n",
      "  filter_features[\"Score\"] = filter_features[\"Score\"].astype(float)\n",
      "/tmp/ipykernel_19687/1986022666.py:7: SettingWithCopyWarning: \n",
      "A value is trying to be set on a copy of a slice from a DataFrame.\n",
      "Try using .loc[row_indexer,col_indexer] = value instead\n",
      "\n",
      "See the caveats in the documentation: https://pandas.pydata.org/pandas-docs/stable/user_guide/indexing.html#returning-a-view-versus-a-copy\n",
      "  filter_features[\"Score\"] = filter_features[\"Score\"].round(2)\n"
     ]
    },
    {
     "name": "stdout",
     "output_type": "stream",
     "text": [
      "num:\t 0\n",
      "num:\t 1\n",
      "num:\t 2\n",
      "Protein\n",
      " ['Q9ULI3' 'P33032' 'Q8NDV7' 'Q99527' 'P46095' 'P30518' 'P25063' 'Q6UWJ8'\n",
      " 'P41968' 'Q92847' 'O75077' 'Q8N1I0' 'Q04900' 'A6NHS7' 'Q9BY21' 'Q96F05'\n",
      " 'Q9UBP4' 'P40225' 'Q9Y4A8' 'Q8N387']\n"
     ]
    },
    {
     "name": "stderr",
     "output_type": "stream",
     "text": [
      "/tmp/ipykernel_19687/1986022666.py:6: SettingWithCopyWarning: \n",
      "A value is trying to be set on a copy of a slice from a DataFrame.\n",
      "Try using .loc[row_indexer,col_indexer] = value instead\n",
      "\n",
      "See the caveats in the documentation: https://pandas.pydata.org/pandas-docs/stable/user_guide/indexing.html#returning-a-view-versus-a-copy\n",
      "  filter_features[\"Score\"] = filter_features[\"Score\"].astype(float)\n",
      "/tmp/ipykernel_19687/1986022666.py:7: SettingWithCopyWarning: \n",
      "A value is trying to be set on a copy of a slice from a DataFrame.\n",
      "Try using .loc[row_indexer,col_indexer] = value instead\n",
      "\n",
      "See the caveats in the documentation: https://pandas.pydata.org/pandas-docs/stable/user_guide/indexing.html#returning-a-view-versus-a-copy\n",
      "  filter_features[\"Score\"] = filter_features[\"Score\"].round(2)\n"
     ]
    },
    {
     "name": "stdout",
     "output_type": "stream",
     "text": [
      "num:\t 0\n",
      "num:\t 1\n",
      "num:\t 2\n",
      "Protein\n",
      " ['Q9UPA5' 'Q5TC82' 'Q9HAU0' 'Q6XPR3' 'Q16825' 'Q99569' 'A6NIX2' 'O60716'\n",
      " 'O75604' 'P21860' 'Q07666' 'Q71H61' 'P57073' 'Q99959' 'Q99767' 'Q96PK6'\n",
      " 'Q01844' 'O95429' 'O14964' 'O00192']\n"
     ]
    },
    {
     "name": "stderr",
     "output_type": "stream",
     "text": [
      "/tmp/ipykernel_19687/1986022666.py:6: SettingWithCopyWarning: \n",
      "A value is trying to be set on a copy of a slice from a DataFrame.\n",
      "Try using .loc[row_indexer,col_indexer] = value instead\n",
      "\n",
      "See the caveats in the documentation: https://pandas.pydata.org/pandas-docs/stable/user_guide/indexing.html#returning-a-view-versus-a-copy\n",
      "  filter_features[\"Score\"] = filter_features[\"Score\"].astype(float)\n",
      "/tmp/ipykernel_19687/1986022666.py:7: SettingWithCopyWarning: \n",
      "A value is trying to be set on a copy of a slice from a DataFrame.\n",
      "Try using .loc[row_indexer,col_indexer] = value instead\n",
      "\n",
      "See the caveats in the documentation: https://pandas.pydata.org/pandas-docs/stable/user_guide/indexing.html#returning-a-view-versus-a-copy\n",
      "  filter_features[\"Score\"] = filter_features[\"Score\"].round(2)\n"
     ]
    },
    {
     "name": "stdout",
     "output_type": "stream",
     "text": [
      "num:\t 0\n",
      "num:\t 1\n",
      "num:\t 2\n",
      "Protein\n",
      " ['O15446' 'Q5C9Z4' 'P50579' 'Q9Y3X0' 'Q14152' 'Q9NQ55' 'P20042' 'O14617'\n",
      " 'P82970' 'O00294' 'A6NDB9' 'Q15397' 'P0C671' 'Q969E4' 'O76021' 'O94992'\n",
      " 'Q13562' 'Q99848' 'P78316' 'Q0VD83']\n"
     ]
    },
    {
     "name": "stderr",
     "output_type": "stream",
     "text": [
      "/tmp/ipykernel_19687/1986022666.py:6: SettingWithCopyWarning: \n",
      "A value is trying to be set on a copy of a slice from a DataFrame.\n",
      "Try using .loc[row_indexer,col_indexer] = value instead\n",
      "\n",
      "See the caveats in the documentation: https://pandas.pydata.org/pandas-docs/stable/user_guide/indexing.html#returning-a-view-versus-a-copy\n",
      "  filter_features[\"Score\"] = filter_features[\"Score\"].astype(float)\n",
      "/tmp/ipykernel_19687/1986022666.py:7: SettingWithCopyWarning: \n",
      "A value is trying to be set on a copy of a slice from a DataFrame.\n",
      "Try using .loc[row_indexer,col_indexer] = value instead\n",
      "\n",
      "See the caveats in the documentation: https://pandas.pydata.org/pandas-docs/stable/user_guide/indexing.html#returning-a-view-versus-a-copy\n",
      "  filter_features[\"Score\"] = filter_features[\"Score\"].round(2)\n"
     ]
    },
    {
     "name": "stdout",
     "output_type": "stream",
     "text": [
      "num:\t 0\n",
      "num:\t 1\n",
      "num:\t 2\n",
      "Protein\n",
      " ['O15446' 'P50579' 'Q14152' 'Q15397' 'P20042' 'P82970' 'Q99848' 'O00294'\n",
      " 'Q9HBR0' 'Q9Y3X0' 'P0C671' 'Q8NE71' 'Q5C9Z4' 'Q8NC51' 'A6NDB9' 'O76021'\n",
      " 'Q0VD83' 'O60524' 'Q1ED39' 'O75683']\n"
     ]
    },
    {
     "name": "stderr",
     "output_type": "stream",
     "text": [
      "/tmp/ipykernel_19687/1986022666.py:6: SettingWithCopyWarning: \n",
      "A value is trying to be set on a copy of a slice from a DataFrame.\n",
      "Try using .loc[row_indexer,col_indexer] = value instead\n",
      "\n",
      "See the caveats in the documentation: https://pandas.pydata.org/pandas-docs/stable/user_guide/indexing.html#returning-a-view-versus-a-copy\n",
      "  filter_features[\"Score\"] = filter_features[\"Score\"].astype(float)\n",
      "/tmp/ipykernel_19687/1986022666.py:7: SettingWithCopyWarning: \n",
      "A value is trying to be set on a copy of a slice from a DataFrame.\n",
      "Try using .loc[row_indexer,col_indexer] = value instead\n",
      "\n",
      "See the caveats in the documentation: https://pandas.pydata.org/pandas-docs/stable/user_guide/indexing.html#returning-a-view-versus-a-copy\n",
      "  filter_features[\"Score\"] = filter_features[\"Score\"].round(2)\n"
     ]
    },
    {
     "name": "stdout",
     "output_type": "stream",
     "text": [
      "num:\t 0\n",
      "num:\t 1\n",
      "num:\t 2\n",
      "Protein\n",
      " ['Q9P206' 'Q13905' 'Q14185' 'Q9H7D0' 'Q5HYW2' 'Q5SYE7' 'Q07889' 'Q8TF72'\n",
      " 'P78524' 'Q6ZMT1' 'Q8N1M1' 'Q68EN5' 'Q9C0D6' 'O60307' 'Q8IZD9' 'Q9H8V3'\n",
      " 'O14777' 'Q9H992' 'Q96EY5' 'Q6IQ23']\n"
     ]
    },
    {
     "name": "stderr",
     "output_type": "stream",
     "text": [
      "/tmp/ipykernel_19687/1986022666.py:6: SettingWithCopyWarning: \n",
      "A value is trying to be set on a copy of a slice from a DataFrame.\n",
      "Try using .loc[row_indexer,col_indexer] = value instead\n",
      "\n",
      "See the caveats in the documentation: https://pandas.pydata.org/pandas-docs/stable/user_guide/indexing.html#returning-a-view-versus-a-copy\n",
      "  filter_features[\"Score\"] = filter_features[\"Score\"].astype(float)\n",
      "/tmp/ipykernel_19687/1986022666.py:7: SettingWithCopyWarning: \n",
      "A value is trying to be set on a copy of a slice from a DataFrame.\n",
      "Try using .loc[row_indexer,col_indexer] = value instead\n",
      "\n",
      "See the caveats in the documentation: https://pandas.pydata.org/pandas-docs/stable/user_guide/indexing.html#returning-a-view-versus-a-copy\n",
      "  filter_features[\"Score\"] = filter_features[\"Score\"].round(2)\n"
     ]
    },
    {
     "name": "stdout",
     "output_type": "stream",
     "text": [
      "num:\t 0\n",
      "num:\t 1\n",
      "num:\t 2\n",
      "Protein\n",
      " ['P18433' 'Q7LGC8' 'A6NHS7' 'P25063' 'Q5T0B9' 'P98168' 'P98169' 'Q9UPR5'\n",
      " 'Q6UUV9' 'Q04756' 'Q9BVV8' 'Q8N387' 'O75077' 'O95628' 'Q3ZCQ3' 'Q8TDQ1'\n",
      " 'Q96QE4' 'P57740' 'O95159' 'Q9Y2A9']\n"
     ]
    },
    {
     "name": "stderr",
     "output_type": "stream",
     "text": [
      "/tmp/ipykernel_19687/1986022666.py:6: SettingWithCopyWarning: \n",
      "A value is trying to be set on a copy of a slice from a DataFrame.\n",
      "Try using .loc[row_indexer,col_indexer] = value instead\n",
      "\n",
      "See the caveats in the documentation: https://pandas.pydata.org/pandas-docs/stable/user_guide/indexing.html#returning-a-view-versus-a-copy\n",
      "  filter_features[\"Score\"] = filter_features[\"Score\"].astype(float)\n",
      "/tmp/ipykernel_19687/1986022666.py:7: SettingWithCopyWarning: \n",
      "A value is trying to be set on a copy of a slice from a DataFrame.\n",
      "Try using .loc[row_indexer,col_indexer] = value instead\n",
      "\n",
      "See the caveats in the documentation: https://pandas.pydata.org/pandas-docs/stable/user_guide/indexing.html#returning-a-view-versus-a-copy\n",
      "  filter_features[\"Score\"] = filter_features[\"Score\"].round(2)\n"
     ]
    },
    {
     "name": "stdout",
     "output_type": "stream",
     "text": [
      "num:\t 0\n",
      "num:\t 1\n",
      "num:\t 2\n",
      "Protein\n",
      " ['Q9C0D2' 'Q6IQ23' 'Q5VT06' 'Q8N3K9' 'Q86VQ0' 'P0CG33' 'Q8IYE1' 'Q9NYA3'\n",
      " 'Q86V48' 'Q8WYP5' 'Q14244' 'Q9P1V8' 'A6NDK9' 'Q5VUA4' 'Q9BV73' 'Q8IYY4'\n",
      " 'O14974' 'Q96SN8' 'Q5TB80' 'Q32MZ4']\n"
     ]
    },
    {
     "name": "stderr",
     "output_type": "stream",
     "text": [
      "/tmp/ipykernel_19687/1986022666.py:6: SettingWithCopyWarning: \n",
      "A value is trying to be set on a copy of a slice from a DataFrame.\n",
      "Try using .loc[row_indexer,col_indexer] = value instead\n",
      "\n",
      "See the caveats in the documentation: https://pandas.pydata.org/pandas-docs/stable/user_guide/indexing.html#returning-a-view-versus-a-copy\n",
      "  filter_features[\"Score\"] = filter_features[\"Score\"].astype(float)\n",
      "/tmp/ipykernel_19687/1986022666.py:7: SettingWithCopyWarning: \n",
      "A value is trying to be set on a copy of a slice from a DataFrame.\n",
      "Try using .loc[row_indexer,col_indexer] = value instead\n",
      "\n",
      "See the caveats in the documentation: https://pandas.pydata.org/pandas-docs/stable/user_guide/indexing.html#returning-a-view-versus-a-copy\n",
      "  filter_features[\"Score\"] = filter_features[\"Score\"].round(2)\n"
     ]
    },
    {
     "name": "stdout",
     "output_type": "stream",
     "text": [
      "num:\t 0\n",
      "num:\t 1\n",
      "num:\t 2\n",
      "Protein\n",
      " ['Q00613' 'P28907' 'Q9NQX3' 'Q68DH5' 'Q96IF1' 'Q8N3Y3' 'Q06643' 'Q96LR4'\n",
      " 'Q5VWP3' 'O95159' 'Q5JXC2' 'P17275' 'Q6UUV9' 'Q14703' 'O15165' 'Q9H0A9'\n",
      " 'P45985' 'Q9H0V9' 'O60909' 'O60315']\n"
     ]
    },
    {
     "name": "stderr",
     "output_type": "stream",
     "text": [
      "/tmp/ipykernel_19687/1986022666.py:6: SettingWithCopyWarning: \n",
      "A value is trying to be set on a copy of a slice from a DataFrame.\n",
      "Try using .loc[row_indexer,col_indexer] = value instead\n",
      "\n",
      "See the caveats in the documentation: https://pandas.pydata.org/pandas-docs/stable/user_guide/indexing.html#returning-a-view-versus-a-copy\n",
      "  filter_features[\"Score\"] = filter_features[\"Score\"].astype(float)\n",
      "/tmp/ipykernel_19687/1986022666.py:7: SettingWithCopyWarning: \n",
      "A value is trying to be set on a copy of a slice from a DataFrame.\n",
      "Try using .loc[row_indexer,col_indexer] = value instead\n",
      "\n",
      "See the caveats in the documentation: https://pandas.pydata.org/pandas-docs/stable/user_guide/indexing.html#returning-a-view-versus-a-copy\n",
      "  filter_features[\"Score\"] = filter_features[\"Score\"].round(2)\n"
     ]
    },
    {
     "name": "stdout",
     "output_type": "stream",
     "text": [
      "num:\t 0\n",
      "num:\t 1\n",
      "num:\t 2\n",
      "Protein\n",
      " ['Q9ULI3' 'P25063' 'Q99527' 'P33032' 'P46095' 'Q6UWJ8' 'P30518' 'P41968'\n",
      " 'Q8N1I0' 'Q92847' 'Q04900' 'O75077' 'Q9BY21' 'Q8NDV7' 'P13473' 'P08575'\n",
      " 'Q96F05' 'A6NHS7' 'Q9Y4A8' 'P40225']\n"
     ]
    },
    {
     "name": "stderr",
     "output_type": "stream",
     "text": [
      "/tmp/ipykernel_19687/1986022666.py:6: SettingWithCopyWarning: \n",
      "A value is trying to be set on a copy of a slice from a DataFrame.\n",
      "Try using .loc[row_indexer,col_indexer] = value instead\n",
      "\n",
      "See the caveats in the documentation: https://pandas.pydata.org/pandas-docs/stable/user_guide/indexing.html#returning-a-view-versus-a-copy\n",
      "  filter_features[\"Score\"] = filter_features[\"Score\"].astype(float)\n",
      "/tmp/ipykernel_19687/1986022666.py:7: SettingWithCopyWarning: \n",
      "A value is trying to be set on a copy of a slice from a DataFrame.\n",
      "Try using .loc[row_indexer,col_indexer] = value instead\n",
      "\n",
      "See the caveats in the documentation: https://pandas.pydata.org/pandas-docs/stable/user_guide/indexing.html#returning-a-view-versus-a-copy\n",
      "  filter_features[\"Score\"] = filter_features[\"Score\"].round(2)\n"
     ]
    },
    {
     "name": "stdout",
     "output_type": "stream",
     "text": [
      "num:\t 0\n",
      "num:\t 1\n",
      "num:\t 2\n",
      "Protein\n",
      " ['Q96T23' 'P78362' 'O60524' 'O00294' 'Q9NU22' 'P49711' 'Q9NVP1' 'Q92794'\n",
      " 'P35659' 'O75167' 'Q6UX04' 'Q9NR30' 'O14646' 'Q9H1E3' 'P35269' 'Q13061'\n",
      " 'O75475' 'Q13562' 'Q8NE71' 'A1Z1Q3']\n"
     ]
    },
    {
     "name": "stderr",
     "output_type": "stream",
     "text": [
      "/tmp/ipykernel_19687/1986022666.py:6: SettingWithCopyWarning: \n",
      "A value is trying to be set on a copy of a slice from a DataFrame.\n",
      "Try using .loc[row_indexer,col_indexer] = value instead\n",
      "\n",
      "See the caveats in the documentation: https://pandas.pydata.org/pandas-docs/stable/user_guide/indexing.html#returning-a-view-versus-a-copy\n",
      "  filter_features[\"Score\"] = filter_features[\"Score\"].astype(float)\n",
      "/tmp/ipykernel_19687/1986022666.py:7: SettingWithCopyWarning: \n",
      "A value is trying to be set on a copy of a slice from a DataFrame.\n",
      "Try using .loc[row_indexer,col_indexer] = value instead\n",
      "\n",
      "See the caveats in the documentation: https://pandas.pydata.org/pandas-docs/stable/user_guide/indexing.html#returning-a-view-versus-a-copy\n",
      "  filter_features[\"Score\"] = filter_features[\"Score\"].round(2)\n"
     ]
    },
    {
     "name": "stdout",
     "output_type": "stream",
     "text": [
      "num:\t 0\n",
      "num:\t 1\n",
      "num:\t 2\n",
      "Protein\n",
      " ['Q9H0S4' 'Q9Y3X0' 'P48634' 'Q8NC51' 'Q14152' 'Q9UJA3' 'O00571' 'Q9UPQ9'\n",
      " 'Q14011' 'O15523' 'O00401' 'O43516' 'Q9H2U1' 'Q8TDD1' 'Q8NCA5' 'Q9HCJ0'\n",
      " 'Q8TF74' 'P15502' 'P17844' 'Q06787']\n"
     ]
    },
    {
     "name": "stderr",
     "output_type": "stream",
     "text": [
      "/tmp/ipykernel_19687/1986022666.py:6: SettingWithCopyWarning: \n",
      "A value is trying to be set on a copy of a slice from a DataFrame.\n",
      "Try using .loc[row_indexer,col_indexer] = value instead\n",
      "\n",
      "See the caveats in the documentation: https://pandas.pydata.org/pandas-docs/stable/user_guide/indexing.html#returning-a-view-versus-a-copy\n",
      "  filter_features[\"Score\"] = filter_features[\"Score\"].astype(float)\n",
      "/tmp/ipykernel_19687/1986022666.py:7: SettingWithCopyWarning: \n",
      "A value is trying to be set on a copy of a slice from a DataFrame.\n",
      "Try using .loc[row_indexer,col_indexer] = value instead\n",
      "\n",
      "See the caveats in the documentation: https://pandas.pydata.org/pandas-docs/stable/user_guide/indexing.html#returning-a-view-versus-a-copy\n",
      "  filter_features[\"Score\"] = filter_features[\"Score\"].round(2)\n"
     ]
    },
    {
     "name": "stdout",
     "output_type": "stream",
     "text": [
      "num:\t 0\n",
      "num:\t 1\n",
      "num:\t 2\n",
      "Protein\n",
      " ['O75385' 'A6NIX2' 'Q5SYE7' 'Q9Y4H2' 'Q8IYT8' 'Q9P2F8' 'Q14185' 'A6NGG8'\n",
      " 'Q86X51' 'Q9H992' 'Q9P206' 'Q8TF72' 'Q9H8V3' 'Q8ND83' 'Q5VWP3' 'Q7Z401'\n",
      " 'Q8N1M1' 'Q9UQC2' 'Q9Y2H9' 'Q13905']\n"
     ]
    },
    {
     "name": "stderr",
     "output_type": "stream",
     "text": [
      "/tmp/ipykernel_19687/1986022666.py:6: SettingWithCopyWarning: \n",
      "A value is trying to be set on a copy of a slice from a DataFrame.\n",
      "Try using .loc[row_indexer,col_indexer] = value instead\n",
      "\n",
      "See the caveats in the documentation: https://pandas.pydata.org/pandas-docs/stable/user_guide/indexing.html#returning-a-view-versus-a-copy\n",
      "  filter_features[\"Score\"] = filter_features[\"Score\"].astype(float)\n",
      "/tmp/ipykernel_19687/1986022666.py:7: SettingWithCopyWarning: \n",
      "A value is trying to be set on a copy of a slice from a DataFrame.\n",
      "Try using .loc[row_indexer,col_indexer] = value instead\n",
      "\n",
      "See the caveats in the documentation: https://pandas.pydata.org/pandas-docs/stable/user_guide/indexing.html#returning-a-view-versus-a-copy\n",
      "  filter_features[\"Score\"] = filter_features[\"Score\"].round(2)\n"
     ]
    },
    {
     "name": "stdout",
     "output_type": "stream",
     "text": [
      "num:\t 0\n",
      "num:\t 1\n",
      "num:\t 2\n",
      "Protein\n",
      " ['P04156' 'Q8TDQ1' 'B0FP48' 'E5RIL1' 'Q9NQX3' 'Q6UXZ3' 'Q8WVQ1' 'Q06124'\n",
      " 'Q9NW97' 'Q8N8Z6' 'Q8IY95' 'Q8WTT0' 'Q9H3R1' 'Q6P179' 'Q6UVK1' 'Q9NS84'\n",
      " 'O60609' 'P32970' 'P31431' 'Q8NI22']\n"
     ]
    },
    {
     "name": "stderr",
     "output_type": "stream",
     "text": [
      "/tmp/ipykernel_19687/1986022666.py:6: SettingWithCopyWarning: \n",
      "A value is trying to be set on a copy of a slice from a DataFrame.\n",
      "Try using .loc[row_indexer,col_indexer] = value instead\n",
      "\n",
      "See the caveats in the documentation: https://pandas.pydata.org/pandas-docs/stable/user_guide/indexing.html#returning-a-view-versus-a-copy\n",
      "  filter_features[\"Score\"] = filter_features[\"Score\"].astype(float)\n",
      "/tmp/ipykernel_19687/1986022666.py:7: SettingWithCopyWarning: \n",
      "A value is trying to be set on a copy of a slice from a DataFrame.\n",
      "Try using .loc[row_indexer,col_indexer] = value instead\n",
      "\n",
      "See the caveats in the documentation: https://pandas.pydata.org/pandas-docs/stable/user_guide/indexing.html#returning-a-view-versus-a-copy\n",
      "  filter_features[\"Score\"] = filter_features[\"Score\"].round(2)\n"
     ]
    },
    {
     "name": "stdout",
     "output_type": "stream",
     "text": [
      "num:\t 0\n",
      "num:\t 1\n",
      "num:\t 2\n",
      "Protein\n",
      " ['O75385' 'Q5SYE7' 'Q9P2F8' 'Q13905' 'Q8NET4' 'Q86X51' 'Q9Y4H2' 'A6NIX2'\n",
      " 'Q9P206' 'Q7Z401' 'Q9BXF6' 'A6NGG8' 'Q8TEU7' 'Q9H992' 'Q8TF72' 'O14827'\n",
      " 'P78524' 'Q9UQC2' 'Q6P0Q8' 'P15172']\n"
     ]
    },
    {
     "name": "stderr",
     "output_type": "stream",
     "text": [
      "/tmp/ipykernel_19687/1986022666.py:6: SettingWithCopyWarning: \n",
      "A value is trying to be set on a copy of a slice from a DataFrame.\n",
      "Try using .loc[row_indexer,col_indexer] = value instead\n",
      "\n",
      "See the caveats in the documentation: https://pandas.pydata.org/pandas-docs/stable/user_guide/indexing.html#returning-a-view-versus-a-copy\n",
      "  filter_features[\"Score\"] = filter_features[\"Score\"].astype(float)\n",
      "/tmp/ipykernel_19687/1986022666.py:7: SettingWithCopyWarning: \n",
      "A value is trying to be set on a copy of a slice from a DataFrame.\n",
      "Try using .loc[row_indexer,col_indexer] = value instead\n",
      "\n",
      "See the caveats in the documentation: https://pandas.pydata.org/pandas-docs/stable/user_guide/indexing.html#returning-a-view-versus-a-copy\n",
      "  filter_features[\"Score\"] = filter_features[\"Score\"].round(2)\n"
     ]
    },
    {
     "name": "stdout",
     "output_type": "stream",
     "text": [
      "num:\t 0\n",
      "num:\t 1\n",
      "num:\t 2\n",
      "Protein\n",
      " ['O60479' 'P57073' 'P17275' 'P56693' 'Q9Y5Q3' 'P28356' 'P54845' 'Q9HCS4'\n",
      " 'P37275' 'Q9UPG8' 'O60315' 'P31629' 'P49715' 'Q9H6I2' 'Q9BT81' 'P15408'\n",
      " 'Q8NBF1' 'Q5U5X8' 'P57682' 'P81133']\n"
     ]
    },
    {
     "name": "stderr",
     "output_type": "stream",
     "text": [
      "/tmp/ipykernel_19687/1986022666.py:6: SettingWithCopyWarning: \n",
      "A value is trying to be set on a copy of a slice from a DataFrame.\n",
      "Try using .loc[row_indexer,col_indexer] = value instead\n",
      "\n",
      "See the caveats in the documentation: https://pandas.pydata.org/pandas-docs/stable/user_guide/indexing.html#returning-a-view-versus-a-copy\n",
      "  filter_features[\"Score\"] = filter_features[\"Score\"].astype(float)\n",
      "/tmp/ipykernel_19687/1986022666.py:7: SettingWithCopyWarning: \n",
      "A value is trying to be set on a copy of a slice from a DataFrame.\n",
      "Try using .loc[row_indexer,col_indexer] = value instead\n",
      "\n",
      "See the caveats in the documentation: https://pandas.pydata.org/pandas-docs/stable/user_guide/indexing.html#returning-a-view-versus-a-copy\n",
      "  filter_features[\"Score\"] = filter_features[\"Score\"].round(2)\n"
     ]
    },
    {
     "name": "stdout",
     "output_type": "stream",
     "text": [
      "num:\t 0\n",
      "num:\t 1\n",
      "num:\t 2\n",
      "Protein\n",
      " ['Q9Y3X0' 'O00571' 'Q9H0S4' 'P48634' 'Q9UPQ9' 'Q9HCJ0' 'Q9UJA3' 'Q8NC51'\n",
      " 'O15523' 'Q14152' 'Q14011' 'P15502' 'P50995' 'Q8NCA5' 'Q8NDV7' 'Q99848'\n",
      " 'O43516' 'Q06787' 'P17844' 'Q17RN3']\n"
     ]
    },
    {
     "name": "stderr",
     "output_type": "stream",
     "text": [
      "/tmp/ipykernel_19687/1986022666.py:6: SettingWithCopyWarning: \n",
      "A value is trying to be set on a copy of a slice from a DataFrame.\n",
      "Try using .loc[row_indexer,col_indexer] = value instead\n",
      "\n",
      "See the caveats in the documentation: https://pandas.pydata.org/pandas-docs/stable/user_guide/indexing.html#returning-a-view-versus-a-copy\n",
      "  filter_features[\"Score\"] = filter_features[\"Score\"].astype(float)\n",
      "/tmp/ipykernel_19687/1986022666.py:7: SettingWithCopyWarning: \n",
      "A value is trying to be set on a copy of a slice from a DataFrame.\n",
      "Try using .loc[row_indexer,col_indexer] = value instead\n",
      "\n",
      "See the caveats in the documentation: https://pandas.pydata.org/pandas-docs/stable/user_guide/indexing.html#returning-a-view-versus-a-copy\n",
      "  filter_features[\"Score\"] = filter_features[\"Score\"].round(2)\n"
     ]
    },
    {
     "name": "stdout",
     "output_type": "stream",
     "text": [
      "num:\t 0\n",
      "num:\t 1\n",
      "num:\t 2\n",
      "Protein\n",
      " ['Q9ULL5' 'Q96RE7' 'Q5T1R4' 'Q9UPA5' 'P28356' 'Q9Y618' 'Q9NZM4' 'Q96BV0'\n",
      " 'P48634' 'Q96F45' 'P54845' 'Q9BT81' 'P57073' 'Q92786' 'Q9NYJ8' 'Q9Y5Q3'\n",
      " 'P01106' 'P14652' 'Q86SE5' 'P37275']\n"
     ]
    },
    {
     "name": "stderr",
     "output_type": "stream",
     "text": [
      "/tmp/ipykernel_19687/1986022666.py:6: SettingWithCopyWarning: \n",
      "A value is trying to be set on a copy of a slice from a DataFrame.\n",
      "Try using .loc[row_indexer,col_indexer] = value instead\n",
      "\n",
      "See the caveats in the documentation: https://pandas.pydata.org/pandas-docs/stable/user_guide/indexing.html#returning-a-view-versus-a-copy\n",
      "  filter_features[\"Score\"] = filter_features[\"Score\"].astype(float)\n",
      "/tmp/ipykernel_19687/1986022666.py:7: SettingWithCopyWarning: \n",
      "A value is trying to be set on a copy of a slice from a DataFrame.\n",
      "Try using .loc[row_indexer,col_indexer] = value instead\n",
      "\n",
      "See the caveats in the documentation: https://pandas.pydata.org/pandas-docs/stable/user_guide/indexing.html#returning-a-view-versus-a-copy\n",
      "  filter_features[\"Score\"] = filter_features[\"Score\"].round(2)\n"
     ]
    },
    {
     "name": "stdout",
     "output_type": "stream",
     "text": [
      "num:\t 0\n",
      "num:\t 1\n",
      "num:\t 2\n",
      "Protein\n",
      " ['Q15596' 'Q86UU0' 'Q92793' 'Q09472' 'O14686' 'Q15788' 'O15405' 'Q13495'\n",
      " 'Q99700' 'Q96RN5' 'Q14686' 'Q15648' 'Q92585' 'Q96EV2' 'Q9ULL5' 'Q06413'\n",
      " 'O14497' 'Q9Y6Q9' 'Q9UM47' 'Q2KHR2']\n"
     ]
    },
    {
     "name": "stderr",
     "output_type": "stream",
     "text": [
      "/tmp/ipykernel_19687/1986022666.py:6: SettingWithCopyWarning: \n",
      "A value is trying to be set on a copy of a slice from a DataFrame.\n",
      "Try using .loc[row_indexer,col_indexer] = value instead\n",
      "\n",
      "See the caveats in the documentation: https://pandas.pydata.org/pandas-docs/stable/user_guide/indexing.html#returning-a-view-versus-a-copy\n",
      "  filter_features[\"Score\"] = filter_features[\"Score\"].astype(float)\n",
      "/tmp/ipykernel_19687/1986022666.py:7: SettingWithCopyWarning: \n",
      "A value is trying to be set on a copy of a slice from a DataFrame.\n",
      "Try using .loc[row_indexer,col_indexer] = value instead\n",
      "\n",
      "See the caveats in the documentation: https://pandas.pydata.org/pandas-docs/stable/user_guide/indexing.html#returning-a-view-versus-a-copy\n",
      "  filter_features[\"Score\"] = filter_features[\"Score\"].round(2)\n"
     ]
    },
    {
     "name": "stdout",
     "output_type": "stream",
     "text": [
      "num:\t 0\n",
      "num:\t 1\n",
      "num:\t 2\n",
      "Protein\n",
      " ['Q15596' 'Q86UU0' 'Q14686' 'Q09472' 'Q15788' 'O14686' 'Q13495' 'Q9Y6Q9'\n",
      " 'Q15648' 'Q9UM47' 'Q99700' 'Q8WYB5' 'Q06413' 'Q92793' 'Q2KHR2' 'O15405'\n",
      " 'Q9BRQ0' 'Q96RN5' 'O14497' 'Q8IZQ8']\n"
     ]
    },
    {
     "name": "stderr",
     "output_type": "stream",
     "text": [
      "/tmp/ipykernel_19687/1986022666.py:6: SettingWithCopyWarning: \n",
      "A value is trying to be set on a copy of a slice from a DataFrame.\n",
      "Try using .loc[row_indexer,col_indexer] = value instead\n",
      "\n",
      "See the caveats in the documentation: https://pandas.pydata.org/pandas-docs/stable/user_guide/indexing.html#returning-a-view-versus-a-copy\n",
      "  filter_features[\"Score\"] = filter_features[\"Score\"].astype(float)\n",
      "/tmp/ipykernel_19687/1986022666.py:7: SettingWithCopyWarning: \n",
      "A value is trying to be set on a copy of a slice from a DataFrame.\n",
      "Try using .loc[row_indexer,col_indexer] = value instead\n",
      "\n",
      "See the caveats in the documentation: https://pandas.pydata.org/pandas-docs/stable/user_guide/indexing.html#returning-a-view-versus-a-copy\n",
      "  filter_features[\"Score\"] = filter_features[\"Score\"].round(2)\n"
     ]
    },
    {
     "name": "stdout",
     "output_type": "stream",
     "text": [
      "num:\t 0\n",
      "num:\t 1\n",
      "num:\t 2\n",
      "Protein\n",
      " ['Q9UPX8' 'Q5VWP3' 'Q96PD4' 'Q99988' 'Q9H1C3' 'P16860' 'P49771' 'Q9NQX3'\n",
      " 'P0CG20' 'Q9ULL4' 'Q96AQ8' 'Q8N145' 'Q9H4A9' 'P08697' 'Q9UBV7' 'Q9Y644'\n",
      " 'P60153' 'Q9H4F1' 'Q8TDX6' 'O60568']\n"
     ]
    },
    {
     "name": "stderr",
     "output_type": "stream",
     "text": [
      "/tmp/ipykernel_19687/1986022666.py:6: SettingWithCopyWarning: \n",
      "A value is trying to be set on a copy of a slice from a DataFrame.\n",
      "Try using .loc[row_indexer,col_indexer] = value instead\n",
      "\n",
      "See the caveats in the documentation: https://pandas.pydata.org/pandas-docs/stable/user_guide/indexing.html#returning-a-view-versus-a-copy\n",
      "  filter_features[\"Score\"] = filter_features[\"Score\"].astype(float)\n",
      "/tmp/ipykernel_19687/1986022666.py:7: SettingWithCopyWarning: \n",
      "A value is trying to be set on a copy of a slice from a DataFrame.\n",
      "Try using .loc[row_indexer,col_indexer] = value instead\n",
      "\n",
      "See the caveats in the documentation: https://pandas.pydata.org/pandas-docs/stable/user_guide/indexing.html#returning-a-view-versus-a-copy\n",
      "  filter_features[\"Score\"] = filter_features[\"Score\"].round(2)\n"
     ]
    },
    {
     "name": "stdout",
     "output_type": "stream",
     "text": [
      "num:\t 0\n",
      "num:\t 1\n",
      "num:\t 2\n",
      "Protein\n",
      " ['P57073' 'P48634' 'Q9Y5Q3' 'P56693' 'P28356' 'Q86UU0' 'P17275' 'Q8WU58'\n",
      " 'P54845' 'Q92786' 'P31629' 'Q9H0F5' 'Q9UPG8' 'Q9ULL5' 'Q12948' 'O60479'\n",
      " 'Q9H7S9' 'Q5U5X8' 'P0CJ78' 'Q99583']\n"
     ]
    },
    {
     "name": "stderr",
     "output_type": "stream",
     "text": [
      "/tmp/ipykernel_19687/1986022666.py:6: SettingWithCopyWarning: \n",
      "A value is trying to be set on a copy of a slice from a DataFrame.\n",
      "Try using .loc[row_indexer,col_indexer] = value instead\n",
      "\n",
      "See the caveats in the documentation: https://pandas.pydata.org/pandas-docs/stable/user_guide/indexing.html#returning-a-view-versus-a-copy\n",
      "  filter_features[\"Score\"] = filter_features[\"Score\"].astype(float)\n",
      "/tmp/ipykernel_19687/1986022666.py:7: SettingWithCopyWarning: \n",
      "A value is trying to be set on a copy of a slice from a DataFrame.\n",
      "Try using .loc[row_indexer,col_indexer] = value instead\n",
      "\n",
      "See the caveats in the documentation: https://pandas.pydata.org/pandas-docs/stable/user_guide/indexing.html#returning-a-view-versus-a-copy\n",
      "  filter_features[\"Score\"] = filter_features[\"Score\"].round(2)\n"
     ]
    },
    {
     "name": "stdout",
     "output_type": "stream",
     "text": [
      "num:\t 0\n",
      "num:\t 1\n",
      "num:\t 2\n",
      "Protein\n",
      " ['Q15648' 'Q86UU0' 'Q15596' 'Q09472' 'Q15788' 'Q14686' 'Q9ULL5' 'O14497'\n",
      " 'Q13495' 'Q92585' 'Q92793' 'Q9P267' 'Q8NDV7' 'O14686' 'Q9Y6Q9' 'Q06413'\n",
      " 'Q96RN5' 'Q2KHR2' 'Q9BRQ0' 'Q9UPQ9']\n"
     ]
    },
    {
     "name": "stderr",
     "output_type": "stream",
     "text": [
      "/tmp/ipykernel_19687/1986022666.py:6: SettingWithCopyWarning: \n",
      "A value is trying to be set on a copy of a slice from a DataFrame.\n",
      "Try using .loc[row_indexer,col_indexer] = value instead\n",
      "\n",
      "See the caveats in the documentation: https://pandas.pydata.org/pandas-docs/stable/user_guide/indexing.html#returning-a-view-versus-a-copy\n",
      "  filter_features[\"Score\"] = filter_features[\"Score\"].astype(float)\n",
      "/tmp/ipykernel_19687/1986022666.py:7: SettingWithCopyWarning: \n",
      "A value is trying to be set on a copy of a slice from a DataFrame.\n",
      "Try using .loc[row_indexer,col_indexer] = value instead\n",
      "\n",
      "See the caveats in the documentation: https://pandas.pydata.org/pandas-docs/stable/user_guide/indexing.html#returning-a-view-versus-a-copy\n",
      "  filter_features[\"Score\"] = filter_features[\"Score\"].round(2)\n"
     ]
    },
    {
     "name": "stdout",
     "output_type": "stream",
     "text": [
      "num:\t 0\n",
      "num:\t 1\n",
      "num:\t 2\n",
      "Protein\n",
      " ['P46013' 'Q13428' 'O76021' 'P07305' 'Q02952' 'Q8WYP5' 'Q14978' 'P22492'\n",
      " 'Q96T88' 'Q96T23' 'Q13416' 'Q56NI9' 'P06748' 'P29966' 'Q1ED39' 'Q02880'\n",
      " 'P35251' 'Q7RTP6' 'P11137' 'P35659']\n"
     ]
    },
    {
     "name": "stderr",
     "output_type": "stream",
     "text": [
      "/tmp/ipykernel_19687/1986022666.py:6: SettingWithCopyWarning: \n",
      "A value is trying to be set on a copy of a slice from a DataFrame.\n",
      "Try using .loc[row_indexer,col_indexer] = value instead\n",
      "\n",
      "See the caveats in the documentation: https://pandas.pydata.org/pandas-docs/stable/user_guide/indexing.html#returning-a-view-versus-a-copy\n",
      "  filter_features[\"Score\"] = filter_features[\"Score\"].astype(float)\n",
      "/tmp/ipykernel_19687/1986022666.py:7: SettingWithCopyWarning: \n",
      "A value is trying to be set on a copy of a slice from a DataFrame.\n",
      "Try using .loc[row_indexer,col_indexer] = value instead\n",
      "\n",
      "See the caveats in the documentation: https://pandas.pydata.org/pandas-docs/stable/user_guide/indexing.html#returning-a-view-versus-a-copy\n",
      "  filter_features[\"Score\"] = filter_features[\"Score\"].round(2)\n"
     ]
    },
    {
     "name": "stdout",
     "output_type": "stream",
     "text": [
      "num:\t 0\n",
      "num:\t 1\n",
      "num:\t 2\n",
      "Protein\n",
      " ['A6NIX2' 'O75385' 'Q8ND83' 'Q9H992' 'Q8IYT8' 'Q5SYE7' 'Q8TDW5' 'Q6ZMT1'\n",
      " 'Q14185' 'Q7Z401' 'P15172' 'Q9Y4H2' 'Q8N1M1' 'Q96L34' 'Q9P206' 'Q8TF72'\n",
      " 'Q9H8V3' 'Q5VWP3' 'Q9P2F8' 'Q13370']\n"
     ]
    },
    {
     "name": "stderr",
     "output_type": "stream",
     "text": [
      "/tmp/ipykernel_19687/1986022666.py:6: SettingWithCopyWarning: \n",
      "A value is trying to be set on a copy of a slice from a DataFrame.\n",
      "Try using .loc[row_indexer,col_indexer] = value instead\n",
      "\n",
      "See the caveats in the documentation: https://pandas.pydata.org/pandas-docs/stable/user_guide/indexing.html#returning-a-view-versus-a-copy\n",
      "  filter_features[\"Score\"] = filter_features[\"Score\"].astype(float)\n",
      "/tmp/ipykernel_19687/1986022666.py:7: SettingWithCopyWarning: \n",
      "A value is trying to be set on a copy of a slice from a DataFrame.\n",
      "Try using .loc[row_indexer,col_indexer] = value instead\n",
      "\n",
      "See the caveats in the documentation: https://pandas.pydata.org/pandas-docs/stable/user_guide/indexing.html#returning-a-view-versus-a-copy\n",
      "  filter_features[\"Score\"] = filter_features[\"Score\"].round(2)\n"
     ]
    },
    {
     "name": "stdout",
     "output_type": "stream",
     "text": [
      "num:\t 0\n",
      "num:\t 1\n",
      "num:\t 2\n",
      "Protein\n",
      " ['Q8N3K9' 'P0CG33' 'Q9C0D2' 'Q9NYA3' 'Q5VT06' 'A6NDK9' 'P48681' 'P00451'\n",
      " 'Q6IQ23' 'Q6NUN7' 'Q8WWL7' 'O00461' 'Q8IYY4' 'P78316' 'Q32MZ4' 'Q86V48'\n",
      " 'A6NDN3' 'Q86VQ0' 'O75335' 'Q9NU22']\n"
     ]
    },
    {
     "name": "stderr",
     "output_type": "stream",
     "text": [
      "/tmp/ipykernel_19687/1986022666.py:6: SettingWithCopyWarning: \n",
      "A value is trying to be set on a copy of a slice from a DataFrame.\n",
      "Try using .loc[row_indexer,col_indexer] = value instead\n",
      "\n",
      "See the caveats in the documentation: https://pandas.pydata.org/pandas-docs/stable/user_guide/indexing.html#returning-a-view-versus-a-copy\n",
      "  filter_features[\"Score\"] = filter_features[\"Score\"].astype(float)\n",
      "/tmp/ipykernel_19687/1986022666.py:7: SettingWithCopyWarning: \n",
      "A value is trying to be set on a copy of a slice from a DataFrame.\n",
      "Try using .loc[row_indexer,col_indexer] = value instead\n",
      "\n",
      "See the caveats in the documentation: https://pandas.pydata.org/pandas-docs/stable/user_guide/indexing.html#returning-a-view-versus-a-copy\n",
      "  filter_features[\"Score\"] = filter_features[\"Score\"].round(2)\n"
     ]
    },
    {
     "name": "stdout",
     "output_type": "stream",
     "text": [
      "num:\t 0\n",
      "num:\t 1\n",
      "num:\t 2\n",
      "Protein\n",
      " ['Q8N3K9' 'Q9C0D2' 'P0CG33' 'Q9NYA3' 'Q5VT06' 'A6NDK9' 'Q6IQ23' 'Q6NUN7'\n",
      " 'P48681' 'P00451' 'P78316' 'Q8IYY4' 'Q8WWL7' 'Q32MZ4' 'O00461' 'O75335'\n",
      " 'Q86V48' 'Q86VQ0' 'A6NDN3' 'Q9NU22']\n"
     ]
    },
    {
     "name": "stderr",
     "output_type": "stream",
     "text": [
      "/tmp/ipykernel_19687/1986022666.py:6: SettingWithCopyWarning: \n",
      "A value is trying to be set on a copy of a slice from a DataFrame.\n",
      "Try using .loc[row_indexer,col_indexer] = value instead\n",
      "\n",
      "See the caveats in the documentation: https://pandas.pydata.org/pandas-docs/stable/user_guide/indexing.html#returning-a-view-versus-a-copy\n",
      "  filter_features[\"Score\"] = filter_features[\"Score\"].astype(float)\n",
      "/tmp/ipykernel_19687/1986022666.py:7: SettingWithCopyWarning: \n",
      "A value is trying to be set on a copy of a slice from a DataFrame.\n",
      "Try using .loc[row_indexer,col_indexer] = value instead\n",
      "\n",
      "See the caveats in the documentation: https://pandas.pydata.org/pandas-docs/stable/user_guide/indexing.html#returning-a-view-versus-a-copy\n",
      "  filter_features[\"Score\"] = filter_features[\"Score\"].round(2)\n"
     ]
    },
    {
     "name": "stdout",
     "output_type": "stream",
     "text": [
      "num:\t 0\n",
      "num:\t 1\n",
      "num:\t 2\n",
      "Protein\n",
      " ['Q9C0D2' 'Q8N3K9' 'P0CG33' 'Q9NYA3' 'Q5VT06' 'A6NDK9' 'Q6IQ23' 'Q8WWL7'\n",
      " 'Q6NUN7' 'Q8IYY4' 'O75335' 'Q86V48' 'Q86VQ0' 'Q8WYP5' 'Q9P1V8' 'O00461'\n",
      " 'Q32MZ4' 'A6NDN3' 'Q8IYE1' 'O60293']\n"
     ]
    },
    {
     "name": "stderr",
     "output_type": "stream",
     "text": [
      "/tmp/ipykernel_19687/1986022666.py:6: SettingWithCopyWarning: \n",
      "A value is trying to be set on a copy of a slice from a DataFrame.\n",
      "Try using .loc[row_indexer,col_indexer] = value instead\n",
      "\n",
      "See the caveats in the documentation: https://pandas.pydata.org/pandas-docs/stable/user_guide/indexing.html#returning-a-view-versus-a-copy\n",
      "  filter_features[\"Score\"] = filter_features[\"Score\"].astype(float)\n",
      "/tmp/ipykernel_19687/1986022666.py:7: SettingWithCopyWarning: \n",
      "A value is trying to be set on a copy of a slice from a DataFrame.\n",
      "Try using .loc[row_indexer,col_indexer] = value instead\n",
      "\n",
      "See the caveats in the documentation: https://pandas.pydata.org/pandas-docs/stable/user_guide/indexing.html#returning-a-view-versus-a-copy\n",
      "  filter_features[\"Score\"] = filter_features[\"Score\"].round(2)\n"
     ]
    },
    {
     "name": "stdout",
     "output_type": "stream",
     "text": [
      "num:\t 0\n",
      "num:\t 1\n",
      "num:\t 2\n",
      "Protein\n",
      " ['Q8N1I0' 'Q9UBP4' 'Q8N264' 'Q9NYF0' 'O75077' 'P41594' 'Q6ZU52' 'Q5T8I3'\n",
      " 'Q7Z403' 'Q9ULI3' 'Q9Y666' 'Q5T4T6' 'Q01974' 'Q13255' 'P28222' 'O95544'\n",
      " 'Q6PJ61' 'Q5TGY3' 'P41587' 'Q96DN2']\n"
     ]
    },
    {
     "name": "stderr",
     "output_type": "stream",
     "text": [
      "/tmp/ipykernel_19687/1986022666.py:6: SettingWithCopyWarning: \n",
      "A value is trying to be set on a copy of a slice from a DataFrame.\n",
      "Try using .loc[row_indexer,col_indexer] = value instead\n",
      "\n",
      "See the caveats in the documentation: https://pandas.pydata.org/pandas-docs/stable/user_guide/indexing.html#returning-a-view-versus-a-copy\n",
      "  filter_features[\"Score\"] = filter_features[\"Score\"].astype(float)\n",
      "/tmp/ipykernel_19687/1986022666.py:7: SettingWithCopyWarning: \n",
      "A value is trying to be set on a copy of a slice from a DataFrame.\n",
      "Try using .loc[row_indexer,col_indexer] = value instead\n",
      "\n",
      "See the caveats in the documentation: https://pandas.pydata.org/pandas-docs/stable/user_guide/indexing.html#returning-a-view-versus-a-copy\n",
      "  filter_features[\"Score\"] = filter_features[\"Score\"].round(2)\n"
     ]
    },
    {
     "name": "stdout",
     "output_type": "stream",
     "text": [
      "num:\t 0\n",
      "num:\t 1\n",
      "num:\t 2\n",
      "Protein\n",
      " ['P18433' 'Q7LGC8' 'A6NHS7' 'P25063' 'Q5T0B9' 'P98168' 'P98169' 'Q9UPR5'\n",
      " 'Q6UUV9' 'Q04756' 'Q9BVV8' 'Q8N387' 'O75077' 'O95628' 'Q3ZCQ3' 'Q8TDQ1'\n",
      " 'Q96QE4' 'P57740' 'O95159' 'Q9Y2A9']\n"
     ]
    },
    {
     "name": "stderr",
     "output_type": "stream",
     "text": [
      "/tmp/ipykernel_19687/1986022666.py:6: SettingWithCopyWarning: \n",
      "A value is trying to be set on a copy of a slice from a DataFrame.\n",
      "Try using .loc[row_indexer,col_indexer] = value instead\n",
      "\n",
      "See the caveats in the documentation: https://pandas.pydata.org/pandas-docs/stable/user_guide/indexing.html#returning-a-view-versus-a-copy\n",
      "  filter_features[\"Score\"] = filter_features[\"Score\"].astype(float)\n",
      "/tmp/ipykernel_19687/1986022666.py:7: SettingWithCopyWarning: \n",
      "A value is trying to be set on a copy of a slice from a DataFrame.\n",
      "Try using .loc[row_indexer,col_indexer] = value instead\n",
      "\n",
      "See the caveats in the documentation: https://pandas.pydata.org/pandas-docs/stable/user_guide/indexing.html#returning-a-view-versus-a-copy\n",
      "  filter_features[\"Score\"] = filter_features[\"Score\"].round(2)\n"
     ]
    },
    {
     "name": "stdout",
     "output_type": "stream",
     "text": [
      "num:\t 0\n",
      "num:\t 1\n",
      "num:\t 2\n",
      "Protein\n",
      " ['Q14185' 'Q9H7D0' 'Q8TF72' 'Q9P206' 'Q5SYE7' 'Q96L34' 'O75385' 'Q07889'\n",
      " 'Q9H992' 'Q5HYW2' 'Q13370' 'Q9UQC2' 'Q8IZD9' 'A6NIX2' 'Q8IYT8' 'P78524'\n",
      " 'O14974' 'Q7Z401' 'Q13905' 'Q8TDW5']\n"
     ]
    },
    {
     "name": "stderr",
     "output_type": "stream",
     "text": [
      "/tmp/ipykernel_19687/1986022666.py:6: SettingWithCopyWarning: \n",
      "A value is trying to be set on a copy of a slice from a DataFrame.\n",
      "Try using .loc[row_indexer,col_indexer] = value instead\n",
      "\n",
      "See the caveats in the documentation: https://pandas.pydata.org/pandas-docs/stable/user_guide/indexing.html#returning-a-view-versus-a-copy\n",
      "  filter_features[\"Score\"] = filter_features[\"Score\"].astype(float)\n",
      "/tmp/ipykernel_19687/1986022666.py:7: SettingWithCopyWarning: \n",
      "A value is trying to be set on a copy of a slice from a DataFrame.\n",
      "Try using .loc[row_indexer,col_indexer] = value instead\n",
      "\n",
      "See the caveats in the documentation: https://pandas.pydata.org/pandas-docs/stable/user_guide/indexing.html#returning-a-view-versus-a-copy\n",
      "  filter_features[\"Score\"] = filter_features[\"Score\"].round(2)\n"
     ]
    },
    {
     "name": "stdout",
     "output_type": "stream",
     "text": [
      "num:\t 0\n",
      "num:\t 1\n",
      "num:\t 2\n",
      "Protein\n",
      " ['O75064' 'Q58WW2' 'Q0VD83' 'Q8TD08' 'Q14676' 'Q8N8S7' 'Q6B0I6' 'Q86TM6'\n",
      " 'Q86UU0' 'O15062' 'P33240' 'Q9NVW2' 'Q5VZ46' 'Q96M27' 'P53814' 'Q8N1P7'\n",
      " 'Q9H0E3' 'Q5DID0' 'Q9P267' 'Q96DN6']\n"
     ]
    },
    {
     "name": "stderr",
     "output_type": "stream",
     "text": [
      "/tmp/ipykernel_19687/1986022666.py:6: SettingWithCopyWarning: \n",
      "A value is trying to be set on a copy of a slice from a DataFrame.\n",
      "Try using .loc[row_indexer,col_indexer] = value instead\n",
      "\n",
      "See the caveats in the documentation: https://pandas.pydata.org/pandas-docs/stable/user_guide/indexing.html#returning-a-view-versus-a-copy\n",
      "  filter_features[\"Score\"] = filter_features[\"Score\"].astype(float)\n",
      "/tmp/ipykernel_19687/1986022666.py:7: SettingWithCopyWarning: \n",
      "A value is trying to be set on a copy of a slice from a DataFrame.\n",
      "Try using .loc[row_indexer,col_indexer] = value instead\n",
      "\n",
      "See the caveats in the documentation: https://pandas.pydata.org/pandas-docs/stable/user_guide/indexing.html#returning-a-view-versus-a-copy\n",
      "  filter_features[\"Score\"] = filter_features[\"Score\"].round(2)\n"
     ]
    },
    {
     "name": "stdout",
     "output_type": "stream",
     "text": [
      "num:\t 0\n",
      "num:\t 1\n",
      "num:\t 2\n",
      "Protein\n",
      " ['Q9Y2H5' 'A6NIX2' 'Q9HAU0' 'Q6IQ23' 'Q9Y4G8' 'Q92738' 'Q99569' 'P50402'\n",
      " 'Q8N412' 'O60716' 'Q9HBD1' 'Q96J84' 'P17661' 'O00192' 'O43281' 'Q8N556'\n",
      " 'P41219' 'O15234' 'O95415' 'O15034']\n"
     ]
    },
    {
     "name": "stderr",
     "output_type": "stream",
     "text": [
      "/tmp/ipykernel_19687/1986022666.py:6: SettingWithCopyWarning: \n",
      "A value is trying to be set on a copy of a slice from a DataFrame.\n",
      "Try using .loc[row_indexer,col_indexer] = value instead\n",
      "\n",
      "See the caveats in the documentation: https://pandas.pydata.org/pandas-docs/stable/user_guide/indexing.html#returning-a-view-versus-a-copy\n",
      "  filter_features[\"Score\"] = filter_features[\"Score\"].astype(float)\n",
      "/tmp/ipykernel_19687/1986022666.py:7: SettingWithCopyWarning: \n",
      "A value is trying to be set on a copy of a slice from a DataFrame.\n",
      "Try using .loc[row_indexer,col_indexer] = value instead\n",
      "\n",
      "See the caveats in the documentation: https://pandas.pydata.org/pandas-docs/stable/user_guide/indexing.html#returning-a-view-versus-a-copy\n",
      "  filter_features[\"Score\"] = filter_features[\"Score\"].round(2)\n"
     ]
    },
    {
     "name": "stdout",
     "output_type": "stream",
     "text": [
      "num:\t 0\n",
      "num:\t 1\n",
      "num:\t 2\n",
      "Protein\n",
      " ['P28356' 'P78312' 'Q92786' 'Q8TEK3' 'O15417' 'P10244' 'Q9Y2W1' 'Q9UKJ3'\n",
      " 'O60479' 'Q96JP5' 'Q9H6I2' 'Q969V6' 'Q8IZQ8' 'P48634' 'Q9ULL5' 'Q3B726'\n",
      " 'Q9NY43' 'Q01538' 'Q15648' 'P56693']\n"
     ]
    },
    {
     "name": "stderr",
     "output_type": "stream",
     "text": [
      "/tmp/ipykernel_19687/1986022666.py:6: SettingWithCopyWarning: \n",
      "A value is trying to be set on a copy of a slice from a DataFrame.\n",
      "Try using .loc[row_indexer,col_indexer] = value instead\n",
      "\n",
      "See the caveats in the documentation: https://pandas.pydata.org/pandas-docs/stable/user_guide/indexing.html#returning-a-view-versus-a-copy\n",
      "  filter_features[\"Score\"] = filter_features[\"Score\"].astype(float)\n",
      "/tmp/ipykernel_19687/1986022666.py:7: SettingWithCopyWarning: \n",
      "A value is trying to be set on a copy of a slice from a DataFrame.\n",
      "Try using .loc[row_indexer,col_indexer] = value instead\n",
      "\n",
      "See the caveats in the documentation: https://pandas.pydata.org/pandas-docs/stable/user_guide/indexing.html#returning-a-view-versus-a-copy\n",
      "  filter_features[\"Score\"] = filter_features[\"Score\"].round(2)\n"
     ]
    },
    {
     "name": "stdout",
     "output_type": "stream",
     "text": [
      "num:\t 0\n",
      "num:\t 1\n",
      "num:\t 2\n",
      "Protein\n",
      " ['P57073' 'Q9Y5Q3' 'P56693' 'P28356' 'P48634' 'P17275' 'Q86UU0' 'P54845'\n",
      " 'Q9UPG8' 'Q92786' 'Q12948' 'Q99583' 'O60479' 'P31629' 'Q9NY43' 'Q8WU58'\n",
      " 'Q9H0F5' 'Q9ULL5' 'Q9H6I2' 'P49715']\n"
     ]
    },
    {
     "name": "stderr",
     "output_type": "stream",
     "text": [
      "/tmp/ipykernel_19687/1986022666.py:6: SettingWithCopyWarning: \n",
      "A value is trying to be set on a copy of a slice from a DataFrame.\n",
      "Try using .loc[row_indexer,col_indexer] = value instead\n",
      "\n",
      "See the caveats in the documentation: https://pandas.pydata.org/pandas-docs/stable/user_guide/indexing.html#returning-a-view-versus-a-copy\n",
      "  filter_features[\"Score\"] = filter_features[\"Score\"].astype(float)\n",
      "/tmp/ipykernel_19687/1986022666.py:7: SettingWithCopyWarning: \n",
      "A value is trying to be set on a copy of a slice from a DataFrame.\n",
      "Try using .loc[row_indexer,col_indexer] = value instead\n",
      "\n",
      "See the caveats in the documentation: https://pandas.pydata.org/pandas-docs/stable/user_guide/indexing.html#returning-a-view-versus-a-copy\n",
      "  filter_features[\"Score\"] = filter_features[\"Score\"].round(2)\n"
     ]
    },
    {
     "name": "stdout",
     "output_type": "stream",
     "text": [
      "num:\t 0\n",
      "num:\t 1\n",
      "num:\t 2\n",
      "Protein\n",
      " ['Q9C0D2' 'Q8N3K9' 'Q5VT06' 'Q6IQ23' 'Q9P1V8' 'Q8WYP5' 'P0CG33' 'Q9NYA3'\n",
      " 'Q86V48' 'Q8IYY4' 'Q9NU22' 'A6NDK9' 'P18583' 'Q8IYE1' 'Q8IWC1' 'Q32MZ4'\n",
      " 'O60279' 'Q86VQ0' 'Q14244' 'O75665']\n"
     ]
    },
    {
     "name": "stderr",
     "output_type": "stream",
     "text": [
      "/tmp/ipykernel_19687/1986022666.py:6: SettingWithCopyWarning: \n",
      "A value is trying to be set on a copy of a slice from a DataFrame.\n",
      "Try using .loc[row_indexer,col_indexer] = value instead\n",
      "\n",
      "See the caveats in the documentation: https://pandas.pydata.org/pandas-docs/stable/user_guide/indexing.html#returning-a-view-versus-a-copy\n",
      "  filter_features[\"Score\"] = filter_features[\"Score\"].astype(float)\n",
      "/tmp/ipykernel_19687/1986022666.py:7: SettingWithCopyWarning: \n",
      "A value is trying to be set on a copy of a slice from a DataFrame.\n",
      "Try using .loc[row_indexer,col_indexer] = value instead\n",
      "\n",
      "See the caveats in the documentation: https://pandas.pydata.org/pandas-docs/stable/user_guide/indexing.html#returning-a-view-versus-a-copy\n",
      "  filter_features[\"Score\"] = filter_features[\"Score\"].round(2)\n"
     ]
    },
    {
     "name": "stdout",
     "output_type": "stream",
     "text": [
      "num:\t 0\n",
      "num:\t 1\n",
      "num:\t 2\n",
      "Protein\n",
      " ['Q9UPA5' 'Q5T6F2' 'P23471' 'Q16633' 'Q8IYT8' 'P01100' 'Q9HBL0' 'P14923'\n",
      " 'Q96TC7' 'P56177' 'P20719' 'O15178' 'Q93052' 'Q9UBC9' 'Q96J84' 'Q99569'\n",
      " 'O95486' 'Q96D42' 'P16070' 'P18433']\n"
     ]
    },
    {
     "name": "stderr",
     "output_type": "stream",
     "text": [
      "/tmp/ipykernel_19687/1986022666.py:6: SettingWithCopyWarning: \n",
      "A value is trying to be set on a copy of a slice from a DataFrame.\n",
      "Try using .loc[row_indexer,col_indexer] = value instead\n",
      "\n",
      "See the caveats in the documentation: https://pandas.pydata.org/pandas-docs/stable/user_guide/indexing.html#returning-a-view-versus-a-copy\n",
      "  filter_features[\"Score\"] = filter_features[\"Score\"].astype(float)\n",
      "/tmp/ipykernel_19687/1986022666.py:7: SettingWithCopyWarning: \n",
      "A value is trying to be set on a copy of a slice from a DataFrame.\n",
      "Try using .loc[row_indexer,col_indexer] = value instead\n",
      "\n",
      "See the caveats in the documentation: https://pandas.pydata.org/pandas-docs/stable/user_guide/indexing.html#returning-a-view-versus-a-copy\n",
      "  filter_features[\"Score\"] = filter_features[\"Score\"].round(2)\n"
     ]
    },
    {
     "name": "stdout",
     "output_type": "stream",
     "text": [
      "num:\t 0\n",
      "num:\t 1\n",
      "num:\t 2\n",
      "Protein\n",
      " ['Q5VT06' 'Q9C0D2' 'P0CG33' 'Q9NYA3' 'Q96SN8' 'Q6IQ23' 'A6NDK9' 'Q86V48'\n",
      " 'Q8IYE1' 'Q86VQ0' 'Q9Y4B5' 'Q32MZ4' 'A6NDN3' 'Q99996' 'Q8IYY4' 'Q5TB80'\n",
      " 'Q9BV73' 'H3BSY2' 'O75335' 'Q6NUN7']\n"
     ]
    },
    {
     "name": "stderr",
     "output_type": "stream",
     "text": [
      "/tmp/ipykernel_19687/1986022666.py:6: SettingWithCopyWarning: \n",
      "A value is trying to be set on a copy of a slice from a DataFrame.\n",
      "Try using .loc[row_indexer,col_indexer] = value instead\n",
      "\n",
      "See the caveats in the documentation: https://pandas.pydata.org/pandas-docs/stable/user_guide/indexing.html#returning-a-view-versus-a-copy\n",
      "  filter_features[\"Score\"] = filter_features[\"Score\"].astype(float)\n",
      "/tmp/ipykernel_19687/1986022666.py:7: SettingWithCopyWarning: \n",
      "A value is trying to be set on a copy of a slice from a DataFrame.\n",
      "Try using .loc[row_indexer,col_indexer] = value instead\n",
      "\n",
      "See the caveats in the documentation: https://pandas.pydata.org/pandas-docs/stable/user_guide/indexing.html#returning-a-view-versus-a-copy\n",
      "  filter_features[\"Score\"] = filter_features[\"Score\"].round(2)\n"
     ]
    },
    {
     "name": "stdout",
     "output_type": "stream",
     "text": [
      "num:\t 0\n",
      "num:\t 1\n",
      "num:\t 2\n",
      "Protein\n",
      " ['Q8NE71' 'P20042' 'P35269' 'Q4VC05' 'P11387' 'O00294' 'Q8N9E0' 'Q562F6'\n",
      " 'Q3B726' 'Q9Y6X4' 'Q9H1E3' 'P45379' 'Q5BKY9' 'Q96T23' 'Q8N9Q2' 'O75151'\n",
      " 'P35663' 'Q4G0J3' 'O75167' 'Q9H3C7']\n"
     ]
    },
    {
     "name": "stderr",
     "output_type": "stream",
     "text": [
      "/tmp/ipykernel_19687/1986022666.py:6: SettingWithCopyWarning: \n",
      "A value is trying to be set on a copy of a slice from a DataFrame.\n",
      "Try using .loc[row_indexer,col_indexer] = value instead\n",
      "\n",
      "See the caveats in the documentation: https://pandas.pydata.org/pandas-docs/stable/user_guide/indexing.html#returning-a-view-versus-a-copy\n",
      "  filter_features[\"Score\"] = filter_features[\"Score\"].astype(float)\n",
      "/tmp/ipykernel_19687/1986022666.py:7: SettingWithCopyWarning: \n",
      "A value is trying to be set on a copy of a slice from a DataFrame.\n",
      "Try using .loc[row_indexer,col_indexer] = value instead\n",
      "\n",
      "See the caveats in the documentation: https://pandas.pydata.org/pandas-docs/stable/user_guide/indexing.html#returning-a-view-versus-a-copy\n",
      "  filter_features[\"Score\"] = filter_features[\"Score\"].round(2)\n"
     ]
    },
    {
     "name": "stdout",
     "output_type": "stream",
     "text": [
      "num:\t 0\n",
      "num:\t 1\n",
      "num:\t 2\n",
      "Protein\n",
      " ['P57073' 'O60479' 'P56693' 'Q9Y5Q3' 'P17275' 'P28356' 'Q9UPG8' 'Q9HCS4'\n",
      " 'P37275' 'Q86UU0' 'P54845' 'Q9UPN9' 'P49715' 'Q9H7S9' 'Q12948' 'Q8NBF1'\n",
      " 'P31629' 'Q9H0F5' 'O60315' 'P15863']\n"
     ]
    },
    {
     "name": "stderr",
     "output_type": "stream",
     "text": [
      "/tmp/ipykernel_19687/1986022666.py:6: SettingWithCopyWarning: \n",
      "A value is trying to be set on a copy of a slice from a DataFrame.\n",
      "Try using .loc[row_indexer,col_indexer] = value instead\n",
      "\n",
      "See the caveats in the documentation: https://pandas.pydata.org/pandas-docs/stable/user_guide/indexing.html#returning-a-view-versus-a-copy\n",
      "  filter_features[\"Score\"] = filter_features[\"Score\"].astype(float)\n",
      "/tmp/ipykernel_19687/1986022666.py:7: SettingWithCopyWarning: \n",
      "A value is trying to be set on a copy of a slice from a DataFrame.\n",
      "Try using .loc[row_indexer,col_indexer] = value instead\n",
      "\n",
      "See the caveats in the documentation: https://pandas.pydata.org/pandas-docs/stable/user_guide/indexing.html#returning-a-view-versus-a-copy\n",
      "  filter_features[\"Score\"] = filter_features[\"Score\"].round(2)\n"
     ]
    },
    {
     "name": "stdout",
     "output_type": "stream",
     "text": [
      "num:\t 0\n",
      "num:\t 1\n",
      "num:\t 2\n",
      "Protein\n",
      " ['Q14978' 'Q15648' 'Q02952' 'Q13427' 'Q5T200' 'Q13523' 'Q9Y2W1' 'Q6PD62'\n",
      " 'Q13428' 'Q6UB99' 'Q96T58' 'Q9UKJ3' 'P51608' 'O14617' 'Q14686' 'Q7Z6E9'\n",
      " 'Q9UQ88' 'Q14093' 'Q5T6F2' 'P48634']\n"
     ]
    },
    {
     "name": "stderr",
     "output_type": "stream",
     "text": [
      "/tmp/ipykernel_19687/1986022666.py:6: SettingWithCopyWarning: \n",
      "A value is trying to be set on a copy of a slice from a DataFrame.\n",
      "Try using .loc[row_indexer,col_indexer] = value instead\n",
      "\n",
      "See the caveats in the documentation: https://pandas.pydata.org/pandas-docs/stable/user_guide/indexing.html#returning-a-view-versus-a-copy\n",
      "  filter_features[\"Score\"] = filter_features[\"Score\"].astype(float)\n",
      "/tmp/ipykernel_19687/1986022666.py:7: SettingWithCopyWarning: \n",
      "A value is trying to be set on a copy of a slice from a DataFrame.\n",
      "Try using .loc[row_indexer,col_indexer] = value instead\n",
      "\n",
      "See the caveats in the documentation: https://pandas.pydata.org/pandas-docs/stable/user_guide/indexing.html#returning-a-view-versus-a-copy\n",
      "  filter_features[\"Score\"] = filter_features[\"Score\"].round(2)\n"
     ]
    },
    {
     "name": "stdout",
     "output_type": "stream",
     "text": [
      "num:\t 0\n",
      "num:\t 1\n",
      "num:\t 2\n",
      "Protein\n",
      " ['Q5T200' 'Q8NE71' 'Q13427' 'Q96N46' 'Q13523' 'O00294' 'Q5C9Z4' 'Q9UKJ3'\n",
      " 'Q14978' 'Q9Y2W1' 'Q5BKY9' 'Q8N9Q2' 'Q9Y388' 'O43159' 'Q9NTI5' 'O00567'\n",
      " 'O95232' 'Q8N9E0' 'Q4G0J3' 'Q86X95']\n"
     ]
    },
    {
     "name": "stderr",
     "output_type": "stream",
     "text": [
      "/tmp/ipykernel_19687/1986022666.py:6: SettingWithCopyWarning: \n",
      "A value is trying to be set on a copy of a slice from a DataFrame.\n",
      "Try using .loc[row_indexer,col_indexer] = value instead\n",
      "\n",
      "See the caveats in the documentation: https://pandas.pydata.org/pandas-docs/stable/user_guide/indexing.html#returning-a-view-versus-a-copy\n",
      "  filter_features[\"Score\"] = filter_features[\"Score\"].astype(float)\n",
      "/tmp/ipykernel_19687/1986022666.py:7: SettingWithCopyWarning: \n",
      "A value is trying to be set on a copy of a slice from a DataFrame.\n",
      "Try using .loc[row_indexer,col_indexer] = value instead\n",
      "\n",
      "See the caveats in the documentation: https://pandas.pydata.org/pandas-docs/stable/user_guide/indexing.html#returning-a-view-versus-a-copy\n",
      "  filter_features[\"Score\"] = filter_features[\"Score\"].round(2)\n"
     ]
    },
    {
     "name": "stdout",
     "output_type": "stream",
     "text": [
      "num:\t 0\n",
      "num:\t 1\n",
      "num:\t 2\n",
      "Protein\n",
      " ['P0CG33' 'Q9NYA3' 'A6NDK9' 'H3BSY2' 'A7E2F4' 'A8MQT2' 'P0CJ92' 'H3BQL2'\n",
      " 'A6NDN3' 'H3BV12' 'H3BPF8' 'A6NMD2' 'A6NCC3' 'I6L899' 'Q96SN8' 'F8WBI6'\n",
      " 'O95613' 'Q99996' 'Q15025' 'Q8IYY4']\n"
     ]
    },
    {
     "name": "stderr",
     "output_type": "stream",
     "text": [
      "/tmp/ipykernel_19687/1986022666.py:6: SettingWithCopyWarning: \n",
      "A value is trying to be set on a copy of a slice from a DataFrame.\n",
      "Try using .loc[row_indexer,col_indexer] = value instead\n",
      "\n",
      "See the caveats in the documentation: https://pandas.pydata.org/pandas-docs/stable/user_guide/indexing.html#returning-a-view-versus-a-copy\n",
      "  filter_features[\"Score\"] = filter_features[\"Score\"].astype(float)\n",
      "/tmp/ipykernel_19687/1986022666.py:7: SettingWithCopyWarning: \n",
      "A value is trying to be set on a copy of a slice from a DataFrame.\n",
      "Try using .loc[row_indexer,col_indexer] = value instead\n",
      "\n",
      "See the caveats in the documentation: https://pandas.pydata.org/pandas-docs/stable/user_guide/indexing.html#returning-a-view-versus-a-copy\n",
      "  filter_features[\"Score\"] = filter_features[\"Score\"].round(2)\n"
     ]
    },
    {
     "name": "stdout",
     "output_type": "stream",
     "text": [
      "num:\t 0\n",
      "num:\t 1\n",
      "num:\t 2\n",
      "Protein\n",
      " ['Q0P6D2' 'Q92839' 'Q9BSA9' 'Q96QE4' 'P49961' 'Q9H4F1' 'Q8TDX6' 'Q96PD4'\n",
      " 'Q15904' 'P19440' 'Q96RP7' 'Q9BVA6' 'Q8WVQ1' 'Q9H7Z7' 'Q92935' 'Q7L5N7'\n",
      " 'Q8NCW5' 'Q9UNP4' 'Q11201' 'Q9UBV7']\n"
     ]
    },
    {
     "name": "stderr",
     "output_type": "stream",
     "text": [
      "/tmp/ipykernel_19687/1986022666.py:6: SettingWithCopyWarning: \n",
      "A value is trying to be set on a copy of a slice from a DataFrame.\n",
      "Try using .loc[row_indexer,col_indexer] = value instead\n",
      "\n",
      "See the caveats in the documentation: https://pandas.pydata.org/pandas-docs/stable/user_guide/indexing.html#returning-a-view-versus-a-copy\n",
      "  filter_features[\"Score\"] = filter_features[\"Score\"].astype(float)\n",
      "/tmp/ipykernel_19687/1986022666.py:7: SettingWithCopyWarning: \n",
      "A value is trying to be set on a copy of a slice from a DataFrame.\n",
      "Try using .loc[row_indexer,col_indexer] = value instead\n",
      "\n",
      "See the caveats in the documentation: https://pandas.pydata.org/pandas-docs/stable/user_guide/indexing.html#returning-a-view-versus-a-copy\n",
      "  filter_features[\"Score\"] = filter_features[\"Score\"].round(2)\n"
     ]
    },
    {
     "name": "stdout",
     "output_type": "stream",
     "text": [
      "num:\t 0\n",
      "num:\t 1\n",
      "num:\t 2\n",
      "Protein\n",
      " ['Q15596' 'Q86UU0' 'Q92793' 'Q09472' 'O14686' 'Q15788' 'O15405' 'Q13495'\n",
      " 'Q99700' 'Q96RN5' 'Q14686' 'Q15648' 'Q92585' 'Q96EV2' 'Q9ULL5' 'Q06413'\n",
      " 'O14497' 'Q9Y6Q9' 'Q9UM47' 'Q2KHR2']\n"
     ]
    },
    {
     "name": "stderr",
     "output_type": "stream",
     "text": [
      "/tmp/ipykernel_19687/1986022666.py:6: SettingWithCopyWarning: \n",
      "A value is trying to be set on a copy of a slice from a DataFrame.\n",
      "Try using .loc[row_indexer,col_indexer] = value instead\n",
      "\n",
      "See the caveats in the documentation: https://pandas.pydata.org/pandas-docs/stable/user_guide/indexing.html#returning-a-view-versus-a-copy\n",
      "  filter_features[\"Score\"] = filter_features[\"Score\"].astype(float)\n",
      "/tmp/ipykernel_19687/1986022666.py:7: SettingWithCopyWarning: \n",
      "A value is trying to be set on a copy of a slice from a DataFrame.\n",
      "Try using .loc[row_indexer,col_indexer] = value instead\n",
      "\n",
      "See the caveats in the documentation: https://pandas.pydata.org/pandas-docs/stable/user_guide/indexing.html#returning-a-view-versus-a-copy\n",
      "  filter_features[\"Score\"] = filter_features[\"Score\"].round(2)\n"
     ]
    },
    {
     "name": "stdout",
     "output_type": "stream",
     "text": [
      "num:\t 0\n",
      "num:\t 1\n",
      "num:\t 2\n",
      "Protein\n",
      " ['P48634' 'Q9BUJ2' 'Q9UPQ9' 'P35637' 'P49750' 'Q92841' 'O43516' 'Q01844'\n",
      " 'Q9C0J8' 'O15523' 'P17844' 'Q92804' 'Q86VM9' 'Q32P51' 'O00571' 'Q12906'\n",
      " 'Q86UU0' 'Q8NCA5' 'Q14152' 'Q9UBU9']\n"
     ]
    },
    {
     "name": "stderr",
     "output_type": "stream",
     "text": [
      "/tmp/ipykernel_19687/1986022666.py:6: SettingWithCopyWarning: \n",
      "A value is trying to be set on a copy of a slice from a DataFrame.\n",
      "Try using .loc[row_indexer,col_indexer] = value instead\n",
      "\n",
      "See the caveats in the documentation: https://pandas.pydata.org/pandas-docs/stable/user_guide/indexing.html#returning-a-view-versus-a-copy\n",
      "  filter_features[\"Score\"] = filter_features[\"Score\"].astype(float)\n",
      "/tmp/ipykernel_19687/1986022666.py:7: SettingWithCopyWarning: \n",
      "A value is trying to be set on a copy of a slice from a DataFrame.\n",
      "Try using .loc[row_indexer,col_indexer] = value instead\n",
      "\n",
      "See the caveats in the documentation: https://pandas.pydata.org/pandas-docs/stable/user_guide/indexing.html#returning-a-view-versus-a-copy\n",
      "  filter_features[\"Score\"] = filter_features[\"Score\"].round(2)\n"
     ]
    },
    {
     "name": "stdout",
     "output_type": "stream",
     "text": [
      "num:\t 0\n",
      "num:\t 1\n",
      "num:\t 2\n",
      "Protein\n",
      " ['P57073' 'Q9Y5Q3' 'P28356' 'P56693' 'P48634' 'P17275' 'Q86UU0' 'P54845'\n",
      " 'Q9UPG8' 'Q92786' 'P31629' 'Q12948' 'O60479' 'Q99583' 'Q8WU58' 'Q9H0F5'\n",
      " 'Q9NY43' 'Q9ULL5' 'Q9H7S9' 'Q5U5X8']\n"
     ]
    },
    {
     "name": "stderr",
     "output_type": "stream",
     "text": [
      "/tmp/ipykernel_19687/1986022666.py:6: SettingWithCopyWarning: \n",
      "A value is trying to be set on a copy of a slice from a DataFrame.\n",
      "Try using .loc[row_indexer,col_indexer] = value instead\n",
      "\n",
      "See the caveats in the documentation: https://pandas.pydata.org/pandas-docs/stable/user_guide/indexing.html#returning-a-view-versus-a-copy\n",
      "  filter_features[\"Score\"] = filter_features[\"Score\"].astype(float)\n",
      "/tmp/ipykernel_19687/1986022666.py:7: SettingWithCopyWarning: \n",
      "A value is trying to be set on a copy of a slice from a DataFrame.\n",
      "Try using .loc[row_indexer,col_indexer] = value instead\n",
      "\n",
      "See the caveats in the documentation: https://pandas.pydata.org/pandas-docs/stable/user_guide/indexing.html#returning-a-view-versus-a-copy\n",
      "  filter_features[\"Score\"] = filter_features[\"Score\"].round(2)\n"
     ]
    },
    {
     "name": "stdout",
     "output_type": "stream",
     "text": [
      "num:\t 0\n",
      "num:\t 1\n",
      "num:\t 2\n",
      "Protein\n",
      " ['Q15596' 'Q86UU0' 'Q92793' 'Q09472' 'O14686' 'Q15788' 'O15405' 'Q13495'\n",
      " 'Q99700' 'Q96RN5' 'Q14686' 'Q15648' 'Q92585' 'Q96EV2' 'Q9ULL5' 'Q06413'\n",
      " 'O14497' 'Q9Y6Q9' 'Q9UM47' 'Q2KHR2']\n"
     ]
    },
    {
     "name": "stderr",
     "output_type": "stream",
     "text": [
      "/tmp/ipykernel_19687/1986022666.py:6: SettingWithCopyWarning: \n",
      "A value is trying to be set on a copy of a slice from a DataFrame.\n",
      "Try using .loc[row_indexer,col_indexer] = value instead\n",
      "\n",
      "See the caveats in the documentation: https://pandas.pydata.org/pandas-docs/stable/user_guide/indexing.html#returning-a-view-versus-a-copy\n",
      "  filter_features[\"Score\"] = filter_features[\"Score\"].astype(float)\n",
      "/tmp/ipykernel_19687/1986022666.py:7: SettingWithCopyWarning: \n",
      "A value is trying to be set on a copy of a slice from a DataFrame.\n",
      "Try using .loc[row_indexer,col_indexer] = value instead\n",
      "\n",
      "See the caveats in the documentation: https://pandas.pydata.org/pandas-docs/stable/user_guide/indexing.html#returning-a-view-versus-a-copy\n",
      "  filter_features[\"Score\"] = filter_features[\"Score\"].round(2)\n"
     ]
    },
    {
     "name": "stdout",
     "output_type": "stream",
     "text": [
      "num:\t 0\n",
      "num:\t 1\n",
      "num:\t 2\n",
      "Protein\n",
      " ['Q10571' 'Q86UU0' 'Q8WU58' 'P46937' 'Q9P267' 'Q68DV7' 'Q9NQX3' 'Q9HCM7'\n",
      " 'Q969F2' 'Q7L0R7' 'Q9H0F5' 'Q9UBS3' 'Q8WXX7' 'Q96RK1' 'Q8N7E2' 'Q9H3T2'\n",
      " 'Q92786' 'P43354' 'Q8NEC5' 'Q9Y580']\n"
     ]
    },
    {
     "name": "stderr",
     "output_type": "stream",
     "text": [
      "/tmp/ipykernel_19687/1986022666.py:6: SettingWithCopyWarning: \n",
      "A value is trying to be set on a copy of a slice from a DataFrame.\n",
      "Try using .loc[row_indexer,col_indexer] = value instead\n",
      "\n",
      "See the caveats in the documentation: https://pandas.pydata.org/pandas-docs/stable/user_guide/indexing.html#returning-a-view-versus-a-copy\n",
      "  filter_features[\"Score\"] = filter_features[\"Score\"].astype(float)\n",
      "/tmp/ipykernel_19687/1986022666.py:7: SettingWithCopyWarning: \n",
      "A value is trying to be set on a copy of a slice from a DataFrame.\n",
      "Try using .loc[row_indexer,col_indexer] = value instead\n",
      "\n",
      "See the caveats in the documentation: https://pandas.pydata.org/pandas-docs/stable/user_guide/indexing.html#returning-a-view-versus-a-copy\n",
      "  filter_features[\"Score\"] = filter_features[\"Score\"].round(2)\n"
     ]
    },
    {
     "name": "stdout",
     "output_type": "stream",
     "text": [
      "num:\t 0\n",
      "num:\t 1\n",
      "num:\t 2\n",
      "Protein\n",
      " ['O60479' 'P57073' 'P17275' 'P56693' 'Q9Y5Q3' 'P28356' 'Q9HCS4' 'P37275'\n",
      " 'P54845' 'O60315' 'Q9UPG8' 'P31629' 'P49715' 'Q9H6I2' 'Q9BT81' 'Q8NBF1'\n",
      " 'P57682' 'P15408' 'Q5U5X8' 'P81133']\n"
     ]
    },
    {
     "name": "stderr",
     "output_type": "stream",
     "text": [
      "/tmp/ipykernel_19687/1986022666.py:6: SettingWithCopyWarning: \n",
      "A value is trying to be set on a copy of a slice from a DataFrame.\n",
      "Try using .loc[row_indexer,col_indexer] = value instead\n",
      "\n",
      "See the caveats in the documentation: https://pandas.pydata.org/pandas-docs/stable/user_guide/indexing.html#returning-a-view-versus-a-copy\n",
      "  filter_features[\"Score\"] = filter_features[\"Score\"].astype(float)\n",
      "/tmp/ipykernel_19687/1986022666.py:7: SettingWithCopyWarning: \n",
      "A value is trying to be set on a copy of a slice from a DataFrame.\n",
      "Try using .loc[row_indexer,col_indexer] = value instead\n",
      "\n",
      "See the caveats in the documentation: https://pandas.pydata.org/pandas-docs/stable/user_guide/indexing.html#returning-a-view-versus-a-copy\n",
      "  filter_features[\"Score\"] = filter_features[\"Score\"].round(2)\n"
     ]
    },
    {
     "name": "stdout",
     "output_type": "stream",
     "text": [
      "num:\t 0\n",
      "num:\t 1\n",
      "num:\t 2\n",
      "Protein\n",
      " ['Q14152' 'P08621' 'Q9Y3X0' 'P23588' 'Q9UPT8' 'Q86VM9' 'Q15424' 'Q8NC51'\n",
      " 'Q9H1E3' 'Q9UKV3' 'Q6PD62' 'Q16560' 'Q9NWH9' 'Q9Y2W1' 'P14317' 'Q7Z4V5'\n",
      " 'Q8WVS4' 'Q13427' 'Q96T23' 'Q5C9Z4']\n"
     ]
    },
    {
     "name": "stderr",
     "output_type": "stream",
     "text": [
      "/tmp/ipykernel_19687/1986022666.py:6: SettingWithCopyWarning: \n",
      "A value is trying to be set on a copy of a slice from a DataFrame.\n",
      "Try using .loc[row_indexer,col_indexer] = value instead\n",
      "\n",
      "See the caveats in the documentation: https://pandas.pydata.org/pandas-docs/stable/user_guide/indexing.html#returning-a-view-versus-a-copy\n",
      "  filter_features[\"Score\"] = filter_features[\"Score\"].astype(float)\n",
      "/tmp/ipykernel_19687/1986022666.py:7: SettingWithCopyWarning: \n",
      "A value is trying to be set on a copy of a slice from a DataFrame.\n",
      "Try using .loc[row_indexer,col_indexer] = value instead\n",
      "\n",
      "See the caveats in the documentation: https://pandas.pydata.org/pandas-docs/stable/user_guide/indexing.html#returning-a-view-versus-a-copy\n",
      "  filter_features[\"Score\"] = filter_features[\"Score\"].round(2)\n"
     ]
    },
    {
     "name": "stdout",
     "output_type": "stream",
     "text": [
      "num:\t 0\n",
      "num:\t 1\n",
      "num:\t 2\n",
      "Protein\n",
      " ['P57073' 'P48634' 'P56693' 'Q9Y5Q3' 'P28356' 'Q86UU0' 'P17275' 'P54845'\n",
      " 'Q9ULL5' 'Q9UPG8' 'P31629' 'Q8WU58' 'Q9H0F5' 'O60479' 'Q12948' 'Q92786'\n",
      " 'Q9NY43' 'Q53ET0' 'Q9H7S9' 'Q5U5X8']\n"
     ]
    },
    {
     "name": "stderr",
     "output_type": "stream",
     "text": [
      "/tmp/ipykernel_19687/1986022666.py:6: SettingWithCopyWarning: \n",
      "A value is trying to be set on a copy of a slice from a DataFrame.\n",
      "Try using .loc[row_indexer,col_indexer] = value instead\n",
      "\n",
      "See the caveats in the documentation: https://pandas.pydata.org/pandas-docs/stable/user_guide/indexing.html#returning-a-view-versus-a-copy\n",
      "  filter_features[\"Score\"] = filter_features[\"Score\"].astype(float)\n",
      "/tmp/ipykernel_19687/1986022666.py:7: SettingWithCopyWarning: \n",
      "A value is trying to be set on a copy of a slice from a DataFrame.\n",
      "Try using .loc[row_indexer,col_indexer] = value instead\n",
      "\n",
      "See the caveats in the documentation: https://pandas.pydata.org/pandas-docs/stable/user_guide/indexing.html#returning-a-view-versus-a-copy\n",
      "  filter_features[\"Score\"] = filter_features[\"Score\"].round(2)\n"
     ]
    },
    {
     "name": "stdout",
     "output_type": "stream",
     "text": [
      "num:\t 0\n",
      "num:\t 1\n",
      "num:\t 2\n",
      "Protein\n",
      " ['P57073' 'Q9Y5Q3' 'P28356' 'P56693' 'P48634' 'P17275' 'Q86UU0' 'P54845'\n",
      " 'Q9UPG8' 'Q92786' 'P31629' 'Q12948' 'O60479' 'Q99583' 'Q8WU58' 'Q9H0F5'\n",
      " 'Q9NY43' 'Q9ULL5' 'Q9H7S9' 'Q5U5X8']\n"
     ]
    },
    {
     "name": "stderr",
     "output_type": "stream",
     "text": [
      "/tmp/ipykernel_19687/1986022666.py:6: SettingWithCopyWarning: \n",
      "A value is trying to be set on a copy of a slice from a DataFrame.\n",
      "Try using .loc[row_indexer,col_indexer] = value instead\n",
      "\n",
      "See the caveats in the documentation: https://pandas.pydata.org/pandas-docs/stable/user_guide/indexing.html#returning-a-view-versus-a-copy\n",
      "  filter_features[\"Score\"] = filter_features[\"Score\"].astype(float)\n",
      "/tmp/ipykernel_19687/1986022666.py:7: SettingWithCopyWarning: \n",
      "A value is trying to be set on a copy of a slice from a DataFrame.\n",
      "Try using .loc[row_indexer,col_indexer] = value instead\n",
      "\n",
      "See the caveats in the documentation: https://pandas.pydata.org/pandas-docs/stable/user_guide/indexing.html#returning-a-view-versus-a-copy\n",
      "  filter_features[\"Score\"] = filter_features[\"Score\"].round(2)\n"
     ]
    }
   ],
   "source": [
    "path = \"../statistics_data\"\n",
    "csv_files = glob.glob(os.path.join(path, \"*.csv\"))\n",
    "print(len(csv_files))\n",
    "  \n",
    "num = 0\n",
    "# loop over the list of csv files\n",
    "for f in csv_files:\n",
    "    \n",
    "    protein_filter = pd.DataFrame([])\n",
    "    filter_IDRs = pd.DataFrame([])\n",
    "    filter_features = pd.DataFrame([])\n",
    "    print(\"num:\\t\", num)\n",
    "    \n",
    "    # read the first csv file\n",
    "    if num == 0:\n",
    "        df_post_filename = f\n",
    "        num += 1\n",
    "    \n",
    "    # read the second csv file\n",
    "    elif num == 1:\n",
    "        df_pred_filename = f\n",
    "        num += 1\n",
    "        \n",
    "    # read the third csv file\n",
    "    else:\n",
    "        df_stat_filename = f\n",
    "        num = 0\n",
    "        \n",
    "        \n",
    "        # so far, read all files of one function\n",
    "        # print(\"Group:\\t\", df_post_filename, df_pred_filename, df_stat_filename, \"\\t\")\n",
    "        \n",
    "        # step1: protein\n",
    "        protein_file_name = df_pred_filename\n",
    "        # protein_cutoff_value = 0.15\n",
    "        # protein_filter = create_protein_filter_list(protein_file_name, protein_cutoff_value)\n",
    "        protein_filter = create_protein_filter_list(protein_file_name)\n",
    "        filtered_protein_name = protein_filter.index.values\n",
    "        print (\"Protein\\n\", filtered_protein_name)\n",
    "\n",
    "        # step2: IDRs\n",
    "        IDR_file_name = df_post_filename\n",
    "        IDR_cutoff_value1 = 0.5\n",
    "        IDR_cutoff_value2 = 0.6\n",
    "        html_filter_IDRs = create_IDR_filter_list(IDR_file_name, IDR_cutoff_value1, IDR_cutoff_value2, filtered_protein_name)\n",
    "        # print(\"IDR\\n\", filter_IDRs)\n",
    "\n",
    "        # step3: features\n",
    "        feature_file_name = df_stat_filename\n",
    "        html_filter_features = create_feature_filter_list(feature_file_name)\n",
    "        # print(\"Feature\\n\", filter_features)\n",
    "\n",
    "        # step4: HTML\n",
    "        function_name = df_pred_filename.split()[0]\n",
    "        function_name = function_name[:-1]\n",
    "        convert_to_HTML_format(html_filter_IDRs, html_filter_features, function_name)"
   ]
  },
  {
   "cell_type": "code",
   "execution_count": null,
   "id": "09ba56b8",
   "metadata": {},
   "outputs": [],
   "source": []
  }
 ],
 "metadata": {
  "kernelspec": {
   "display_name": "Python 3 (ipykernel)",
   "language": "python",
   "name": "python3"
  },
  "language_info": {
   "codemirror_mode": {
    "name": "ipython",
    "version": 3
   },
   "file_extension": ".py",
   "mimetype": "text/x-python",
   "name": "python",
   "nbconvert_exporter": "python",
   "pygments_lexer": "ipython3",
   "version": "3.9.12"
  }
 },
 "nbformat": 4,
 "nbformat_minor": 5
}
