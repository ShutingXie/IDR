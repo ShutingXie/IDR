{
 "cells": [
  {
   "cell_type": "code",
   "execution_count": 2,
   "id": "8c69b3fb",
   "metadata": {},
   "outputs": [],
   "source": [
    "import numpy as np\n",
    "import pandas as pd\n",
    "import os\n",
    "import glob"
   ]
  },
  {
   "cell_type": "code",
   "execution_count": 17,
   "id": "33d756e9",
   "metadata": {},
   "outputs": [
    {
     "name": "stdout",
     "output_type": "stream",
     "text": [
      "['/home/shuting/IDRs/Files/GO0003682_chromatin_binding_ PostIDR.csv', '/home/shuting/IDRs/Files/GO0003682_chromatin_binding_ Pred_df.csv', '/home/shuting/IDRs/Files/GO0003682_chromatin_binding_ Tstats_df.csv', '/home/shuting/IDRs/Files/GO0005730_nucleolus_ PostIDR.csv', '/home/shuting/IDRs/Files/GO0005730_nucleolus_ Pred_df.csv', '/home/shuting/IDRs/Files/GO0005730_nucleolus_ Tstats_df.csv', '/home/shuting/IDRs/Files/GO0030312_external_encapsulating_structure_ PostIDR.csv', '/home/shuting/IDRs/Files/GO0030312_external_encapsulating_structure_ Pred_df.csv', '/home/shuting/IDRs/Files/GO0030312_external_encapsulating_structure_ Tstats_df.csv', '/home/shuting/IDRs/Files/GO0031012_extracellular_matrix_ PostIDR.csv', '/home/shuting/IDRs/Files/GO0031012_extracellular_matrix_ Pred_df.csv', '/home/shuting/IDRs/Files/GO0031012_extracellular_matrix_ Tstats_df.csv', '/home/shuting/IDRs/Files/GO0042393_histone_binding_ PostIDR.csv', '/home/shuting/IDRs/Files/GO0042393_histone_binding_ Pred_df.csv', '/home/shuting/IDRs/Files/GO0042393_histone_binding_ Tstats_df.csv']\n"
     ]
    }
   ],
   "source": [
    "# use glob to get all the csv files \n",
    "# in the folder\n",
    "path = os.getcwd()\n",
    "csv_files = glob.glob(os.path.join(path, \"Files\", \"*.csv\"))\n",
    "num = 0\n",
    "\n",
    "print(csv_files)"
   ]
  },
  {
   "cell_type": "code",
   "execution_count": null,
   "id": "a0c8a699",
   "metadata": {},
   "outputs": [],
   "source": [
    "# loop over the list of csv files\n",
    "for f in csv_files:\n",
    "    \n",
    "    # read the csv file\n",
    "    df = pd.read_csv(f)\n",
    "      \n",
    "    # print the location and filename\n",
    "    print('Location:', f)\n",
    "    print('File Name:', f.split(\"\\\\\")[-1])\n",
    "    # print the content\n",
    "    print('Content:')\n",
    "    display(df)\n",
    "    print()\n",
    "    \n",
    "    num +=1"
   ]
  },
  {
   "cell_type": "code",
   "execution_count": 16,
   "id": "585cbefc",
   "metadata": {},
   "outputs": [
    {
     "data": {
      "text/plain": [
       "15"
      ]
     },
     "execution_count": 16,
     "metadata": {},
     "output_type": "execute_result"
    }
   ],
   "source": [
    "num"
   ]
  },
  {
   "cell_type": "code",
   "execution_count": 18,
   "id": "042b79c4",
   "metadata": {},
   "outputs": [],
   "source": [
    "name = \"GO0003682_chromatin_binding_ PostIDR.csv\""
   ]
  },
  {
   "cell_type": "code",
   "execution_count": 24,
   "id": "78d34c40",
   "metadata": {},
   "outputs": [
    {
     "data": {
      "text/plain": [
       "['GO0003682_chromatin_binding_', 'PostIDR.csv']"
      ]
     },
     "execution_count": 24,
     "metadata": {},
     "output_type": "execute_result"
    }
   ],
   "source": [
    "name_split = name.split()\n",
    "name_split"
   ]
  },
  {
   "cell_type": "code",
   "execution_count": 25,
   "id": "93c46ce5",
   "metadata": {},
   "outputs": [
    {
     "data": {
      "text/plain": [
       "'GO0003682_chromatin_binding_'"
      ]
     },
     "execution_count": 25,
     "metadata": {},
     "output_type": "execute_result"
    }
   ],
   "source": [
    "name_split[0]"
   ]
  },
  {
   "cell_type": "code",
   "execution_count": null,
   "id": "59e6df34",
   "metadata": {},
   "outputs": [],
   "source": []
  },
  {
   "cell_type": "code",
   "execution_count": null,
   "id": "ea5b4d61",
   "metadata": {},
   "outputs": [],
   "source": []
  },
  {
   "cell_type": "code",
   "execution_count": null,
   "id": "14acdebc",
   "metadata": {},
   "outputs": [],
   "source": []
  },
  {
   "cell_type": "code",
   "execution_count": null,
   "id": "d4f3e6f3",
   "metadata": {},
   "outputs": [],
   "source": []
  },
  {
   "cell_type": "code",
   "execution_count": null,
   "id": "b003a9a3",
   "metadata": {},
   "outputs": [],
   "source": []
  },
  {
   "cell_type": "code",
   "execution_count": null,
   "id": "a42849cd",
   "metadata": {},
   "outputs": [],
   "source": []
  },
  {
   "cell_type": "code",
   "execution_count": null,
   "id": "ea73fb51",
   "metadata": {},
   "outputs": [],
   "source": []
  },
  {
   "cell_type": "code",
   "execution_count": 3,
   "id": "66f01041",
   "metadata": {},
   "outputs": [
    {
     "data": {
      "text/html": [
       "<div>\n",
       "<style scoped>\n",
       "    .dataframe tbody tr th:only-of-type {\n",
       "        vertical-align: middle;\n",
       "    }\n",
       "\n",
       "    .dataframe tbody tr th {\n",
       "        vertical-align: top;\n",
       "    }\n",
       "\n",
       "    .dataframe thead th {\n",
       "        text-align: right;\n",
       "    }\n",
       "</style>\n",
       "<table border=\"1\" class=\"dataframe\">\n",
       "  <thead>\n",
       "    <tr style=\"text-align: right;\">\n",
       "      <th></th>\n",
       "      <th>Score</th>\n",
       "      <th>Rank</th>\n",
       "    </tr>\n",
       "    <tr>\n",
       "      <th>Protein_name</th>\n",
       "      <th></th>\n",
       "      <th></th>\n",
       "    </tr>\n",
       "  </thead>\n",
       "  <tbody>\n",
       "    <tr>\n",
       "      <th>P0CG33</th>\n",
       "      <td>0.496269</td>\n",
       "      <td>1.0</td>\n",
       "    </tr>\n",
       "    <tr>\n",
       "      <th>Q9NYA3</th>\n",
       "      <td>0.485431</td>\n",
       "      <td>2.0</td>\n",
       "    </tr>\n",
       "    <tr>\n",
       "      <th>A6NDK9</th>\n",
       "      <td>0.465245</td>\n",
       "      <td>3.0</td>\n",
       "    </tr>\n",
       "    <tr>\n",
       "      <th>Q5VT06</th>\n",
       "      <td>0.429136</td>\n",
       "      <td>4.0</td>\n",
       "    </tr>\n",
       "    <tr>\n",
       "      <th>Q9C0D2</th>\n",
       "      <td>0.373761</td>\n",
       "      <td>5.0</td>\n",
       "    </tr>\n",
       "    <tr>\n",
       "      <th>A6NDN3</th>\n",
       "      <td>0.331904</td>\n",
       "      <td>6.0</td>\n",
       "    </tr>\n",
       "    <tr>\n",
       "      <th>Q8N3K9</th>\n",
       "      <td>0.324916</td>\n",
       "      <td>7.0</td>\n",
       "    </tr>\n",
       "    <tr>\n",
       "      <th>H3BSY2</th>\n",
       "      <td>0.319907</td>\n",
       "      <td>8.0</td>\n",
       "    </tr>\n",
       "    <tr>\n",
       "      <th>A8MQT2</th>\n",
       "      <td>0.317983</td>\n",
       "      <td>9.0</td>\n",
       "    </tr>\n",
       "    <tr>\n",
       "      <th>Q8IYY4</th>\n",
       "      <td>0.314915</td>\n",
       "      <td>10.0</td>\n",
       "    </tr>\n",
       "    <tr>\n",
       "      <th>A7E2F4</th>\n",
       "      <td>0.287715</td>\n",
       "      <td>11.0</td>\n",
       "    </tr>\n",
       "    <tr>\n",
       "      <th>Q8WYP5</th>\n",
       "      <td>0.263432</td>\n",
       "      <td>12.0</td>\n",
       "    </tr>\n",
       "    <tr>\n",
       "      <th>Q02952</th>\n",
       "      <td>0.246997</td>\n",
       "      <td>13.0</td>\n",
       "    </tr>\n",
       "    <tr>\n",
       "      <th>Q8IYE1</th>\n",
       "      <td>0.245934</td>\n",
       "      <td>14.0</td>\n",
       "    </tr>\n",
       "    <tr>\n",
       "      <th>H3BPF8</th>\n",
       "      <td>0.242581</td>\n",
       "      <td>15.0</td>\n",
       "    </tr>\n",
       "    <tr>\n",
       "      <th>Q96SN8</th>\n",
       "      <td>0.240106</td>\n",
       "      <td>16.0</td>\n",
       "    </tr>\n",
       "    <tr>\n",
       "      <th>P15311</th>\n",
       "      <td>0.235915</td>\n",
       "      <td>17.0</td>\n",
       "    </tr>\n",
       "    <tr>\n",
       "      <th>Q9P219</th>\n",
       "      <td>0.233678</td>\n",
       "      <td>18.0</td>\n",
       "    </tr>\n",
       "    <tr>\n",
       "      <th>Q6NUN7</th>\n",
       "      <td>0.228494</td>\n",
       "      <td>19.0</td>\n",
       "    </tr>\n",
       "    <tr>\n",
       "      <th>O95613</th>\n",
       "      <td>0.225166</td>\n",
       "      <td>20.0</td>\n",
       "    </tr>\n",
       "  </tbody>\n",
       "</table>\n",
       "</div>"
      ],
      "text/plain": [
       "                 Score  Rank\n",
       "Protein_name                \n",
       "P0CG33        0.496269   1.0\n",
       "Q9NYA3        0.485431   2.0\n",
       "A6NDK9        0.465245   3.0\n",
       "Q5VT06        0.429136   4.0\n",
       "Q9C0D2        0.373761   5.0\n",
       "A6NDN3        0.331904   6.0\n",
       "Q8N3K9        0.324916   7.0\n",
       "H3BSY2        0.319907   8.0\n",
       "A8MQT2        0.317983   9.0\n",
       "Q8IYY4        0.314915  10.0\n",
       "A7E2F4        0.287715  11.0\n",
       "Q8WYP5        0.263432  12.0\n",
       "Q02952        0.246997  13.0\n",
       "Q8IYE1        0.245934  14.0\n",
       "H3BPF8        0.242581  15.0\n",
       "Q96SN8        0.240106  16.0\n",
       "P15311        0.235915  17.0\n",
       "Q9P219        0.233678  18.0\n",
       "Q6NUN7        0.228494  19.0\n",
       "O95613        0.225166  20.0"
      ]
     },
     "execution_count": 3,
     "metadata": {},
     "output_type": "execute_result"
    }
   ],
   "source": [
    "protein_df = pd.read_csv(\"../statistics_data/GO0000226_microtubule_cytoskeleton_organization_ Pred_df.csv\",  names = [\"Protein_name\",\"Score\"], header=0, index_col=0)\n",
    "protein_df[\"Rank\"] = protein_df[\"Score\"].rank(ascending=False) \n",
    "protein_df = protein_df.sort_values(\"Rank\")\n",
    "protein_filter = protein_df.head(20)\n",
    "protein_filter"
   ]
  },
  {
   "cell_type": "code",
   "execution_count": 4,
   "id": "c32591bd",
   "metadata": {},
   "outputs": [
    {
     "data": {
      "text/plain": [
       "array(['P0CG33', 'Q9NYA3', 'A6NDK9', 'Q5VT06', 'Q9C0D2', 'A6NDN3',\n",
       "       'Q8N3K9', 'H3BSY2', 'A8MQT2', 'Q8IYY4', 'A7E2F4', 'Q8WYP5',\n",
       "       'Q02952', 'Q8IYE1', 'H3BPF8', 'Q96SN8', 'P15311', 'Q9P219',\n",
       "       'Q6NUN7', 'O95613'], dtype=object)"
      ]
     },
     "execution_count": 4,
     "metadata": {},
     "output_type": "execute_result"
    }
   ],
   "source": [
    "filtered_protein_name = protein_filter.index.values\n",
    "filtered_protein_name"
   ]
  },
  {
   "cell_type": "code",
   "execution_count": 5,
   "id": "6e54928b",
   "metadata": {},
   "outputs": [],
   "source": [
    "def compute_IDR_num(filter_IDRs):\n",
    "    count_dict = dict()\n",
    "    for ID in filter_IDRs[\"UniProtID\"]:\n",
    "        if ID in count_dict:\n",
    "            count_dict[ID] += 1\n",
    "        else:\n",
    "            count_dict[ID] = 1\n",
    "\n",
    "    count_list = []\n",
    "    for ID in filter_IDRs[\"UniProtID\"]:\n",
    "        if ID in count_dict:\n",
    "            count_list.append(count_dict.get(ID))\n",
    "    filter_IDRs[\"The number of IDRs in each protein\"] = count_list\n",
    "    return count_list"
   ]
  },
  {
   "cell_type": "code",
   "execution_count": 9,
   "id": "252c575d",
   "metadata": {},
   "outputs": [],
   "source": [
    "IDR_cutoff_value1 = 0.5\n",
    "IDR_cutoff_value2 = 0.6"
   ]
  },
  {
   "cell_type": "code",
   "execution_count": 12,
   "id": "a445d7b4",
   "metadata": {
    "scrolled": true
   },
   "outputs": [
    {
     "data": {
      "text/plain": [
       "'<table class=\"table table-striped\">\\n  <thead>\\n    <tr style=\"text-align: right;\">\\n      <th>UniProtID</th>\\n      <th>The beginning position of IDR</th>\\n      <th>The ending position of IDR</th>\\n      <th>The probability of the association between the IDR and the function</th>\\n      <th>The number of IDRs in each protein</th>\\n    </tr>\\n  </thead>\\n  <tbody>\\n    <tr>\\n      <td>P0CG33</td>\\n      <td>1</td>\\n      <td>693</td>\\n      <td>1.00</td>\\n      <td>1</td>\\n    </tr>\\n    <tr>\\n      <td>Q9NYA3</td>\\n      <td>1</td>\\n      <td>693</td>\\n      <td>1.00</td>\\n      <td>1</td>\\n    </tr>\\n    <tr>\\n      <td>A6NDK9</td>\\n      <td>1</td>\\n      <td>693</td>\\n      <td>1.00</td>\\n      <td>1</td>\\n    </tr>\\n    <tr>\\n      <td>Q5VT06</td>\\n      <td>1</td>\\n      <td>2842</td>\\n      <td>0.89</td>\\n      <td>2</td>\\n    </tr>\\n    <tr>\\n      <td>Q9C0D2</td>\\n      <td>1</td>\\n      <td>2537</td>\\n      <td>1.00</td>\\n      <td>1</td>\\n    </tr>\\n    <tr>\\n      <td>A6NDN3</td>\\n      <td>213</td>\\n      <td>693</td>\\n      <td>0.57</td>\\n      <td>2</td>\\n    </tr>\\n    <tr>\\n      <td>Q8N3K9</td>\\n      <td>1</td>\\n      <td>3505</td>\\n      <td>1.00</td>\\n      <td>1</td>\\n    </tr>\\n    <tr>\\n      <td>H3BSY2</td>\\n      <td>176</td>\\n      <td>601</td>\\n      <td>0.83</td>\\n      <td>2</td>\\n    </tr>\\n    <tr>\\n      <td>A8MQT2</td>\\n      <td>271</td>\\n      <td>563</td>\\n      <td>0.75</td>\\n      <td>2</td>\\n    </tr>\\n    <tr>\\n      <td>Q8IYY4</td>\\n      <td>126</td>\\n      <td>766</td>\\n      <td>1.00</td>\\n      <td>1</td>\\n    </tr>\\n    <tr>\\n      <td>Q8WYP5</td>\\n      <td>1008</td>\\n      <td>2266</td>\\n      <td>1.00</td>\\n      <td>1</td>\\n    </tr>\\n    <tr>\\n      <td>Q02952</td>\\n      <td>1</td>\\n      <td>1782</td>\\n      <td>1.00</td>\\n      <td>1</td>\\n    </tr>\\n    <tr>\\n      <td>Q8IYE1</td>\\n      <td>1</td>\\n      <td>671</td>\\n      <td>0.80</td>\\n      <td>2</td>\\n    </tr>\\n    <tr>\\n      <td>H3BPF8</td>\\n      <td>248</td>\\n      <td>595</td>\\n      <td>0.72</td>\\n      <td>2</td>\\n    </tr>\\n    <tr>\\n      <td>Q96SN8</td>\\n      <td>1</td>\\n      <td>1470</td>\\n      <td>0.81</td>\\n      <td>2</td>\\n    </tr>\\n    <tr>\\n      <td>P15311</td>\\n      <td>353</td>\\n      <td>547</td>\\n      <td>1.00</td>\\n      <td>1</td>\\n    </tr>\\n    <tr>\\n      <td>Q6NUN7</td>\\n      <td>1</td>\\n      <td>778</td>\\n      <td>1.00</td>\\n      <td>1</td>\\n    </tr>\\n  </tbody>\\n</table>'"
      ]
     },
     "execution_count": 12,
     "metadata": {},
     "output_type": "execute_result"
    }
   ],
   "source": [
    "IDR_df = pd.read_csv(\"../statistics_data/GO0000226_microtubule_cytoskeleton_organization_ PostIDR.csv\", names = [\"Protein IDR\",\"Score\"], header=0)\n",
    "\n",
    "# Split GO_term string in order to let user understand the meaning of each column\n",
    "# https://stackoverflow.com/questions/14745022/how-to-split-a-dataframe-string-column-into-two-columns\n",
    "# n=the number of columns you expect\n",
    "IDR_df[['UniProtID', 'Redundancy', 'The beginning position of IDR', 'The ending position of IDR']] = IDR_df['Protein IDR'].str.split('_', n=4, expand=True)\n",
    "\n",
    "filter_IDRs = pd.DataFrame()\n",
    "for p_name in filtered_protein_name:\n",
    "    for IDR_name in IDR_df[\"Protein IDR\"].values:\n",
    "        if p_name in IDR_name:\n",
    "            s2 = IDR_df[IDR_df[\"Protein IDR\"] == IDR_name]\n",
    "            filter_IDRs = pd.concat([filter_IDRs, s2], ignore_index=True)\n",
    "\n",
    "# compute the total numbe of IDRs in each protein            \n",
    "count_list = compute_IDR_num(filter_IDRs)\n",
    "filter_IDRs[\"The number of IDRs in each protein\"] = count_list\n",
    "\n",
    "# remove all IDRs whose score <= 0.5\n",
    "filter_IDRs = filter_IDRs[filter_IDRs[\"Score\"] > IDR_cutoff_value1]\n",
    "\n",
    "# remove useless columns\n",
    "filter_IDRs = filter_IDRs.drop(columns=['Protein IDR', 'Redundancy'])\n",
    "\n",
    "# rename columns in order to make them more understandable\n",
    "filter_IDRs = filter_IDRs[['UniProtID', 'The beginning position of IDR', 'The ending position of IDR', 'Score', 'The number of IDRs in each protein']]\n",
    "\n",
    "# if the protein has more than 2 IDRs, remove IDRs whose score <= 0.6\n",
    "temp_df = filter_IDRs[filter_IDRs[\"The number of IDRs in each protein\"]>2]\n",
    "filter_IDRs = filter_IDRs.drop((temp_df[\"Score\"] < 0.6).index.values)\n",
    "\n",
    "# hold two digits after the decimal points\n",
    "filter_IDRs[\"Score\"] = filter_IDRs[\"Score\"].astype(float)\n",
    "filter_IDRs[\"Score\"] = filter_IDRs[\"Score\"].round(2)\n",
    "\n",
    "# rename \"Score\"\n",
    "filter_IDRs = filter_IDRs.rename(columns={\"Score\": \"The probability of the association between the IDR and the function\"})\n",
    "\n",
    "html_filter_IDRs = filter_IDRs.to_html(index=False).replace('<table border=\"1\" class=\"dataframe\">','<table class=\"table table-striped\">')\n",
    "# html_filter_IDRs = html_filter_IDRs.replace('<td>', '<td style=\"text-align: center;\">') # center text\n",
    "# html_filter_IDRs= html_filter_IDRs.replace('<th>', '<th style=\"text-align: center;\">') # center column names\n",
    "\n",
    "html_filter_IDRs"
   ]
  },
  {
   "cell_type": "code",
   "execution_count": null,
   "id": "72769814",
   "metadata": {},
   "outputs": [],
   "source": []
  },
  {
   "cell_type": "code",
   "execution_count": 72,
   "id": "56cf1c29",
   "metadata": {},
   "outputs": [
    {
     "data": {
      "text/plain": [
       "36"
      ]
     },
     "execution_count": 72,
     "metadata": {},
     "output_type": "execute_result"
    }
   ],
   "source": [
    "count_list = []\n",
    "for ID in filter_IDRs[\"UniProtID\"]:\n",
    "    if ID in counts:\n",
    "        count_list.append(counts.get(ID))\n",
    "len(count_list)"
   ]
  },
  {
   "cell_type": "code",
   "execution_count": null,
   "id": "7d82fdbb",
   "metadata": {},
   "outputs": [],
   "source": []
  },
  {
   "cell_type": "code",
   "execution_count": null,
   "id": "d257aaff",
   "metadata": {},
   "outputs": [],
   "source": []
  },
  {
   "cell_type": "code",
   "execution_count": null,
   "id": "94b6fcf1",
   "metadata": {},
   "outputs": [],
   "source": []
  },
  {
   "cell_type": "code",
   "execution_count": null,
   "id": "67707362",
   "metadata": {},
   "outputs": [],
   "source": []
  },
  {
   "cell_type": "code",
   "execution_count": 24,
   "id": "cdf94848",
   "metadata": {},
   "outputs": [
    {
     "data": {
      "text/html": [
       "<div>\n",
       "<style scoped>\n",
       "    .dataframe tbody tr th:only-of-type {\n",
       "        vertical-align: middle;\n",
       "    }\n",
       "\n",
       "    .dataframe tbody tr th {\n",
       "        vertical-align: top;\n",
       "    }\n",
       "\n",
       "    .dataframe thead th {\n",
       "        text-align: right;\n",
       "    }\n",
       "</style>\n",
       "<table border=\"1\" class=\"dataframe\">\n",
       "  <thead>\n",
       "    <tr style=\"text-align: right;\">\n",
       "      <th></th>\n",
       "      <th>Unnamed: 0</th>\n",
       "      <th>GO1990904_ribonucleoprotein_complex</th>\n",
       "    </tr>\n",
       "  </thead>\n",
       "  <tbody>\n",
       "    <tr>\n",
       "      <th>0</th>\n",
       "      <td>Q5VTL8</td>\n",
       "      <td>0.031361</td>\n",
       "    </tr>\n",
       "    <tr>\n",
       "      <th>1</th>\n",
       "      <td>Q5VTQ0</td>\n",
       "      <td>0.011377</td>\n",
       "    </tr>\n",
       "    <tr>\n",
       "      <th>2</th>\n",
       "      <td>Q5VTR2</td>\n",
       "      <td>0.028818</td>\n",
       "    </tr>\n",
       "    <tr>\n",
       "      <th>3</th>\n",
       "      <td>Q5VUJ6</td>\n",
       "      <td>0.027855</td>\n",
       "    </tr>\n",
       "    <tr>\n",
       "      <th>4</th>\n",
       "      <td>Q5VUM1</td>\n",
       "      <td>0.045922</td>\n",
       "    </tr>\n",
       "    <tr>\n",
       "      <th>...</th>\n",
       "      <td>...</td>\n",
       "      <td>...</td>\n",
       "    </tr>\n",
       "    <tr>\n",
       "      <th>11635</th>\n",
       "      <td>Q8NEH6</td>\n",
       "      <td>0.030196</td>\n",
       "    </tr>\n",
       "    <tr>\n",
       "      <th>11636</th>\n",
       "      <td>Q8NEJ9</td>\n",
       "      <td>0.085473</td>\n",
       "    </tr>\n",
       "    <tr>\n",
       "      <th>11637</th>\n",
       "      <td>Q8NEK5</td>\n",
       "      <td>0.016681</td>\n",
       "    </tr>\n",
       "    <tr>\n",
       "      <th>11638</th>\n",
       "      <td>Q8NEL0</td>\n",
       "      <td>0.017471</td>\n",
       "    </tr>\n",
       "    <tr>\n",
       "      <th>11639</th>\n",
       "      <td>Q8NEL9</td>\n",
       "      <td>0.019509</td>\n",
       "    </tr>\n",
       "  </tbody>\n",
       "</table>\n",
       "<p>11640 rows × 2 columns</p>\n",
       "</div>"
      ],
      "text/plain": [
       "      Unnamed: 0  GO1990904_ribonucleoprotein_complex\n",
       "0         Q5VTL8                             0.031361\n",
       "1         Q5VTQ0                             0.011377\n",
       "2         Q5VTR2                             0.028818\n",
       "3         Q5VUJ6                             0.027855\n",
       "4         Q5VUM1                             0.045922\n",
       "...          ...                                  ...\n",
       "11635     Q8NEH6                             0.030196\n",
       "11636     Q8NEJ9                             0.085473\n",
       "11637     Q8NEK5                             0.016681\n",
       "11638     Q8NEL0                             0.017471\n",
       "11639     Q8NEL9                             0.019509\n",
       "\n",
       "[11640 rows x 2 columns]"
      ]
     },
     "execution_count": 24,
     "metadata": {},
     "output_type": "execute_result"
    }
   ],
   "source": [
    "df = pd.read_csv(\"../statistics_data/GO1990904_ribonucleoprotein_complex_ Pred_df.csv\")\n",
    "df"
   ]
  },
  {
   "cell_type": "code",
   "execution_count": 25,
   "id": "cc00697f",
   "metadata": {},
   "outputs": [
    {
     "data": {
      "text/html": [
       "<div>\n",
       "<style scoped>\n",
       "    .dataframe tbody tr th:only-of-type {\n",
       "        vertical-align: middle;\n",
       "    }\n",
       "\n",
       "    .dataframe tbody tr th {\n",
       "        vertical-align: top;\n",
       "    }\n",
       "\n",
       "    .dataframe thead th {\n",
       "        text-align: right;\n",
       "    }\n",
       "</style>\n",
       "<table border=\"1\" class=\"dataframe\">\n",
       "  <thead>\n",
       "    <tr style=\"text-align: right;\">\n",
       "      <th></th>\n",
       "      <th>Unnamed: 0</th>\n",
       "      <th>GO1990904_ribonucleoprotein_complex</th>\n",
       "      <th>Rank</th>\n",
       "    </tr>\n",
       "  </thead>\n",
       "  <tbody>\n",
       "    <tr>\n",
       "      <th>10296</th>\n",
       "      <td>Q14152</td>\n",
       "      <td>0.415230</td>\n",
       "      <td>1.0</td>\n",
       "    </tr>\n",
       "    <tr>\n",
       "      <th>3843</th>\n",
       "      <td>P08621</td>\n",
       "      <td>0.331117</td>\n",
       "      <td>2.0</td>\n",
       "    </tr>\n",
       "    <tr>\n",
       "      <th>8143</th>\n",
       "      <td>Q9Y3X0</td>\n",
       "      <td>0.319006</td>\n",
       "      <td>3.0</td>\n",
       "    </tr>\n",
       "    <tr>\n",
       "      <th>4263</th>\n",
       "      <td>P23588</td>\n",
       "      <td>0.302760</td>\n",
       "      <td>4.0</td>\n",
       "    </tr>\n",
       "    <tr>\n",
       "      <th>8018</th>\n",
       "      <td>Q9UPT8</td>\n",
       "      <td>0.258572</td>\n",
       "      <td>5.0</td>\n",
       "    </tr>\n",
       "    <tr>\n",
       "      <th>11178</th>\n",
       "      <td>Q86VM9</td>\n",
       "      <td>0.214887</td>\n",
       "      <td>6.0</td>\n",
       "    </tr>\n",
       "    <tr>\n",
       "      <th>10403</th>\n",
       "      <td>Q15424</td>\n",
       "      <td>0.210464</td>\n",
       "      <td>7.0</td>\n",
       "    </tr>\n",
       "    <tr>\n",
       "      <th>11593</th>\n",
       "      <td>Q8NC51</td>\n",
       "      <td>0.208521</td>\n",
       "      <td>8.0</td>\n",
       "    </tr>\n",
       "    <tr>\n",
       "      <th>7062</th>\n",
       "      <td>Q9H1E3</td>\n",
       "      <td>0.203369</td>\n",
       "      <td>9.0</td>\n",
       "    </tr>\n",
       "    <tr>\n",
       "      <th>7898</th>\n",
       "      <td>Q9UKV3</td>\n",
       "      <td>0.202179</td>\n",
       "      <td>10.0</td>\n",
       "    </tr>\n",
       "    <tr>\n",
       "      <th>8473</th>\n",
       "      <td>Q6PD62</td>\n",
       "      <td>0.197866</td>\n",
       "      <td>11.0</td>\n",
       "    </tr>\n",
       "    <tr>\n",
       "      <th>10475</th>\n",
       "      <td>Q16560</td>\n",
       "      <td>0.193249</td>\n",
       "      <td>12.0</td>\n",
       "    </tr>\n",
       "    <tr>\n",
       "      <th>2194</th>\n",
       "      <td>Q9NWH9</td>\n",
       "      <td>0.192585</td>\n",
       "      <td>13.0</td>\n",
       "    </tr>\n",
       "    <tr>\n",
       "      <th>8099</th>\n",
       "      <td>Q9Y2W1</td>\n",
       "      <td>0.189537</td>\n",
       "      <td>14.0</td>\n",
       "    </tr>\n",
       "    <tr>\n",
       "      <th>9308</th>\n",
       "      <td>P14317</td>\n",
       "      <td>0.176265</td>\n",
       "      <td>15.0</td>\n",
       "    </tr>\n",
       "    <tr>\n",
       "      <th>11092</th>\n",
       "      <td>Q7Z4V5</td>\n",
       "      <td>0.175898</td>\n",
       "      <td>16.0</td>\n",
       "    </tr>\n",
       "    <tr>\n",
       "      <th>763</th>\n",
       "      <td>Q8WVS4</td>\n",
       "      <td>0.171002</td>\n",
       "      <td>17.0</td>\n",
       "    </tr>\n",
       "    <tr>\n",
       "      <th>10246</th>\n",
       "      <td>Q13427</td>\n",
       "      <td>0.165595</td>\n",
       "      <td>18.0</td>\n",
       "    </tr>\n",
       "    <tr>\n",
       "      <th>6624</th>\n",
       "      <td>Q96T23</td>\n",
       "      <td>0.165434</td>\n",
       "      <td>19.0</td>\n",
       "    </tr>\n",
       "    <tr>\n",
       "      <th>10647</th>\n",
       "      <td>Q5C9Z4</td>\n",
       "      <td>0.164796</td>\n",
       "      <td>20.0</td>\n",
       "    </tr>\n",
       "  </tbody>\n",
       "</table>\n",
       "</div>"
      ],
      "text/plain": [
       "      Unnamed: 0  GO1990904_ribonucleoprotein_complex  Rank\n",
       "10296     Q14152                             0.415230   1.0\n",
       "3843      P08621                             0.331117   2.0\n",
       "8143      Q9Y3X0                             0.319006   3.0\n",
       "4263      P23588                             0.302760   4.0\n",
       "8018      Q9UPT8                             0.258572   5.0\n",
       "11178     Q86VM9                             0.214887   6.0\n",
       "10403     Q15424                             0.210464   7.0\n",
       "11593     Q8NC51                             0.208521   8.0\n",
       "7062      Q9H1E3                             0.203369   9.0\n",
       "7898      Q9UKV3                             0.202179  10.0\n",
       "8473      Q6PD62                             0.197866  11.0\n",
       "10475     Q16560                             0.193249  12.0\n",
       "2194      Q9NWH9                             0.192585  13.0\n",
       "8099      Q9Y2W1                             0.189537  14.0\n",
       "9308      P14317                             0.176265  15.0\n",
       "11092     Q7Z4V5                             0.175898  16.0\n",
       "763       Q8WVS4                             0.171002  17.0\n",
       "10246     Q13427                             0.165595  18.0\n",
       "6624      Q96T23                             0.165434  19.0\n",
       "10647     Q5C9Z4                             0.164796  20.0"
      ]
     },
     "execution_count": 25,
     "metadata": {},
     "output_type": "execute_result"
    }
   ],
   "source": [
    "df[\"Rank\"] = df[\"GO1990904_ribonucleoprotein_complex\"].rank(ascending=False) \n",
    "df = df.sort_values(\"Rank\")\n",
    "df = df.head(20)\n",
    "df"
   ]
  },
  {
   "cell_type": "code",
   "execution_count": 26,
   "id": "a7e9ff74",
   "metadata": {},
   "outputs": [
    {
     "data": {
      "text/plain": [
       "array([10296,  3843,  8143,  4263,  8018, 11178, 10403, 11593,  7062,\n",
       "        7898,  8473, 10475,  2194,  8099,  9308, 11092,   763, 10246,\n",
       "        6624, 10647])"
      ]
     },
     "execution_count": 26,
     "metadata": {},
     "output_type": "execute_result"
    }
   ],
   "source": [
    "df.index.values"
   ]
  },
  {
   "cell_type": "code",
   "execution_count": null,
   "id": "57915bf3",
   "metadata": {},
   "outputs": [],
   "source": []
  },
  {
   "cell_type": "code",
   "execution_count": null,
   "id": "66fd21d9",
   "metadata": {},
   "outputs": [],
   "source": []
  },
  {
   "cell_type": "code",
   "execution_count": null,
   "id": "fad99bbe",
   "metadata": {},
   "outputs": [],
   "source": []
  }
 ],
 "metadata": {
  "kernelspec": {
   "display_name": "Python 3 (ipykernel)",
   "language": "python",
   "name": "python3"
  },
  "language_info": {
   "codemirror_mode": {
    "name": "ipython",
    "version": 3
   },
   "file_extension": ".py",
   "mimetype": "text/x-python",
   "name": "python",
   "nbconvert_exporter": "python",
   "pygments_lexer": "ipython3",
   "version": "3.10.6"
  }
 },
 "nbformat": 4,
 "nbformat_minor": 5
}
